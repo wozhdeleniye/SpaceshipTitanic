{
 "cells": [
  {
   "cell_type": "code",
   "execution_count": 1,
   "id": "initial_id",
   "metadata": {
    "collapsed": true,
    "ExecuteTime": {
     "end_time": "2024-03-17T16:12:37.714129100Z",
     "start_time": "2024-03-17T16:12:36.086202600Z"
    }
   },
   "outputs": [],
   "source": [
    "import pandas as pd\n",
    "\n",
    "import seaborn as sns\n",
    "import matplotlib.pyplot as plt\n",
    "%matplotlib inline\n",
    "\n",
    "\n",
    "from sklearn.preprocessing import LabelEncoder"
   ]
  },
  {
   "cell_type": "code",
   "outputs": [],
   "source": [
    "train_df = pd.read_csv('train.csv')\n",
    "test_df = pd.read_csv('test.csv')\n",
    "combine = [train_df, test_df]"
   ],
   "metadata": {
    "collapsed": false,
    "ExecuteTime": {
     "end_time": "2024-03-17T16:12:37.804351500Z",
     "start_time": "2024-03-17T16:12:37.713129200Z"
    }
   },
   "id": "b5e2c094fae21443",
   "execution_count": 2
  },
  {
   "cell_type": "code",
   "outputs": [
    {
     "name": "stdout",
     "output_type": "stream",
     "text": [
      "['PassengerId' 'HomePlanet' 'CryoSleep' 'Cabin' 'Destination' 'Age' 'VIP'\n",
      " 'RoomService' 'FoodCourt' 'ShoppingMall' 'Spa' 'VRDeck' 'Name'\n",
      " 'Transported']\n"
     ]
    }
   ],
   "source": [
    "print(train_df.columns.values)"
   ],
   "metadata": {
    "collapsed": false,
    "ExecuteTime": {
     "end_time": "2024-03-17T16:12:37.827943300Z",
     "start_time": "2024-03-17T16:12:37.806868300Z"
    }
   },
   "id": "f492a8eed3602103",
   "execution_count": 3
  },
  {
   "cell_type": "code",
   "outputs": [
    {
     "data": {
      "text/plain": "PassengerId      object\nHomePlanet       object\nCryoSleep        object\nCabin            object\nDestination      object\nAge             float64\nVIP              object\nRoomService     float64\nFoodCourt       float64\nShoppingMall    float64\nSpa             float64\nVRDeck          float64\nName             object\nTransported        bool\ndtype: object"
     },
     "execution_count": 4,
     "metadata": {},
     "output_type": "execute_result"
    }
   ],
   "source": [
    "train_df.dtypes"
   ],
   "metadata": {
    "collapsed": false,
    "ExecuteTime": {
     "end_time": "2024-03-17T16:12:37.915542900Z",
     "start_time": "2024-03-17T16:12:37.822420400Z"
    }
   },
   "id": "6cf88399cb927659",
   "execution_count": 4
  },
  {
   "cell_type": "code",
   "outputs": [
    {
     "data": {
      "text/plain": "  PassengerId HomePlanet CryoSleep  Cabin  Destination   Age    VIP  \\\n0     0001_01     Europa     False  B/0/P  TRAPPIST-1e  39.0  False   \n1     0002_01      Earth     False  F/0/S  TRAPPIST-1e  24.0  False   \n2     0003_01     Europa     False  A/0/S  TRAPPIST-1e  58.0   True   \n3     0003_02     Europa     False  A/0/S  TRAPPIST-1e  33.0  False   \n4     0004_01      Earth     False  F/1/S  TRAPPIST-1e  16.0  False   \n\n   RoomService  FoodCourt  ShoppingMall     Spa  VRDeck               Name  \\\n0          0.0        0.0           0.0     0.0     0.0    Maham Ofracculy   \n1        109.0        9.0          25.0   549.0    44.0       Juanna Vines   \n2         43.0     3576.0           0.0  6715.0    49.0      Altark Susent   \n3          0.0     1283.0         371.0  3329.0   193.0       Solam Susent   \n4        303.0       70.0         151.0   565.0     2.0  Willy Santantines   \n\n   Transported  \n0        False  \n1         True  \n2        False  \n3        False  \n4         True  ",
      "text/html": "<div>\n<style scoped>\n    .dataframe tbody tr th:only-of-type {\n        vertical-align: middle;\n    }\n\n    .dataframe tbody tr th {\n        vertical-align: top;\n    }\n\n    .dataframe thead th {\n        text-align: right;\n    }\n</style>\n<table border=\"1\" class=\"dataframe\">\n  <thead>\n    <tr style=\"text-align: right;\">\n      <th></th>\n      <th>PassengerId</th>\n      <th>HomePlanet</th>\n      <th>CryoSleep</th>\n      <th>Cabin</th>\n      <th>Destination</th>\n      <th>Age</th>\n      <th>VIP</th>\n      <th>RoomService</th>\n      <th>FoodCourt</th>\n      <th>ShoppingMall</th>\n      <th>Spa</th>\n      <th>VRDeck</th>\n      <th>Name</th>\n      <th>Transported</th>\n    </tr>\n  </thead>\n  <tbody>\n    <tr>\n      <th>0</th>\n      <td>0001_01</td>\n      <td>Europa</td>\n      <td>False</td>\n      <td>B/0/P</td>\n      <td>TRAPPIST-1e</td>\n      <td>39.0</td>\n      <td>False</td>\n      <td>0.0</td>\n      <td>0.0</td>\n      <td>0.0</td>\n      <td>0.0</td>\n      <td>0.0</td>\n      <td>Maham Ofracculy</td>\n      <td>False</td>\n    </tr>\n    <tr>\n      <th>1</th>\n      <td>0002_01</td>\n      <td>Earth</td>\n      <td>False</td>\n      <td>F/0/S</td>\n      <td>TRAPPIST-1e</td>\n      <td>24.0</td>\n      <td>False</td>\n      <td>109.0</td>\n      <td>9.0</td>\n      <td>25.0</td>\n      <td>549.0</td>\n      <td>44.0</td>\n      <td>Juanna Vines</td>\n      <td>True</td>\n    </tr>\n    <tr>\n      <th>2</th>\n      <td>0003_01</td>\n      <td>Europa</td>\n      <td>False</td>\n      <td>A/0/S</td>\n      <td>TRAPPIST-1e</td>\n      <td>58.0</td>\n      <td>True</td>\n      <td>43.0</td>\n      <td>3576.0</td>\n      <td>0.0</td>\n      <td>6715.0</td>\n      <td>49.0</td>\n      <td>Altark Susent</td>\n      <td>False</td>\n    </tr>\n    <tr>\n      <th>3</th>\n      <td>0003_02</td>\n      <td>Europa</td>\n      <td>False</td>\n      <td>A/0/S</td>\n      <td>TRAPPIST-1e</td>\n      <td>33.0</td>\n      <td>False</td>\n      <td>0.0</td>\n      <td>1283.0</td>\n      <td>371.0</td>\n      <td>3329.0</td>\n      <td>193.0</td>\n      <td>Solam Susent</td>\n      <td>False</td>\n    </tr>\n    <tr>\n      <th>4</th>\n      <td>0004_01</td>\n      <td>Earth</td>\n      <td>False</td>\n      <td>F/1/S</td>\n      <td>TRAPPIST-1e</td>\n      <td>16.0</td>\n      <td>False</td>\n      <td>303.0</td>\n      <td>70.0</td>\n      <td>151.0</td>\n      <td>565.0</td>\n      <td>2.0</td>\n      <td>Willy Santantines</td>\n      <td>True</td>\n    </tr>\n  </tbody>\n</table>\n</div>"
     },
     "execution_count": 5,
     "metadata": {},
     "output_type": "execute_result"
    }
   ],
   "source": [
    "train_df.head()"
   ],
   "metadata": {
    "collapsed": false,
    "ExecuteTime": {
     "end_time": "2024-03-17T16:12:37.948658600Z",
     "start_time": "2024-03-17T16:12:37.842464800Z"
    }
   },
   "id": "4794478c4a059404",
   "execution_count": 5
  },
  {
   "cell_type": "code",
   "outputs": [
    {
     "data": {
      "text/plain": "     PassengerId HomePlanet CryoSleep     Cabin    Destination   Age    VIP  \\\n8688     9276_01     Europa     False    A/98/P    55 Cancri e  41.0   True   \n8689     9278_01      Earth      True  G/1499/S  PSO J318.5-22  18.0  False   \n8690     9279_01      Earth     False  G/1500/S    TRAPPIST-1e  26.0  False   \n8691     9280_01     Europa     False   E/608/S    55 Cancri e  32.0  False   \n8692     9280_02     Europa     False   E/608/S    TRAPPIST-1e  44.0  False   \n\n      RoomService  FoodCourt  ShoppingMall     Spa  VRDeck               Name  \\\n8688          0.0     6819.0           0.0  1643.0    74.0  Gravior Noxnuther   \n8689          0.0        0.0           0.0     0.0     0.0    Kurta Mondalley   \n8690          0.0        0.0        1872.0     1.0     0.0       Fayey Connon   \n8691          0.0     1049.0           0.0   353.0  3235.0   Celeon Hontichre   \n8692        126.0     4688.0           0.0     0.0    12.0   Propsh Hontichre   \n\n      Transported  \n8688        False  \n8689        False  \n8690         True  \n8691        False  \n8692         True  ",
      "text/html": "<div>\n<style scoped>\n    .dataframe tbody tr th:only-of-type {\n        vertical-align: middle;\n    }\n\n    .dataframe tbody tr th {\n        vertical-align: top;\n    }\n\n    .dataframe thead th {\n        text-align: right;\n    }\n</style>\n<table border=\"1\" class=\"dataframe\">\n  <thead>\n    <tr style=\"text-align: right;\">\n      <th></th>\n      <th>PassengerId</th>\n      <th>HomePlanet</th>\n      <th>CryoSleep</th>\n      <th>Cabin</th>\n      <th>Destination</th>\n      <th>Age</th>\n      <th>VIP</th>\n      <th>RoomService</th>\n      <th>FoodCourt</th>\n      <th>ShoppingMall</th>\n      <th>Spa</th>\n      <th>VRDeck</th>\n      <th>Name</th>\n      <th>Transported</th>\n    </tr>\n  </thead>\n  <tbody>\n    <tr>\n      <th>8688</th>\n      <td>9276_01</td>\n      <td>Europa</td>\n      <td>False</td>\n      <td>A/98/P</td>\n      <td>55 Cancri e</td>\n      <td>41.0</td>\n      <td>True</td>\n      <td>0.0</td>\n      <td>6819.0</td>\n      <td>0.0</td>\n      <td>1643.0</td>\n      <td>74.0</td>\n      <td>Gravior Noxnuther</td>\n      <td>False</td>\n    </tr>\n    <tr>\n      <th>8689</th>\n      <td>9278_01</td>\n      <td>Earth</td>\n      <td>True</td>\n      <td>G/1499/S</td>\n      <td>PSO J318.5-22</td>\n      <td>18.0</td>\n      <td>False</td>\n      <td>0.0</td>\n      <td>0.0</td>\n      <td>0.0</td>\n      <td>0.0</td>\n      <td>0.0</td>\n      <td>Kurta Mondalley</td>\n      <td>False</td>\n    </tr>\n    <tr>\n      <th>8690</th>\n      <td>9279_01</td>\n      <td>Earth</td>\n      <td>False</td>\n      <td>G/1500/S</td>\n      <td>TRAPPIST-1e</td>\n      <td>26.0</td>\n      <td>False</td>\n      <td>0.0</td>\n      <td>0.0</td>\n      <td>1872.0</td>\n      <td>1.0</td>\n      <td>0.0</td>\n      <td>Fayey Connon</td>\n      <td>True</td>\n    </tr>\n    <tr>\n      <th>8691</th>\n      <td>9280_01</td>\n      <td>Europa</td>\n      <td>False</td>\n      <td>E/608/S</td>\n      <td>55 Cancri e</td>\n      <td>32.0</td>\n      <td>False</td>\n      <td>0.0</td>\n      <td>1049.0</td>\n      <td>0.0</td>\n      <td>353.0</td>\n      <td>3235.0</td>\n      <td>Celeon Hontichre</td>\n      <td>False</td>\n    </tr>\n    <tr>\n      <th>8692</th>\n      <td>9280_02</td>\n      <td>Europa</td>\n      <td>False</td>\n      <td>E/608/S</td>\n      <td>TRAPPIST-1e</td>\n      <td>44.0</td>\n      <td>False</td>\n      <td>126.0</td>\n      <td>4688.0</td>\n      <td>0.0</td>\n      <td>0.0</td>\n      <td>12.0</td>\n      <td>Propsh Hontichre</td>\n      <td>True</td>\n    </tr>\n  </tbody>\n</table>\n</div>"
     },
     "execution_count": 6,
     "metadata": {},
     "output_type": "execute_result"
    }
   ],
   "source": [
    "train_df.tail()"
   ],
   "metadata": {
    "collapsed": false,
    "ExecuteTime": {
     "end_time": "2024-03-17T16:12:37.991750800Z",
     "start_time": "2024-03-17T16:12:37.870047Z"
    }
   },
   "id": "3323a83739711bb9",
   "execution_count": 6
  },
  {
   "cell_type": "code",
   "outputs": [
    {
     "data": {
      "text/plain": "PassengerId       0\nHomePlanet      201\nCryoSleep       217\nCabin           199\nDestination     182\nAge             179\nVIP             203\nRoomService     181\nFoodCourt       183\nShoppingMall    208\nSpa             183\nVRDeck          188\nName            200\nTransported       0\ndtype: int64"
     },
     "execution_count": 7,
     "metadata": {},
     "output_type": "execute_result"
    }
   ],
   "source": [
    "train_df.isnull().sum()"
   ],
   "metadata": {
    "collapsed": false,
    "ExecuteTime": {
     "end_time": "2024-03-17T16:12:38.018352900Z",
     "start_time": "2024-03-17T16:12:37.906018400Z"
    }
   },
   "id": "b02da01e357bae3d",
   "execution_count": 7
  },
  {
   "cell_type": "code",
   "outputs": [
    {
     "data": {
      "text/plain": "2324"
     },
     "execution_count": 8,
     "metadata": {},
     "output_type": "execute_result"
    }
   ],
   "source": [
    "train_df.isnull().sum().sum()"
   ],
   "metadata": {
    "collapsed": false,
    "ExecuteTime": {
     "end_time": "2024-03-17T16:12:38.044400Z",
     "start_time": "2024-03-17T16:12:37.937115600Z"
    }
   },
   "id": "5da11e94cf58d231",
   "execution_count": 8
  },
  {
   "cell_type": "code",
   "outputs": [
    {
     "data": {
      "text/plain": "PassengerId       0\nHomePlanet       87\nCryoSleep        93\nCabin           100\nDestination      92\nAge              91\nVIP              93\nRoomService      82\nFoodCourt       106\nShoppingMall     98\nSpa             101\nVRDeck           80\nName             94\ndtype: int64"
     },
     "execution_count": 9,
     "metadata": {},
     "output_type": "execute_result"
    }
   ],
   "source": [
    "test_df.isnull().sum()"
   ],
   "metadata": {
    "collapsed": false,
    "ExecuteTime": {
     "end_time": "2024-03-17T16:12:38.213452700Z",
     "start_time": "2024-03-17T16:12:37.967700600Z"
    }
   },
   "id": "4516bfd1281c09cc",
   "execution_count": 9
  },
  {
   "cell_type": "code",
   "outputs": [
    {
     "data": {
      "text/plain": "1117"
     },
     "execution_count": 10,
     "metadata": {},
     "output_type": "execute_result"
    }
   ],
   "source": [
    "test_df.isnull().sum().sum()"
   ],
   "metadata": {
    "collapsed": false,
    "ExecuteTime": {
     "end_time": "2024-03-17T16:12:38.238038700Z",
     "start_time": "2024-03-17T16:12:38.001315500Z"
    }
   },
   "id": "7f3daa456f147df9",
   "execution_count": 10
  },
  {
   "cell_type": "code",
   "outputs": [
    {
     "name": "stdout",
     "output_type": "stream",
     "text": [
      "<class 'pandas.core.frame.DataFrame'>\n",
      "RangeIndex: 8693 entries, 0 to 8692\n",
      "Data columns (total 14 columns):\n",
      " #   Column        Non-Null Count  Dtype  \n",
      "---  ------        --------------  -----  \n",
      " 0   PassengerId   8693 non-null   object \n",
      " 1   HomePlanet    8492 non-null   object \n",
      " 2   CryoSleep     8476 non-null   object \n",
      " 3   Cabin         8494 non-null   object \n",
      " 4   Destination   8511 non-null   object \n",
      " 5   Age           8514 non-null   float64\n",
      " 6   VIP           8490 non-null   object \n",
      " 7   RoomService   8512 non-null   float64\n",
      " 8   FoodCourt     8510 non-null   float64\n",
      " 9   ShoppingMall  8485 non-null   float64\n",
      " 10  Spa           8510 non-null   float64\n",
      " 11  VRDeck        8505 non-null   float64\n",
      " 12  Name          8493 non-null   object \n",
      " 13  Transported   8693 non-null   bool   \n",
      "dtypes: bool(1), float64(6), object(7)\n",
      "memory usage: 891.5+ KB\n",
      "________________________________________\n",
      "<class 'pandas.core.frame.DataFrame'>\n",
      "RangeIndex: 4277 entries, 0 to 4276\n",
      "Data columns (total 13 columns):\n",
      " #   Column        Non-Null Count  Dtype  \n",
      "---  ------        --------------  -----  \n",
      " 0   PassengerId   4277 non-null   object \n",
      " 1   HomePlanet    4190 non-null   object \n",
      " 2   CryoSleep     4184 non-null   object \n",
      " 3   Cabin         4177 non-null   object \n",
      " 4   Destination   4185 non-null   object \n",
      " 5   Age           4186 non-null   float64\n",
      " 6   VIP           4184 non-null   object \n",
      " 7   RoomService   4195 non-null   float64\n",
      " 8   FoodCourt     4171 non-null   float64\n",
      " 9   ShoppingMall  4179 non-null   float64\n",
      " 10  Spa           4176 non-null   float64\n",
      " 11  VRDeck        4197 non-null   float64\n",
      " 12  Name          4183 non-null   object \n",
      "dtypes: float64(6), object(7)\n",
      "memory usage: 434.5+ KB\n"
     ]
    }
   ],
   "source": [
    "train_df.info()\n",
    "print('_'*40)\n",
    "test_df.info()"
   ],
   "metadata": {
    "collapsed": false,
    "ExecuteTime": {
     "end_time": "2024-03-17T16:12:38.283151700Z",
     "start_time": "2024-03-17T16:12:38.025859Z"
    }
   },
   "id": "5cf1dcc0a9aa8699",
   "execution_count": 11
  },
  {
   "cell_type": "code",
   "outputs": [
    {
     "data": {
      "text/plain": "               Age   RoomService     FoodCourt  ShoppingMall           Spa  \\\ncount  8514.000000   8512.000000   8510.000000   8485.000000   8510.000000   \nmean     28.827930    224.687617    458.077203    173.729169    311.138778   \nstd      14.489021    666.717663   1611.489240    604.696458   1136.705535   \nmin       0.000000      0.000000      0.000000      0.000000      0.000000   \n25%      19.000000      0.000000      0.000000      0.000000      0.000000   \n50%      27.000000      0.000000      0.000000      0.000000      0.000000   \n75%      38.000000     47.000000     76.000000     27.000000     59.000000   \nmax      79.000000  14327.000000  29813.000000  23492.000000  22408.000000   \n\n             VRDeck  \ncount   8505.000000  \nmean     304.854791  \nstd     1145.717189  \nmin        0.000000  \n25%        0.000000  \n50%        0.000000  \n75%       46.000000  \nmax    24133.000000  ",
      "text/html": "<div>\n<style scoped>\n    .dataframe tbody tr th:only-of-type {\n        vertical-align: middle;\n    }\n\n    .dataframe tbody tr th {\n        vertical-align: top;\n    }\n\n    .dataframe thead th {\n        text-align: right;\n    }\n</style>\n<table border=\"1\" class=\"dataframe\">\n  <thead>\n    <tr style=\"text-align: right;\">\n      <th></th>\n      <th>Age</th>\n      <th>RoomService</th>\n      <th>FoodCourt</th>\n      <th>ShoppingMall</th>\n      <th>Spa</th>\n      <th>VRDeck</th>\n    </tr>\n  </thead>\n  <tbody>\n    <tr>\n      <th>count</th>\n      <td>8514.000000</td>\n      <td>8512.000000</td>\n      <td>8510.000000</td>\n      <td>8485.000000</td>\n      <td>8510.000000</td>\n      <td>8505.000000</td>\n    </tr>\n    <tr>\n      <th>mean</th>\n      <td>28.827930</td>\n      <td>224.687617</td>\n      <td>458.077203</td>\n      <td>173.729169</td>\n      <td>311.138778</td>\n      <td>304.854791</td>\n    </tr>\n    <tr>\n      <th>std</th>\n      <td>14.489021</td>\n      <td>666.717663</td>\n      <td>1611.489240</td>\n      <td>604.696458</td>\n      <td>1136.705535</td>\n      <td>1145.717189</td>\n    </tr>\n    <tr>\n      <th>min</th>\n      <td>0.000000</td>\n      <td>0.000000</td>\n      <td>0.000000</td>\n      <td>0.000000</td>\n      <td>0.000000</td>\n      <td>0.000000</td>\n    </tr>\n    <tr>\n      <th>25%</th>\n      <td>19.000000</td>\n      <td>0.000000</td>\n      <td>0.000000</td>\n      <td>0.000000</td>\n      <td>0.000000</td>\n      <td>0.000000</td>\n    </tr>\n    <tr>\n      <th>50%</th>\n      <td>27.000000</td>\n      <td>0.000000</td>\n      <td>0.000000</td>\n      <td>0.000000</td>\n      <td>0.000000</td>\n      <td>0.000000</td>\n    </tr>\n    <tr>\n      <th>75%</th>\n      <td>38.000000</td>\n      <td>47.000000</td>\n      <td>76.000000</td>\n      <td>27.000000</td>\n      <td>59.000000</td>\n      <td>46.000000</td>\n    </tr>\n    <tr>\n      <th>max</th>\n      <td>79.000000</td>\n      <td>14327.000000</td>\n      <td>29813.000000</td>\n      <td>23492.000000</td>\n      <td>22408.000000</td>\n      <td>24133.000000</td>\n    </tr>\n  </tbody>\n</table>\n</div>"
     },
     "execution_count": 12,
     "metadata": {},
     "output_type": "execute_result"
    }
   ],
   "source": [
    "train_df.describe()"
   ],
   "metadata": {
    "collapsed": false,
    "ExecuteTime": {
     "end_time": "2024-03-17T16:12:38.324308100Z",
     "start_time": "2024-03-17T16:12:38.073958800Z"
    }
   },
   "id": "bc03975003c8dc5d",
   "execution_count": 12
  },
  {
   "cell_type": "code",
   "outputs": [
    {
     "data": {
      "text/plain": "       PassengerId HomePlanet CryoSleep    Cabin  Destination    VIP  \\\ncount         8693       8492      8476     8494         8511   8490   \nunique        8693          3         2     6560            3      2   \ntop        0001_01      Earth     False  G/734/S  TRAPPIST-1e  False   \nfreq             1       4602      5439        8         5915   8291   \n\n                  Name  \ncount             8493  \nunique            8473  \ntop     Gollux Reedall  \nfreq                 2  ",
      "text/html": "<div>\n<style scoped>\n    .dataframe tbody tr th:only-of-type {\n        vertical-align: middle;\n    }\n\n    .dataframe tbody tr th {\n        vertical-align: top;\n    }\n\n    .dataframe thead th {\n        text-align: right;\n    }\n</style>\n<table border=\"1\" class=\"dataframe\">\n  <thead>\n    <tr style=\"text-align: right;\">\n      <th></th>\n      <th>PassengerId</th>\n      <th>HomePlanet</th>\n      <th>CryoSleep</th>\n      <th>Cabin</th>\n      <th>Destination</th>\n      <th>VIP</th>\n      <th>Name</th>\n    </tr>\n  </thead>\n  <tbody>\n    <tr>\n      <th>count</th>\n      <td>8693</td>\n      <td>8492</td>\n      <td>8476</td>\n      <td>8494</td>\n      <td>8511</td>\n      <td>8490</td>\n      <td>8493</td>\n    </tr>\n    <tr>\n      <th>unique</th>\n      <td>8693</td>\n      <td>3</td>\n      <td>2</td>\n      <td>6560</td>\n      <td>3</td>\n      <td>2</td>\n      <td>8473</td>\n    </tr>\n    <tr>\n      <th>top</th>\n      <td>0001_01</td>\n      <td>Earth</td>\n      <td>False</td>\n      <td>G/734/S</td>\n      <td>TRAPPIST-1e</td>\n      <td>False</td>\n      <td>Gollux Reedall</td>\n    </tr>\n    <tr>\n      <th>freq</th>\n      <td>1</td>\n      <td>4602</td>\n      <td>5439</td>\n      <td>8</td>\n      <td>5915</td>\n      <td>8291</td>\n      <td>2</td>\n    </tr>\n  </tbody>\n</table>\n</div>"
     },
     "execution_count": 13,
     "metadata": {},
     "output_type": "execute_result"
    }
   ],
   "source": [
    "train_df.describe(include=['O'])"
   ],
   "metadata": {
    "collapsed": false,
    "ExecuteTime": {
     "end_time": "2024-03-17T16:12:38.400966200Z",
     "start_time": "2024-03-17T16:12:38.120688Z"
    }
   },
   "id": "3ee70fdc403b12f5",
   "execution_count": 13
  },
  {
   "cell_type": "code",
   "outputs": [],
   "source": [
    "pd.set_option('future.no_silent_downcasting', True)\n",
    "def replace_mode(table, column):\n",
    "    val = table[column].mode()[0]\n",
    "    table[column] = table[column].fillna(val)\n",
    "    \n",
    "def replace_median(table, column):\n",
    "    val = table[column].median()\n",
    "    table[column] = table[column].fillna(val)\n",
    "\n",
    "for dataset in combine:\n",
    "    replace_median(dataset, 'Age')\n",
    "    replace_median(dataset, 'RoomService')\n",
    "    replace_median(dataset, 'FoodCourt')\n",
    "    replace_median(dataset, 'ShoppingMall')\n",
    "    replace_median(dataset, 'Spa')\n",
    "    replace_median(dataset, 'VRDeck')\n",
    "    \n",
    "    replace_mode(dataset, 'HomePlanet')\n",
    "    replace_mode(dataset, 'CryoSleep')\n",
    "    replace_mode(dataset, 'Destination')\n",
    "    replace_mode(dataset, 'VIP')\n",
    "\n"
   ],
   "metadata": {
    "collapsed": false,
    "ExecuteTime": {
     "end_time": "2024-03-17T16:12:38.427527100Z",
     "start_time": "2024-03-17T16:12:38.183368800Z"
    }
   },
   "id": "80a91090f980318c",
   "execution_count": 14
  },
  {
   "cell_type": "code",
   "outputs": [
    {
     "data": {
      "text/plain": "PassengerId       0\nHomePlanet        0\nCryoSleep         0\nCabin           199\nDestination       0\nAge               0\nVIP               0\nRoomService       0\nFoodCourt         0\nShoppingMall      0\nSpa               0\nVRDeck            0\nName            200\nTransported       0\ndtype: int64"
     },
     "execution_count": 15,
     "metadata": {},
     "output_type": "execute_result"
    }
   ],
   "source": [
    "train_df.isnull().sum()"
   ],
   "metadata": {
    "collapsed": false,
    "ExecuteTime": {
     "end_time": "2024-03-17T16:12:38.448580400Z",
     "start_time": "2024-03-17T16:12:38.231511600Z"
    }
   },
   "id": "2efd81be6ff0dab6",
   "execution_count": 15
  },
  {
   "cell_type": "code",
   "outputs": [
    {
     "data": {
      "text/plain": "PassengerId       0\nHomePlanet        0\nCryoSleep         0\nCabin           100\nDestination       0\nAge               0\nVIP               0\nRoomService       0\nFoodCourt         0\nShoppingMall      0\nSpa               0\nVRDeck            0\nName             94\ndtype: int64"
     },
     "execution_count": 16,
     "metadata": {},
     "output_type": "execute_result"
    }
   ],
   "source": [
    "test_df.isnull().sum()"
   ],
   "metadata": {
    "collapsed": false,
    "ExecuteTime": {
     "end_time": "2024-03-17T16:12:38.453580800Z",
     "start_time": "2024-03-17T16:12:38.257087100Z"
    }
   },
   "id": "e5dc6d08ffccaf2a",
   "execution_count": 16
  },
  {
   "cell_type": "code",
   "outputs": [
    {
     "data": {
      "text/plain": "<Figure size 1000x1600 with 4 Axes>",
      "image/png": "[encoded data removed]"
     },
     "metadata": {},
     "output_type": "display_data"
    }
   ],
   "source": [
    "cat_feats=['HomePlanet', 'CryoSleep', 'Destination', 'VIP']\n",
    "\n",
    "fig=plt.figure(figsize=(10,16))\n",
    "for i, var_name in enumerate(cat_feats):\n",
    "    ax=fig.add_subplot(4,1,i+1)\n",
    "    sns.countplot(data=train_df, x=var_name, axes=ax, hue='Transported')\n",
    "    ax.set_title(var_name)\n",
    "fig.tight_layout()\n",
    "plt.show()"
   ],
   "metadata": {
    "collapsed": false,
    "ExecuteTime": {
     "end_time": "2024-03-17T16:12:40.270474100Z",
     "start_time": "2024-03-17T16:12:38.280153100Z"
    }
   },
   "id": "50ad379d101aa3f7",
   "execution_count": 17
  },
  {
   "cell_type": "code",
   "outputs": [
    {
     "data": {
      "text/plain": "  HomePlanet  Transported\n1     Europa     0.658846\n2       Mars     0.523024\n0      Earth     0.427649",
      "text/html": "<div>\n<style scoped>\n    .dataframe tbody tr th:only-of-type {\n        vertical-align: middle;\n    }\n\n    .dataframe tbody tr th {\n        vertical-align: top;\n    }\n\n    .dataframe thead th {\n        text-align: right;\n    }\n</style>\n<table border=\"1\" class=\"dataframe\">\n  <thead>\n    <tr style=\"text-align: right;\">\n      <th></th>\n      <th>HomePlanet</th>\n      <th>Transported</th>\n    </tr>\n  </thead>\n  <tbody>\n    <tr>\n      <th>1</th>\n      <td>Europa</td>\n      <td>0.658846</td>\n    </tr>\n    <tr>\n      <th>2</th>\n      <td>Mars</td>\n      <td>0.523024</td>\n    </tr>\n    <tr>\n      <th>0</th>\n      <td>Earth</td>\n      <td>0.427649</td>\n    </tr>\n  </tbody>\n</table>\n</div>"
     },
     "execution_count": 18,
     "metadata": {},
     "output_type": "execute_result"
    }
   ],
   "source": [
    "train_df[['HomePlanet', 'Transported']].groupby(['HomePlanet'], as_index=False).mean().sort_values(by='Transported', ascending=False)"
   ],
   "metadata": {
    "collapsed": false,
    "ExecuteTime": {
     "end_time": "2024-03-17T16:12:40.567714800Z",
     "start_time": "2024-03-17T16:12:40.255935100Z"
    }
   },
   "id": "dc2e28f5e4b4bae9",
   "execution_count": 18
  },
  {
   "cell_type": "code",
   "outputs": [
    {
     "name": "stdout",
     "output_type": "stream",
     "text": [
      "<class 'pandas.core.frame.DataFrame'>\n",
      "RangeIndex: 8693 entries, 0 to 8692\n",
      "Data columns (total 16 columns):\n",
      " #   Column             Non-Null Count  Dtype  \n",
      "---  ------             --------------  -----  \n",
      " 0   PassengerId        8693 non-null   object \n",
      " 1   CryoSleep          8693 non-null   object \n",
      " 2   Cabin              8494 non-null   object \n",
      " 3   Destination        8693 non-null   object \n",
      " 4   Age                8693 non-null   float64\n",
      " 5   VIP                8693 non-null   object \n",
      " 6   RoomService        8693 non-null   float64\n",
      " 7   FoodCourt          8693 non-null   float64\n",
      " 8   ShoppingMall       8693 non-null   float64\n",
      " 9   Spa                8693 non-null   float64\n",
      " 10  VRDeck             8693 non-null   float64\n",
      " 11  Name               8493 non-null   object \n",
      " 12  Transported        8693 non-null   bool   \n",
      " 13  HomePlanet_Earth   8693 non-null   bool   \n",
      " 14  HomePlanet_Europa  8693 non-null   bool   \n",
      " 15  HomePlanet_Mars    8693 non-null   bool   \n",
      "dtypes: bool(4), float64(6), object(6)\n",
      "memory usage: 849.1+ KB\n"
     ]
    }
   ],
   "source": [
    "train_df = pd.get_dummies(train_df, columns = ['HomePlanet'])\n",
    "train_df.info()"
   ],
   "metadata": {
    "collapsed": false,
    "ExecuteTime": {
     "end_time": "2024-03-17T16:12:40.572714900Z",
     "start_time": "2024-03-17T16:12:40.293525700Z"
    }
   },
   "id": "3f447cbefa46e10b",
   "execution_count": 19
  },
  {
   "cell_type": "code",
   "outputs": [
    {
     "name": "stdout",
     "output_type": "stream",
     "text": [
      "<class 'pandas.core.frame.DataFrame'>\n",
      "RangeIndex: 4277 entries, 0 to 4276\n",
      "Data columns (total 15 columns):\n",
      " #   Column             Non-Null Count  Dtype  \n",
      "---  ------             --------------  -----  \n",
      " 0   PassengerId        4277 non-null   object \n",
      " 1   CryoSleep          4277 non-null   object \n",
      " 2   Cabin              4177 non-null   object \n",
      " 3   Destination        4277 non-null   object \n",
      " 4   Age                4277 non-null   float64\n",
      " 5   VIP                4277 non-null   object \n",
      " 6   RoomService        4277 non-null   float64\n",
      " 7   FoodCourt          4277 non-null   float64\n",
      " 8   ShoppingMall       4277 non-null   float64\n",
      " 9   Spa                4277 non-null   float64\n",
      " 10  VRDeck             4277 non-null   float64\n",
      " 11  Name               4183 non-null   object \n",
      " 12  HomePlanet_Earth   4277 non-null   bool   \n",
      " 13  HomePlanet_Europa  4277 non-null   bool   \n",
      " 14  HomePlanet_Mars    4277 non-null   bool   \n",
      "dtypes: bool(3), float64(6), object(6)\n",
      "memory usage: 413.6+ KB\n"
     ]
    }
   ],
   "source": [
    "test_df = pd.get_dummies(test_df,columns = ['HomePlanet'])\n",
    "combine = [train_df,test_df]\n",
    "test_df.info()"
   ],
   "metadata": {
    "collapsed": false,
    "ExecuteTime": {
     "end_time": "2024-03-17T16:12:40.655438200Z",
     "start_time": "2024-03-17T16:12:40.345646800Z"
    }
   },
   "id": "268b897c6cf672ac",
   "execution_count": 20
  },
  {
   "cell_type": "code",
   "outputs": [
    {
     "data": {
      "text/plain": "     Destination  Transported\n0    55 Cancri e     0.610000\n1  PSO J318.5-22     0.503769\n2    TRAPPIST-1e     0.472199",
      "text/html": "<div>\n<style scoped>\n    .dataframe tbody tr th:only-of-type {\n        vertical-align: middle;\n    }\n\n    .dataframe tbody tr th {\n        vertical-align: top;\n    }\n\n    .dataframe thead th {\n        text-align: right;\n    }\n</style>\n<table border=\"1\" class=\"dataframe\">\n  <thead>\n    <tr style=\"text-align: right;\">\n      <th></th>\n      <th>Destination</th>\n      <th>Transported</th>\n    </tr>\n  </thead>\n  <tbody>\n    <tr>\n      <th>0</th>\n      <td>55 Cancri e</td>\n      <td>0.610000</td>\n    </tr>\n    <tr>\n      <th>1</th>\n      <td>PSO J318.5-22</td>\n      <td>0.503769</td>\n    </tr>\n    <tr>\n      <th>2</th>\n      <td>TRAPPIST-1e</td>\n      <td>0.472199</td>\n    </tr>\n  </tbody>\n</table>\n</div>"
     },
     "execution_count": 21,
     "metadata": {},
     "output_type": "execute_result"
    }
   ],
   "source": [
    "train_df[[\"Destination\", \"Transported\"]].groupby(['Destination'], as_index=False).mean().sort_values(by='Transported', ascending=False)"
   ],
   "metadata": {
    "collapsed": false,
    "ExecuteTime": {
     "end_time": "2024-03-17T16:12:40.659454900Z",
     "start_time": "2024-03-17T16:12:40.390757600Z"
    }
   },
   "id": "93b611bae6c9ba69",
   "execution_count": 21
  },
  {
   "cell_type": "code",
   "outputs": [
    {
     "data": {
      "text/plain": "  PassengerId CryoSleep  Cabin   Age    VIP  RoomService  FoodCourt  \\\n0     0001_01     False  B/0/P  39.0  False          0.0        0.0   \n1     0002_01     False  F/0/S  24.0  False        109.0        9.0   \n2     0003_01     False  A/0/S  58.0   True         43.0     3576.0   \n3     0003_02     False  A/0/S  33.0  False          0.0     1283.0   \n4     0004_01     False  F/1/S  16.0  False        303.0       70.0   \n\n   ShoppingMall     Spa  VRDeck               Name  Transported  \\\n0           0.0     0.0     0.0    Maham Ofracculy        False   \n1          25.0   549.0    44.0       Juanna Vines         True   \n2           0.0  6715.0    49.0      Altark Susent        False   \n3         371.0  3329.0   193.0       Solam Susent        False   \n4         151.0   565.0     2.0  Willy Santantines         True   \n\n   HomePlanet_Earth  HomePlanet_Europa  HomePlanet_Mars  \\\n0             False               True            False   \n1              True              False            False   \n2             False               True            False   \n3             False               True            False   \n4              True              False            False   \n\n   Destination_55 Cancri e  Destination_PSO J318.5-22  Destination_TRAPPIST-1e  \n0                    False                      False                     True  \n1                    False                      False                     True  \n2                    False                      False                     True  \n3                    False                      False                     True  \n4                    False                      False                     True  ",
      "text/html": "<div>\n<style scoped>\n    .dataframe tbody tr th:only-of-type {\n        vertical-align: middle;\n    }\n\n    .dataframe tbody tr th {\n        vertical-align: top;\n    }\n\n    .dataframe thead th {\n        text-align: right;\n    }\n</style>\n<table border=\"1\" class=\"dataframe\">\n  <thead>\n    <tr style=\"text-align: right;\">\n      <th></th>\n      <th>PassengerId</th>\n      <th>CryoSleep</th>\n      <th>Cabin</th>\n      <th>Age</th>\n      <th>VIP</th>\n      <th>RoomService</th>\n      <th>FoodCourt</th>\n      <th>ShoppingMall</th>\n      <th>Spa</th>\n      <th>VRDeck</th>\n      <th>Name</th>\n      <th>Transported</th>\n      <th>HomePlanet_Earth</th>\n      <th>HomePlanet_Europa</th>\n      <th>HomePlanet_Mars</th>\n      <th>Destination_55 Cancri e</th>\n      <th>Destination_PSO J318.5-22</th>\n      <th>Destination_TRAPPIST-1e</th>\n    </tr>\n  </thead>\n  <tbody>\n    <tr>\n      <th>0</th>\n      <td>0001_01</td>\n      <td>False</td>\n      <td>B/0/P</td>\n      <td>39.0</td>\n      <td>False</td>\n      <td>0.0</td>\n      <td>0.0</td>\n      <td>0.0</td>\n      <td>0.0</td>\n      <td>0.0</td>\n      <td>Maham Ofracculy</td>\n      <td>False</td>\n      <td>False</td>\n      <td>True</td>\n      <td>False</td>\n      <td>False</td>\n      <td>False</td>\n      <td>True</td>\n    </tr>\n    <tr>\n      <th>1</th>\n      <td>0002_01</td>\n      <td>False</td>\n      <td>F/0/S</td>\n      <td>24.0</td>\n      <td>False</td>\n      <td>109.0</td>\n      <td>9.0</td>\n      <td>25.0</td>\n      <td>549.0</td>\n      <td>44.0</td>\n      <td>Juanna Vines</td>\n      <td>True</td>\n      <td>True</td>\n      <td>False</td>\n      <td>False</td>\n      <td>False</td>\n      <td>False</td>\n      <td>True</td>\n    </tr>\n    <tr>\n      <th>2</th>\n      <td>0003_01</td>\n      <td>False</td>\n      <td>A/0/S</td>\n      <td>58.0</td>\n      <td>True</td>\n      <td>43.0</td>\n      <td>3576.0</td>\n      <td>0.0</td>\n      <td>6715.0</td>\n      <td>49.0</td>\n      <td>Altark Susent</td>\n      <td>False</td>\n      <td>False</td>\n      <td>True</td>\n      <td>False</td>\n      <td>False</td>\n      <td>False</td>\n      <td>True</td>\n    </tr>\n    <tr>\n      <th>3</th>\n      <td>0003_02</td>\n      <td>False</td>\n      <td>A/0/S</td>\n      <td>33.0</td>\n      <td>False</td>\n      <td>0.0</td>\n      <td>1283.0</td>\n      <td>371.0</td>\n      <td>3329.0</td>\n      <td>193.0</td>\n      <td>Solam Susent</td>\n      <td>False</td>\n      <td>False</td>\n      <td>True</td>\n      <td>False</td>\n      <td>False</td>\n      <td>False</td>\n      <td>True</td>\n    </tr>\n    <tr>\n      <th>4</th>\n      <td>0004_01</td>\n      <td>False</td>\n      <td>F/1/S</td>\n      <td>16.0</td>\n      <td>False</td>\n      <td>303.0</td>\n      <td>70.0</td>\n      <td>151.0</td>\n      <td>565.0</td>\n      <td>2.0</td>\n      <td>Willy Santantines</td>\n      <td>True</td>\n      <td>True</td>\n      <td>False</td>\n      <td>False</td>\n      <td>False</td>\n      <td>False</td>\n      <td>True</td>\n    </tr>\n  </tbody>\n</table>\n</div>"
     },
     "execution_count": 22,
     "metadata": {},
     "output_type": "execute_result"
    }
   ],
   "source": [
    "train_df = pd.get_dummies(train_df,columns = ['Destination'])\n",
    "test_df = pd.get_dummies(test_df,columns = ['Destination'])\n",
    "combine = [train_df,test_df]\n",
    "train_df.head()"
   ],
   "metadata": {
    "collapsed": false,
    "ExecuteTime": {
     "end_time": "2024-03-17T16:12:40.683508300Z",
     "start_time": "2024-03-17T16:12:40.431844700Z"
    }
   },
   "id": "d553c5a253a3243",
   "execution_count": 22
  },
  {
   "cell_type": "code",
   "outputs": [
    {
     "data": {
      "text/plain": "  PassengerId CryoSleep  Cabin   Age    VIP  RoomService  FoodCourt  \\\n0     0013_01      True  G/3/S  27.0  False          0.0        0.0   \n1     0018_01     False  F/4/S  19.0  False          0.0        9.0   \n2     0019_01      True  C/0/S  31.0  False          0.0        0.0   \n3     0021_01     False  C/1/S  38.0  False          0.0     6652.0   \n4     0023_01     False  F/5/S  20.0  False         10.0        0.0   \n\n   ShoppingMall     Spa  VRDeck              Name  HomePlanet_Earth  \\\n0           0.0     0.0     0.0   Nelly Carsoning              True   \n1           0.0  2823.0     0.0    Lerome Peckers              True   \n2           0.0     0.0     0.0   Sabih Unhearfus             False   \n3           0.0   181.0   585.0  Meratz Caltilter             False   \n4         635.0     0.0     0.0   Brence Harperez              True   \n\n   HomePlanet_Europa  HomePlanet_Mars  Destination_55 Cancri e  \\\n0              False            False                    False   \n1              False            False                    False   \n2               True            False                     True   \n3               True            False                    False   \n4              False            False                    False   \n\n   Destination_PSO J318.5-22  Destination_TRAPPIST-1e  \n0                      False                     True  \n1                      False                     True  \n2                      False                    False  \n3                      False                     True  \n4                      False                     True  ",
      "text/html": "<div>\n<style scoped>\n    .dataframe tbody tr th:only-of-type {\n        vertical-align: middle;\n    }\n\n    .dataframe tbody tr th {\n        vertical-align: top;\n    }\n\n    .dataframe thead th {\n        text-align: right;\n    }\n</style>\n<table border=\"1\" class=\"dataframe\">\n  <thead>\n    <tr style=\"text-align: right;\">\n      <th></th>\n      <th>PassengerId</th>\n      <th>CryoSleep</th>\n      <th>Cabin</th>\n      <th>Age</th>\n      <th>VIP</th>\n      <th>RoomService</th>\n      <th>FoodCourt</th>\n      <th>ShoppingMall</th>\n      <th>Spa</th>\n      <th>VRDeck</th>\n      <th>Name</th>\n      <th>HomePlanet_Earth</th>\n      <th>HomePlanet_Europa</th>\n      <th>HomePlanet_Mars</th>\n      <th>Destination_55 Cancri e</th>\n      <th>Destination_PSO J318.5-22</th>\n      <th>Destination_TRAPPIST-1e</th>\n    </tr>\n  </thead>\n  <tbody>\n    <tr>\n      <th>0</th>\n      <td>0013_01</td>\n      <td>True</td>\n      <td>G/3/S</td>\n      <td>27.0</td>\n      <td>False</td>\n      <td>0.0</td>\n      <td>0.0</td>\n      <td>0.0</td>\n      <td>0.0</td>\n      <td>0.0</td>\n      <td>Nelly Carsoning</td>\n      <td>True</td>\n      <td>False</td>\n      <td>False</td>\n      <td>False</td>\n      <td>False</td>\n      <td>True</td>\n    </tr>\n    <tr>\n      <th>1</th>\n      <td>0018_01</td>\n      <td>False</td>\n      <td>F/4/S</td>\n      <td>19.0</td>\n      <td>False</td>\n      <td>0.0</td>\n      <td>9.0</td>\n      <td>0.0</td>\n      <td>2823.0</td>\n      <td>0.0</td>\n      <td>Lerome Peckers</td>\n      <td>True</td>\n      <td>False</td>\n      <td>False</td>\n      <td>False</td>\n      <td>False</td>\n      <td>True</td>\n    </tr>\n    <tr>\n      <th>2</th>\n      <td>0019_01</td>\n      <td>True</td>\n      <td>C/0/S</td>\n      <td>31.0</td>\n      <td>False</td>\n      <td>0.0</td>\n      <td>0.0</td>\n      <td>0.0</td>\n      <td>0.0</td>\n      <td>0.0</td>\n      <td>Sabih Unhearfus</td>\n      <td>False</td>\n      <td>True</td>\n      <td>False</td>\n      <td>True</td>\n      <td>False</td>\n      <td>False</td>\n    </tr>\n    <tr>\n      <th>3</th>\n      <td>0021_01</td>\n      <td>False</td>\n      <td>C/1/S</td>\n      <td>38.0</td>\n      <td>False</td>\n      <td>0.0</td>\n      <td>6652.0</td>\n      <td>0.0</td>\n      <td>181.0</td>\n      <td>585.0</td>\n      <td>Meratz Caltilter</td>\n      <td>False</td>\n      <td>True</td>\n      <td>False</td>\n      <td>False</td>\n      <td>False</td>\n      <td>True</td>\n    </tr>\n    <tr>\n      <th>4</th>\n      <td>0023_01</td>\n      <td>False</td>\n      <td>F/5/S</td>\n      <td>20.0</td>\n      <td>False</td>\n      <td>10.0</td>\n      <td>0.0</td>\n      <td>635.0</td>\n      <td>0.0</td>\n      <td>0.0</td>\n      <td>Brence Harperez</td>\n      <td>True</td>\n      <td>False</td>\n      <td>False</td>\n      <td>False</td>\n      <td>False</td>\n      <td>True</td>\n    </tr>\n  </tbody>\n</table>\n</div>"
     },
     "execution_count": 23,
     "metadata": {},
     "output_type": "execute_result"
    }
   ],
   "source": [
    "test_df.head()"
   ],
   "metadata": {
    "collapsed": false,
    "ExecuteTime": {
     "end_time": "2024-03-17T16:12:40.703562700Z",
     "start_time": "2024-03-17T16:12:40.490995200Z"
    }
   },
   "id": "8d10af055dc5cb0c",
   "execution_count": 23
  },
  {
   "cell_type": "code",
   "outputs": [
    {
     "data": {
      "text/plain": "     VIP  Transported\n0  False     0.506475\n1   True     0.381910",
      "text/html": "<div>\n<style scoped>\n    .dataframe tbody tr th:only-of-type {\n        vertical-align: middle;\n    }\n\n    .dataframe tbody tr th {\n        vertical-align: top;\n    }\n\n    .dataframe thead th {\n        text-align: right;\n    }\n</style>\n<table border=\"1\" class=\"dataframe\">\n  <thead>\n    <tr style=\"text-align: right;\">\n      <th></th>\n      <th>VIP</th>\n      <th>Transported</th>\n    </tr>\n  </thead>\n  <tbody>\n    <tr>\n      <th>0</th>\n      <td>False</td>\n      <td>0.506475</td>\n    </tr>\n    <tr>\n      <th>1</th>\n      <td>True</td>\n      <td>0.381910</td>\n    </tr>\n  </tbody>\n</table>\n</div>"
     },
     "execution_count": 24,
     "metadata": {},
     "output_type": "execute_result"
    }
   ],
   "source": [
    "train_df[[\"VIP\", \"Transported\"]].groupby(['VIP'], as_index=False).mean().sort_values(by='Transported', ascending=False)"
   ],
   "metadata": {
    "collapsed": false,
    "ExecuteTime": {
     "end_time": "2024-03-17T16:12:40.706065600Z",
     "start_time": "2024-03-17T16:12:40.524097200Z"
    }
   },
   "id": "e98b4707c2ea1725",
   "execution_count": 24
  },
  {
   "cell_type": "code",
   "outputs": [
    {
     "data": {
      "text/plain": "  PassengerId CryoSleep  Cabin   Age  VIP  RoomService  FoodCourt  \\\n0     0001_01     False  B/0/P  39.0    0          0.0        0.0   \n1     0002_01     False  F/0/S  24.0    0        109.0        9.0   \n2     0003_01     False  A/0/S  58.0    1         43.0     3576.0   \n3     0003_02     False  A/0/S  33.0    0          0.0     1283.0   \n4     0004_01     False  F/1/S  16.0    0        303.0       70.0   \n\n   ShoppingMall     Spa  VRDeck               Name  Transported  \\\n0           0.0     0.0     0.0    Maham Ofracculy        False   \n1          25.0   549.0    44.0       Juanna Vines         True   \n2           0.0  6715.0    49.0      Altark Susent        False   \n3         371.0  3329.0   193.0       Solam Susent        False   \n4         151.0   565.0     2.0  Willy Santantines         True   \n\n   HomePlanet_Earth  HomePlanet_Europa  HomePlanet_Mars  \\\n0             False               True            False   \n1              True              False            False   \n2             False               True            False   \n3             False               True            False   \n4              True              False            False   \n\n   Destination_55 Cancri e  Destination_PSO J318.5-22  Destination_TRAPPIST-1e  \n0                    False                      False                     True  \n1                    False                      False                     True  \n2                    False                      False                     True  \n3                    False                      False                     True  \n4                    False                      False                     True  ",
      "text/html": "<div>\n<style scoped>\n    .dataframe tbody tr th:only-of-type {\n        vertical-align: middle;\n    }\n\n    .dataframe tbody tr th {\n        vertical-align: top;\n    }\n\n    .dataframe thead th {\n        text-align: right;\n    }\n</style>\n<table border=\"1\" class=\"dataframe\">\n  <thead>\n    <tr style=\"text-align: right;\">\n      <th></th>\n      <th>PassengerId</th>\n      <th>CryoSleep</th>\n      <th>Cabin</th>\n      <th>Age</th>\n      <th>VIP</th>\n      <th>RoomService</th>\n      <th>FoodCourt</th>\n      <th>ShoppingMall</th>\n      <th>Spa</th>\n      <th>VRDeck</th>\n      <th>Name</th>\n      <th>Transported</th>\n      <th>HomePlanet_Earth</th>\n      <th>HomePlanet_Europa</th>\n      <th>HomePlanet_Mars</th>\n      <th>Destination_55 Cancri e</th>\n      <th>Destination_PSO J318.5-22</th>\n      <th>Destination_TRAPPIST-1e</th>\n    </tr>\n  </thead>\n  <tbody>\n    <tr>\n      <th>0</th>\n      <td>0001_01</td>\n      <td>False</td>\n      <td>B/0/P</td>\n      <td>39.0</td>\n      <td>0</td>\n      <td>0.0</td>\n      <td>0.0</td>\n      <td>0.0</td>\n      <td>0.0</td>\n      <td>0.0</td>\n      <td>Maham Ofracculy</td>\n      <td>False</td>\n      <td>False</td>\n      <td>True</td>\n      <td>False</td>\n      <td>False</td>\n      <td>False</td>\n      <td>True</td>\n    </tr>\n    <tr>\n      <th>1</th>\n      <td>0002_01</td>\n      <td>False</td>\n      <td>F/0/S</td>\n      <td>24.0</td>\n      <td>0</td>\n      <td>109.0</td>\n      <td>9.0</td>\n      <td>25.0</td>\n      <td>549.0</td>\n      <td>44.0</td>\n      <td>Juanna Vines</td>\n      <td>True</td>\n      <td>True</td>\n      <td>False</td>\n      <td>False</td>\n      <td>False</td>\n      <td>False</td>\n      <td>True</td>\n    </tr>\n    <tr>\n      <th>2</th>\n      <td>0003_01</td>\n      <td>False</td>\n      <td>A/0/S</td>\n      <td>58.0</td>\n      <td>1</td>\n      <td>43.0</td>\n      <td>3576.0</td>\n      <td>0.0</td>\n      <td>6715.0</td>\n      <td>49.0</td>\n      <td>Altark Susent</td>\n      <td>False</td>\n      <td>False</td>\n      <td>True</td>\n      <td>False</td>\n      <td>False</td>\n      <td>False</td>\n      <td>True</td>\n    </tr>\n    <tr>\n      <th>3</th>\n      <td>0003_02</td>\n      <td>False</td>\n      <td>A/0/S</td>\n      <td>33.0</td>\n      <td>0</td>\n      <td>0.0</td>\n      <td>1283.0</td>\n      <td>371.0</td>\n      <td>3329.0</td>\n      <td>193.0</td>\n      <td>Solam Susent</td>\n      <td>False</td>\n      <td>False</td>\n      <td>True</td>\n      <td>False</td>\n      <td>False</td>\n      <td>False</td>\n      <td>True</td>\n    </tr>\n    <tr>\n      <th>4</th>\n      <td>0004_01</td>\n      <td>False</td>\n      <td>F/1/S</td>\n      <td>16.0</td>\n      <td>0</td>\n      <td>303.0</td>\n      <td>70.0</td>\n      <td>151.0</td>\n      <td>565.0</td>\n      <td>2.0</td>\n      <td>Willy Santantines</td>\n      <td>True</td>\n      <td>True</td>\n      <td>False</td>\n      <td>False</td>\n      <td>False</td>\n      <td>False</td>\n      <td>True</td>\n    </tr>\n  </tbody>\n</table>\n</div>"
     },
     "execution_count": 25,
     "metadata": {},
     "output_type": "execute_result"
    }
   ],
   "source": [
    "for dataset in combine:\n",
    "    le = LabelEncoder()\n",
    "    dataset['VIP'] = le.fit_transform(dataset['VIP'])\n",
    "train_df.head()"
   ],
   "metadata": {
    "collapsed": false,
    "ExecuteTime": {
     "end_time": "2024-03-17T16:12:40.728125200Z",
     "start_time": "2024-03-17T16:12:40.557186700Z"
    }
   },
   "id": "e6c70742fbeb441b",
   "execution_count": 25
  },
  {
   "cell_type": "code",
   "outputs": [
    {
     "data": {
      "text/plain": "  CryoSleep  Transported\n1      True     0.817583\n0     False     0.335042",
      "text/html": "<div>\n<style scoped>\n    .dataframe tbody tr th:only-of-type {\n        vertical-align: middle;\n    }\n\n    .dataframe tbody tr th {\n        vertical-align: top;\n    }\n\n    .dataframe thead th {\n        text-align: right;\n    }\n</style>\n<table border=\"1\" class=\"dataframe\">\n  <thead>\n    <tr style=\"text-align: right;\">\n      <th></th>\n      <th>CryoSleep</th>\n      <th>Transported</th>\n    </tr>\n  </thead>\n  <tbody>\n    <tr>\n      <th>1</th>\n      <td>True</td>\n      <td>0.817583</td>\n    </tr>\n    <tr>\n      <th>0</th>\n      <td>False</td>\n      <td>0.335042</td>\n    </tr>\n  </tbody>\n</table>\n</div>"
     },
     "execution_count": 26,
     "metadata": {},
     "output_type": "execute_result"
    }
   ],
   "source": [
    "train_df[[\"CryoSleep\", \"Transported\"]].groupby(['CryoSleep'], as_index=False).mean().sort_values(by='Transported', ascending=False)"
   ],
   "metadata": {
    "collapsed": false,
    "ExecuteTime": {
     "end_time": "2024-03-17T16:12:40.771225200Z",
     "start_time": "2024-03-17T16:12:40.607823400Z"
    }
   },
   "id": "4d0bc888e4d86eea",
   "execution_count": 26
  },
  {
   "cell_type": "code",
   "outputs": [
    {
     "data": {
      "text/plain": "  PassengerId  Cabin   Age  VIP  RoomService  FoodCourt  ShoppingMall     Spa  \\\n0     0001_01  B/0/P  39.0    0          0.0        0.0           0.0     0.0   \n1     0002_01  F/0/S  24.0    0        109.0        9.0          25.0   549.0   \n2     0003_01  A/0/S  58.0    1         43.0     3576.0           0.0  6715.0   \n3     0003_02  A/0/S  33.0    0          0.0     1283.0         371.0  3329.0   \n4     0004_01  F/1/S  16.0    0        303.0       70.0         151.0   565.0   \n\n   VRDeck               Name  Transported  HomePlanet_Earth  \\\n0     0.0    Maham Ofracculy        False             False   \n1    44.0       Juanna Vines         True              True   \n2    49.0      Altark Susent        False             False   \n3   193.0       Solam Susent        False             False   \n4     2.0  Willy Santantines         True              True   \n\n   HomePlanet_Europa  HomePlanet_Mars  Destination_55 Cancri e  \\\n0               True            False                    False   \n1              False            False                    False   \n2               True            False                    False   \n3               True            False                    False   \n4              False            False                    False   \n\n   Destination_PSO J318.5-22  Destination_TRAPPIST-1e  CryoSleep_False  \\\n0                      False                     True             True   \n1                      False                     True             True   \n2                      False                     True             True   \n3                      False                     True             True   \n4                      False                     True             True   \n\n   CryoSleep_True  \n0           False  \n1           False  \n2           False  \n3           False  \n4           False  ",
      "text/html": "<div>\n<style scoped>\n    .dataframe tbody tr th:only-of-type {\n        vertical-align: middle;\n    }\n\n    .dataframe tbody tr th {\n        vertical-align: top;\n    }\n\n    .dataframe thead th {\n        text-align: right;\n    }\n</style>\n<table border=\"1\" class=\"dataframe\">\n  <thead>\n    <tr style=\"text-align: right;\">\n      <th></th>\n      <th>PassengerId</th>\n      <th>Cabin</th>\n      <th>Age</th>\n      <th>VIP</th>\n      <th>RoomService</th>\n      <th>FoodCourt</th>\n      <th>ShoppingMall</th>\n      <th>Spa</th>\n      <th>VRDeck</th>\n      <th>Name</th>\n      <th>Transported</th>\n      <th>HomePlanet_Earth</th>\n      <th>HomePlanet_Europa</th>\n      <th>HomePlanet_Mars</th>\n      <th>Destination_55 Cancri e</th>\n      <th>Destination_PSO J318.5-22</th>\n      <th>Destination_TRAPPIST-1e</th>\n      <th>CryoSleep_False</th>\n      <th>CryoSleep_True</th>\n    </tr>\n  </thead>\n  <tbody>\n    <tr>\n      <th>0</th>\n      <td>0001_01</td>\n      <td>B/0/P</td>\n      <td>39.0</td>\n      <td>0</td>\n      <td>0.0</td>\n      <td>0.0</td>\n      <td>0.0</td>\n      <td>0.0</td>\n      <td>0.0</td>\n      <td>Maham Ofracculy</td>\n      <td>False</td>\n      <td>False</td>\n      <td>True</td>\n      <td>False</td>\n      <td>False</td>\n      <td>False</td>\n      <td>True</td>\n      <td>True</td>\n      <td>False</td>\n    </tr>\n    <tr>\n      <th>1</th>\n      <td>0002_01</td>\n      <td>F/0/S</td>\n      <td>24.0</td>\n      <td>0</td>\n      <td>109.0</td>\n      <td>9.0</td>\n      <td>25.0</td>\n      <td>549.0</td>\n      <td>44.0</td>\n      <td>Juanna Vines</td>\n      <td>True</td>\n      <td>True</td>\n      <td>False</td>\n      <td>False</td>\n      <td>False</td>\n      <td>False</td>\n      <td>True</td>\n      <td>True</td>\n      <td>False</td>\n    </tr>\n    <tr>\n      <th>2</th>\n      <td>0003_01</td>\n      <td>A/0/S</td>\n      <td>58.0</td>\n      <td>1</td>\n      <td>43.0</td>\n      <td>3576.0</td>\n      <td>0.0</td>\n      <td>6715.0</td>\n      <td>49.0</td>\n      <td>Altark Susent</td>\n      <td>False</td>\n      <td>False</td>\n      <td>True</td>\n      <td>False</td>\n      <td>False</td>\n      <td>False</td>\n      <td>True</td>\n      <td>True</td>\n      <td>False</td>\n    </tr>\n    <tr>\n      <th>3</th>\n      <td>0003_02</td>\n      <td>A/0/S</td>\n      <td>33.0</td>\n      <td>0</td>\n      <td>0.0</td>\n      <td>1283.0</td>\n      <td>371.0</td>\n      <td>3329.0</td>\n      <td>193.0</td>\n      <td>Solam Susent</td>\n      <td>False</td>\n      <td>False</td>\n      <td>True</td>\n      <td>False</td>\n      <td>False</td>\n      <td>False</td>\n      <td>True</td>\n      <td>True</td>\n      <td>False</td>\n    </tr>\n    <tr>\n      <th>4</th>\n      <td>0004_01</td>\n      <td>F/1/S</td>\n      <td>16.0</td>\n      <td>0</td>\n      <td>303.0</td>\n      <td>70.0</td>\n      <td>151.0</td>\n      <td>565.0</td>\n      <td>2.0</td>\n      <td>Willy Santantines</td>\n      <td>True</td>\n      <td>True</td>\n      <td>False</td>\n      <td>False</td>\n      <td>False</td>\n      <td>False</td>\n      <td>True</td>\n      <td>True</td>\n      <td>False</td>\n    </tr>\n  </tbody>\n</table>\n</div>"
     },
     "execution_count": 27,
     "metadata": {},
     "output_type": "execute_result"
    }
   ],
   "source": [
    "train_df = pd.get_dummies(train_df,columns = ['CryoSleep'])\n",
    "test_df = pd.get_dummies(test_df,columns = ['CryoSleep'])\n",
    "combine = [train_df,test_df]\n",
    "train_df.head()"
   ],
   "metadata": {
    "collapsed": false,
    "ExecuteTime": {
     "end_time": "2024-03-17T16:12:40.950655100Z",
     "start_time": "2024-03-17T16:12:40.633874200Z"
    }
   },
   "id": "185a7767f167d1ba",
   "execution_count": 27
  },
  {
   "cell_type": "code",
   "outputs": [
    {
     "data": {
      "text/plain": "<seaborn.axisgrid.FacetGrid at 0x2a25d829d50>"
     },
     "execution_count": 28,
     "metadata": {},
     "output_type": "execute_result"
    },
    {
     "data": {
      "text/plain": "<Figure size 600x300 with 2 Axes>",
      "image/png": "[encoded data removed]"
     },
     "metadata": {},
     "output_type": "display_data"
    }
   ],
   "source": [
    "g = sns.FacetGrid(train_df, col='Transported')\n",
    "g.map(plt.hist, 'Age', bins=20)"
   ],
   "metadata": {
    "collapsed": false,
    "ExecuteTime": {
     "end_time": "2024-03-17T16:12:41.863770100Z",
     "start_time": "2024-03-17T16:12:40.679507600Z"
    }
   },
   "id": "5ebde1c3f9381687",
   "execution_count": 28
  },
  {
   "cell_type": "code",
   "outputs": [
    {
     "data": {
      "text/plain": "  PassengerId  Cabin   Age  VIP  RoomService  FoodCourt  ShoppingMall     Spa  \\\n0     0001_01  B/0/P  39.0    0          0.0        0.0           0.0     0.0   \n1     0002_01  F/0/S  24.0    0        109.0        9.0          25.0   549.0   \n2     0003_01  A/0/S  58.0    1         43.0     3576.0           0.0  6715.0   \n3     0003_02  A/0/S  33.0    0          0.0     1283.0         371.0  3329.0   \n4     0004_01  F/1/S  16.0    0        303.0       70.0         151.0   565.0   \n\n   VRDeck               Name  Transported  HomePlanet_Earth  \\\n0     0.0    Maham Ofracculy        False             False   \n1    44.0       Juanna Vines         True              True   \n2    49.0      Altark Susent        False             False   \n3   193.0       Solam Susent        False             False   \n4     2.0  Willy Santantines         True              True   \n\n   HomePlanet_Europa  HomePlanet_Mars  Destination_55 Cancri e  \\\n0               True            False                    False   \n1              False            False                    False   \n2               True            False                    False   \n3               True            False                    False   \n4              False            False                    False   \n\n   Destination_PSO J318.5-22  Destination_TRAPPIST-1e  CryoSleep_False  \\\n0                      False                     True             True   \n1                      False                     True             True   \n2                      False                     True             True   \n3                      False                     True             True   \n4                      False                     True             True   \n\n   CryoSleep_True        AgeBin  \n0           False  (31.6, 47.4]  \n1           False  (15.8, 31.6]  \n2           False  (47.4, 63.2]  \n3           False  (31.6, 47.4]  \n4           False  (15.8, 31.6]  ",
      "text/html": "<div>\n<style scoped>\n    .dataframe tbody tr th:only-of-type {\n        vertical-align: middle;\n    }\n\n    .dataframe tbody tr th {\n        vertical-align: top;\n    }\n\n    .dataframe thead th {\n        text-align: right;\n    }\n</style>\n<table border=\"1\" class=\"dataframe\">\n  <thead>\n    <tr style=\"text-align: right;\">\n      <th></th>\n      <th>PassengerId</th>\n      <th>Cabin</th>\n      <th>Age</th>\n      <th>VIP</th>\n      <th>RoomService</th>\n      <th>FoodCourt</th>\n      <th>ShoppingMall</th>\n      <th>Spa</th>\n      <th>VRDeck</th>\n      <th>Name</th>\n      <th>Transported</th>\n      <th>HomePlanet_Earth</th>\n      <th>HomePlanet_Europa</th>\n      <th>HomePlanet_Mars</th>\n      <th>Destination_55 Cancri e</th>\n      <th>Destination_PSO J318.5-22</th>\n      <th>Destination_TRAPPIST-1e</th>\n      <th>CryoSleep_False</th>\n      <th>CryoSleep_True</th>\n      <th>AgeBin</th>\n    </tr>\n  </thead>\n  <tbody>\n    <tr>\n      <th>0</th>\n      <td>0001_01</td>\n      <td>B/0/P</td>\n      <td>39.0</td>\n      <td>0</td>\n      <td>0.0</td>\n      <td>0.0</td>\n      <td>0.0</td>\n      <td>0.0</td>\n      <td>0.0</td>\n      <td>Maham Ofracculy</td>\n      <td>False</td>\n      <td>False</td>\n      <td>True</td>\n      <td>False</td>\n      <td>False</td>\n      <td>False</td>\n      <td>True</td>\n      <td>True</td>\n      <td>False</td>\n      <td>(31.6, 47.4]</td>\n    </tr>\n    <tr>\n      <th>1</th>\n      <td>0002_01</td>\n      <td>F/0/S</td>\n      <td>24.0</td>\n      <td>0</td>\n      <td>109.0</td>\n      <td>9.0</td>\n      <td>25.0</td>\n      <td>549.0</td>\n      <td>44.0</td>\n      <td>Juanna Vines</td>\n      <td>True</td>\n      <td>True</td>\n      <td>False</td>\n      <td>False</td>\n      <td>False</td>\n      <td>False</td>\n      <td>True</td>\n      <td>True</td>\n      <td>False</td>\n      <td>(15.8, 31.6]</td>\n    </tr>\n    <tr>\n      <th>2</th>\n      <td>0003_01</td>\n      <td>A/0/S</td>\n      <td>58.0</td>\n      <td>1</td>\n      <td>43.0</td>\n      <td>3576.0</td>\n      <td>0.0</td>\n      <td>6715.0</td>\n      <td>49.0</td>\n      <td>Altark Susent</td>\n      <td>False</td>\n      <td>False</td>\n      <td>True</td>\n      <td>False</td>\n      <td>False</td>\n      <td>False</td>\n      <td>True</td>\n      <td>True</td>\n      <td>False</td>\n      <td>(47.4, 63.2]</td>\n    </tr>\n    <tr>\n      <th>3</th>\n      <td>0003_02</td>\n      <td>A/0/S</td>\n      <td>33.0</td>\n      <td>0</td>\n      <td>0.0</td>\n      <td>1283.0</td>\n      <td>371.0</td>\n      <td>3329.0</td>\n      <td>193.0</td>\n      <td>Solam Susent</td>\n      <td>False</td>\n      <td>False</td>\n      <td>True</td>\n      <td>False</td>\n      <td>False</td>\n      <td>False</td>\n      <td>True</td>\n      <td>True</td>\n      <td>False</td>\n      <td>(31.6, 47.4]</td>\n    </tr>\n    <tr>\n      <th>4</th>\n      <td>0004_01</td>\n      <td>F/1/S</td>\n      <td>16.0</td>\n      <td>0</td>\n      <td>303.0</td>\n      <td>70.0</td>\n      <td>151.0</td>\n      <td>565.0</td>\n      <td>2.0</td>\n      <td>Willy Santantines</td>\n      <td>True</td>\n      <td>True</td>\n      <td>False</td>\n      <td>False</td>\n      <td>False</td>\n      <td>False</td>\n      <td>True</td>\n      <td>True</td>\n      <td>False</td>\n      <td>(15.8, 31.6]</td>\n    </tr>\n  </tbody>\n</table>\n</div>"
     },
     "execution_count": 29,
     "metadata": {},
     "output_type": "execute_result"
    }
   ],
   "source": [
    "for dataset in combine:   \n",
    "    dataset['AgeBin'] = pd.cut(dataset['Age'].astype(int), 5) #разбиваем возраста на равные отрезки\n",
    "train_df.head()"
   ],
   "metadata": {
    "collapsed": false,
    "ExecuteTime": {
     "end_time": "2024-03-17T16:12:41.910894700Z",
     "start_time": "2024-03-17T16:12:41.862769900Z"
    }
   },
   "id": "ecd531de5951945e",
   "execution_count": 29
  },
  {
   "cell_type": "code",
   "outputs": [
    {
     "data": {
      "text/plain": "  PassengerId  Cabin   Age  VIP  RoomService  FoodCourt  ShoppingMall     Spa  \\\n0     0013_01  G/3/S  27.0    0          0.0        0.0           0.0     0.0   \n1     0018_01  F/4/S  19.0    0          0.0        9.0           0.0  2823.0   \n2     0019_01  C/0/S  31.0    0          0.0        0.0           0.0     0.0   \n3     0021_01  C/1/S  38.0    0          0.0     6652.0           0.0   181.0   \n4     0023_01  F/5/S  20.0    0         10.0        0.0         635.0     0.0   \n\n   VRDeck              Name  HomePlanet_Earth  HomePlanet_Europa  \\\n0     0.0   Nelly Carsoning              True              False   \n1     0.0    Lerome Peckers              True              False   \n2     0.0   Sabih Unhearfus             False               True   \n3   585.0  Meratz Caltilter             False               True   \n4     0.0   Brence Harperez              True              False   \n\n   HomePlanet_Mars  Destination_55 Cancri e  Destination_PSO J318.5-22  \\\n0            False                    False                      False   \n1            False                    False                      False   \n2            False                     True                      False   \n3            False                    False                      False   \n4            False                    False                      False   \n\n   Destination_TRAPPIST-1e  CryoSleep_False  CryoSleep_True        AgeBin  \n0                     True            False            True  (15.8, 31.6]  \n1                     True             True           False  (15.8, 31.6]  \n2                    False            False            True  (15.8, 31.6]  \n3                     True             True           False  (31.6, 47.4]  \n4                     True             True           False  (15.8, 31.6]  ",
      "text/html": "<div>\n<style scoped>\n    .dataframe tbody tr th:only-of-type {\n        vertical-align: middle;\n    }\n\n    .dataframe tbody tr th {\n        vertical-align: top;\n    }\n\n    .dataframe thead th {\n        text-align: right;\n    }\n</style>\n<table border=\"1\" class=\"dataframe\">\n  <thead>\n    <tr style=\"text-align: right;\">\n      <th></th>\n      <th>PassengerId</th>\n      <th>Cabin</th>\n      <th>Age</th>\n      <th>VIP</th>\n      <th>RoomService</th>\n      <th>FoodCourt</th>\n      <th>ShoppingMall</th>\n      <th>Spa</th>\n      <th>VRDeck</th>\n      <th>Name</th>\n      <th>HomePlanet_Earth</th>\n      <th>HomePlanet_Europa</th>\n      <th>HomePlanet_Mars</th>\n      <th>Destination_55 Cancri e</th>\n      <th>Destination_PSO J318.5-22</th>\n      <th>Destination_TRAPPIST-1e</th>\n      <th>CryoSleep_False</th>\n      <th>CryoSleep_True</th>\n      <th>AgeBin</th>\n    </tr>\n  </thead>\n  <tbody>\n    <tr>\n      <th>0</th>\n      <td>0013_01</td>\n      <td>G/3/S</td>\n      <td>27.0</td>\n      <td>0</td>\n      <td>0.0</td>\n      <td>0.0</td>\n      <td>0.0</td>\n      <td>0.0</td>\n      <td>0.0</td>\n      <td>Nelly Carsoning</td>\n      <td>True</td>\n      <td>False</td>\n      <td>False</td>\n      <td>False</td>\n      <td>False</td>\n      <td>True</td>\n      <td>False</td>\n      <td>True</td>\n      <td>(15.8, 31.6]</td>\n    </tr>\n    <tr>\n      <th>1</th>\n      <td>0018_01</td>\n      <td>F/4/S</td>\n      <td>19.0</td>\n      <td>0</td>\n      <td>0.0</td>\n      <td>9.0</td>\n      <td>0.0</td>\n      <td>2823.0</td>\n      <td>0.0</td>\n      <td>Lerome Peckers</td>\n      <td>True</td>\n      <td>False</td>\n      <td>False</td>\n      <td>False</td>\n      <td>False</td>\n      <td>True</td>\n      <td>True</td>\n      <td>False</td>\n      <td>(15.8, 31.6]</td>\n    </tr>\n    <tr>\n      <th>2</th>\n      <td>0019_01</td>\n      <td>C/0/S</td>\n      <td>31.0</td>\n      <td>0</td>\n      <td>0.0</td>\n      <td>0.0</td>\n      <td>0.0</td>\n      <td>0.0</td>\n      <td>0.0</td>\n      <td>Sabih Unhearfus</td>\n      <td>False</td>\n      <td>True</td>\n      <td>False</td>\n      <td>True</td>\n      <td>False</td>\n      <td>False</td>\n      <td>False</td>\n      <td>True</td>\n      <td>(15.8, 31.6]</td>\n    </tr>\n    <tr>\n      <th>3</th>\n      <td>0021_01</td>\n      <td>C/1/S</td>\n      <td>38.0</td>\n      <td>0</td>\n      <td>0.0</td>\n      <td>6652.0</td>\n      <td>0.0</td>\n      <td>181.0</td>\n      <td>585.0</td>\n      <td>Meratz Caltilter</td>\n      <td>False</td>\n      <td>True</td>\n      <td>False</td>\n      <td>False</td>\n      <td>False</td>\n      <td>True</td>\n      <td>True</td>\n      <td>False</td>\n      <td>(31.6, 47.4]</td>\n    </tr>\n    <tr>\n      <th>4</th>\n      <td>0023_01</td>\n      <td>F/5/S</td>\n      <td>20.0</td>\n      <td>0</td>\n      <td>10.0</td>\n      <td>0.0</td>\n      <td>635.0</td>\n      <td>0.0</td>\n      <td>0.0</td>\n      <td>Brence Harperez</td>\n      <td>True</td>\n      <td>False</td>\n      <td>False</td>\n      <td>False</td>\n      <td>False</td>\n      <td>True</td>\n      <td>True</td>\n      <td>False</td>\n      <td>(15.8, 31.6]</td>\n    </tr>\n  </tbody>\n</table>\n</div>"
     },
     "execution_count": 30,
     "metadata": {},
     "output_type": "execute_result"
    }
   ],
   "source": [
    "test_df.head()"
   ],
   "metadata": {
    "collapsed": false,
    "ExecuteTime": {
     "end_time": "2024-03-17T16:12:41.961495900Z",
     "start_time": "2024-03-17T16:12:41.912895900Z"
    }
   },
   "id": "8fade840e936563f",
   "execution_count": 30
  },
  {
   "cell_type": "code",
   "outputs": [
    {
     "name": "stderr",
     "output_type": "stream",
     "text": [
      "C:\\Users\\rirer\\AppData\\Local\\Temp\\ipykernel_18508\\1656352909.py:1: FutureWarning: The default of observed=False is deprecated and will be changed to True in a future version of pandas. Pass observed=False to retain current behavior or observed=True to adopt the future default and silence this warning.\n",
      "  train_df[['AgeBin','Transported']].groupby(['AgeBin'],as_index=False).mean().sort_values(by='Transported',ascending=False)\n"
     ]
    },
    {
     "data": {
      "text/plain": "           AgeBin  Transported\n0  (-0.079, 15.8]     0.648387\n3    (47.4, 63.2]     0.486747\n2    (31.6, 47.4]     0.485510\n1    (15.8, 31.6]     0.475495\n4    (63.2, 79.0]     0.463235",
      "text/html": "<div>\n<style scoped>\n    .dataframe tbody tr th:only-of-type {\n        vertical-align: middle;\n    }\n\n    .dataframe tbody tr th {\n        vertical-align: top;\n    }\n\n    .dataframe thead th {\n        text-align: right;\n    }\n</style>\n<table border=\"1\" class=\"dataframe\">\n  <thead>\n    <tr style=\"text-align: right;\">\n      <th></th>\n      <th>AgeBin</th>\n      <th>Transported</th>\n    </tr>\n  </thead>\n  <tbody>\n    <tr>\n      <th>0</th>\n      <td>(-0.079, 15.8]</td>\n      <td>0.648387</td>\n    </tr>\n    <tr>\n      <th>3</th>\n      <td>(47.4, 63.2]</td>\n      <td>0.486747</td>\n    </tr>\n    <tr>\n      <th>2</th>\n      <td>(31.6, 47.4]</td>\n      <td>0.485510</td>\n    </tr>\n    <tr>\n      <th>1</th>\n      <td>(15.8, 31.6]</td>\n      <td>0.475495</td>\n    </tr>\n    <tr>\n      <th>4</th>\n      <td>(63.2, 79.0]</td>\n      <td>0.463235</td>\n    </tr>\n  </tbody>\n</table>\n</div>"
     },
     "execution_count": 31,
     "metadata": {},
     "output_type": "execute_result"
    }
   ],
   "source": [
    "train_df[['AgeBin','Transported']].groupby(['AgeBin'],as_index=False).mean().sort_values(by='Transported',ascending=False)"
   ],
   "metadata": {
    "collapsed": false,
    "ExecuteTime": {
     "end_time": "2024-03-17T16:12:42.075343800Z",
     "start_time": "2024-03-17T16:12:41.942446700Z"
    }
   },
   "id": "d477ac03bba1ebe0",
   "execution_count": 31
  },
  {
   "cell_type": "code",
   "outputs": [],
   "source": [
    "for dataset in combine:\n",
    "    dataset.loc[ dataset['Age'] <= 15, 'Age'] = 0\n",
    "    dataset.loc[(dataset['Age'] > 15) & (dataset['Age'] <= 31), 'Age'] = 1\n",
    "    dataset.loc[(dataset['Age'] > 31) & (dataset['Age'] <= 47), 'Age'] = 2\n",
    "    dataset.loc[(dataset['Age'] > 47) & (dataset['Age'] <= 63), 'Age'] = 3\n",
    "    dataset.loc[(dataset['Age'] > 63), 'Age'] = 4\n",
    "    dataset['Age'] = dataset['Age'].astype(int)"
   ],
   "metadata": {
    "collapsed": false,
    "ExecuteTime": {
     "end_time": "2024-03-17T16:12:42.173159600Z",
     "start_time": "2024-03-17T16:12:41.974022600Z"
    }
   },
   "id": "15fc9f9e7d96ef69",
   "execution_count": 32
  },
  {
   "cell_type": "code",
   "outputs": [
    {
     "data": {
      "text/plain": "   Age  Transported\n0    0     0.648387\n3    3     0.486747\n2    2     0.485510\n1    1     0.475495\n4    4     0.463235",
      "text/html": "<div>\n<style scoped>\n    .dataframe tbody tr th:only-of-type {\n        vertical-align: middle;\n    }\n\n    .dataframe tbody tr th {\n        vertical-align: top;\n    }\n\n    .dataframe thead th {\n        text-align: right;\n    }\n</style>\n<table border=\"1\" class=\"dataframe\">\n  <thead>\n    <tr style=\"text-align: right;\">\n      <th></th>\n      <th>Age</th>\n      <th>Transported</th>\n    </tr>\n  </thead>\n  <tbody>\n    <tr>\n      <th>0</th>\n      <td>0</td>\n      <td>0.648387</td>\n    </tr>\n    <tr>\n      <th>3</th>\n      <td>3</td>\n      <td>0.486747</td>\n    </tr>\n    <tr>\n      <th>2</th>\n      <td>2</td>\n      <td>0.485510</td>\n    </tr>\n    <tr>\n      <th>1</th>\n      <td>1</td>\n      <td>0.475495</td>\n    </tr>\n    <tr>\n      <th>4</th>\n      <td>4</td>\n      <td>0.463235</td>\n    </tr>\n  </tbody>\n</table>\n</div>"
     },
     "execution_count": 33,
     "metadata": {},
     "output_type": "execute_result"
    }
   ],
   "source": [
    "train_df[['Age','Transported']].groupby(['Age'],as_index=False).mean().sort_values(by='Transported',ascending=False)"
   ],
   "metadata": {
    "collapsed": false,
    "ExecuteTime": {
     "end_time": "2024-03-17T16:12:42.212751100Z",
     "start_time": "2024-03-17T16:12:42.006097400Z"
    }
   },
   "id": "d24eae42f1709018",
   "execution_count": 33
  },
  {
   "cell_type": "code",
   "outputs": [
    {
     "data": {
      "text/plain": "Text(0.5, 1.0, 'Age')"
     },
     "execution_count": 34,
     "metadata": {},
     "output_type": "execute_result"
    },
    {
     "data": {
      "text/plain": "<Figure size 1000x1200 with 1 Axes>",
      "image/png": "[encoded data removed]"
     },
     "metadata": {},
     "output_type": "display_data"
    }
   ],
   "source": [
    "fig=plt.figure(figsize=(10,12))\n",
    "plt.subplot(3,1,1)\n",
    "sns.countplot(data=train_df, x='Age', hue='Transported', order=[0,1,2,3,4])\n",
    "plt.title('Age')"
   ],
   "metadata": {
    "collapsed": false,
    "ExecuteTime": {
     "end_time": "2024-03-17T16:12:42.499126400Z",
     "start_time": "2024-03-17T16:12:42.038179200Z"
    }
   },
   "id": "a60de058e432140c",
   "execution_count": 34
  },
  {
   "cell_type": "code",
   "outputs": [],
   "source": [
    "def replace_empty_cabin(table, column):\n",
    "    val = 'Z/9999/Z'\n",
    "    table[column] = table[column].fillna(val)\n",
    "\n",
    "for dataset in combine:\n",
    "    replace_empty_cabin(dataset, 'Cabin')"
   ],
   "metadata": {
    "collapsed": false,
    "ExecuteTime": {
     "end_time": "2024-03-17T16:12:42.523680700Z",
     "start_time": "2024-03-17T16:12:42.391606300Z"
    }
   },
   "id": "c34d6560aac5dbeb",
   "execution_count": 35
  },
  {
   "cell_type": "code",
   "outputs": [
    {
     "name": "stderr",
     "output_type": "stream",
     "text": [
      "C:\\Users\\rirer\\AppData\\Local\\Temp\\ipykernel_18508\\894155440.py:6: FutureWarning: A value is trying to be set on a copy of a DataFrame or Series through chained assignment using an inplace method.\n",
      "The behavior will change in pandas 3.0. This inplace method will never work because the intermediate object on which we are setting values always behaves as a copy.\n",
      "\n",
      "For example, when doing 'df[col].method(value, inplace=True)', try using 'df.method({col: value}, inplace=True)' or df[col] = df[col].method(value) instead, to perform the operation inplace on the original object.\n",
      "\n",
      "\n",
      "  dataset['deck'].fillna(dataset['deck'].mode()[0],inplace=True)\n",
      "C:\\Users\\rirer\\AppData\\Local\\Temp\\ipykernel_18508\\894155440.py:7: FutureWarning: A value is trying to be set on a copy of a DataFrame or Series through chained assignment using an inplace method.\n",
      "The behavior will change in pandas 3.0. This inplace method will never work because the intermediate object on which we are setting values always behaves as a copy.\n",
      "\n",
      "For example, when doing 'df[col].method(value, inplace=True)', try using 'df.method({col: value}, inplace=True)' or df[col] = df[col].method(value) instead, to perform the operation inplace on the original object.\n",
      "\n",
      "\n",
      "  dataset['num'].fillna(dataset['num'].mode()[0],inplace=True)\n",
      "C:\\Users\\rirer\\AppData\\Local\\Temp\\ipykernel_18508\\894155440.py:8: FutureWarning: A value is trying to be set on a copy of a DataFrame or Series through chained assignment using an inplace method.\n",
      "The behavior will change in pandas 3.0. This inplace method will never work because the intermediate object on which we are setting values always behaves as a copy.\n",
      "\n",
      "For example, when doing 'df[col].method(value, inplace=True)', try using 'df.method({col: value}, inplace=True)' or df[col] = df[col].method(value) instead, to perform the operation inplace on the original object.\n",
      "\n",
      "\n",
      "  dataset['side'].fillna(dataset['side'].mode()[0],inplace=True)\n",
      "C:\\Users\\rirer\\AppData\\Local\\Temp\\ipykernel_18508\\894155440.py:6: FutureWarning: A value is trying to be set on a copy of a DataFrame or Series through chained assignment using an inplace method.\n",
      "The behavior will change in pandas 3.0. This inplace method will never work because the intermediate object on which we are setting values always behaves as a copy.\n",
      "\n",
      "For example, when doing 'df[col].method(value, inplace=True)', try using 'df.method({col: value}, inplace=True)' or df[col] = df[col].method(value) instead, to perform the operation inplace on the original object.\n",
      "\n",
      "\n",
      "  dataset['deck'].fillna(dataset['deck'].mode()[0],inplace=True)\n",
      "C:\\Users\\rirer\\AppData\\Local\\Temp\\ipykernel_18508\\894155440.py:7: FutureWarning: A value is trying to be set on a copy of a DataFrame or Series through chained assignment using an inplace method.\n",
      "The behavior will change in pandas 3.0. This inplace method will never work because the intermediate object on which we are setting values always behaves as a copy.\n",
      "\n",
      "For example, when doing 'df[col].method(value, inplace=True)', try using 'df.method({col: value}, inplace=True)' or df[col] = df[col].method(value) instead, to perform the operation inplace on the original object.\n",
      "\n",
      "\n",
      "  dataset['num'].fillna(dataset['num'].mode()[0],inplace=True)\n",
      "C:\\Users\\rirer\\AppData\\Local\\Temp\\ipykernel_18508\\894155440.py:8: FutureWarning: A value is trying to be set on a copy of a DataFrame or Series through chained assignment using an inplace method.\n",
      "The behavior will change in pandas 3.0. This inplace method will never work because the intermediate object on which we are setting values always behaves as a copy.\n",
      "\n",
      "For example, when doing 'df[col].method(value, inplace=True)', try using 'df.method({col: value}, inplace=True)' or df[col] = df[col].method(value) instead, to perform the operation inplace on the original object.\n",
      "\n",
      "\n",
      "  dataset['side'].fillna(dataset['side'].mode()[0],inplace=True)\n"
     ]
    }
   ],
   "source": [
    "for dataset in combine:\n",
    "    dataset['deck'] = dataset['Cabin'].apply(lambda x:str(x)[:1])\n",
    "    dataset['num'] = dataset['Cabin'].apply(lambda x:x.split('/')[1])\n",
    "    dataset['num'] = dataset['num'].astype(int)\n",
    "    dataset['side'] = dataset['Cabin'].apply(lambda x:str(x)[-1:])\n",
    "    dataset['deck'].fillna(dataset['deck'].mode()[0],inplace=True)\n",
    "    dataset['num'].fillna(dataset['num'].mode()[0],inplace=True)\n",
    "    dataset['side'].fillna(dataset['side'].mode()[0],inplace=True)\n",
    "    "
   ],
   "metadata": {
    "collapsed": false,
    "ExecuteTime": {
     "end_time": "2024-03-17T16:12:42.528194100Z",
     "start_time": "2024-03-17T16:12:42.406448Z"
    }
   },
   "id": "7eb54e94bff4010b",
   "execution_count": 36
  },
  {
   "cell_type": "code",
   "outputs": [
    {
     "data": {
      "text/plain": "  PassengerId  Cabin  Age  VIP  RoomService  FoodCourt  ShoppingMall     Spa  \\\n0     0013_01  G/3/S    1    0          0.0        0.0           0.0     0.0   \n1     0018_01  F/4/S    1    0          0.0        9.0           0.0  2823.0   \n2     0019_01  C/0/S    1    0          0.0        0.0           0.0     0.0   \n3     0021_01  C/1/S    2    0          0.0     6652.0           0.0   181.0   \n4     0023_01  F/5/S    1    0         10.0        0.0         635.0     0.0   \n\n   VRDeck              Name  ...  HomePlanet_Mars  Destination_55 Cancri e  \\\n0     0.0   Nelly Carsoning  ...            False                    False   \n1     0.0    Lerome Peckers  ...            False                    False   \n2     0.0   Sabih Unhearfus  ...            False                     True   \n3   585.0  Meratz Caltilter  ...            False                    False   \n4     0.0   Brence Harperez  ...            False                    False   \n\n   Destination_PSO J318.5-22  Destination_TRAPPIST-1e  CryoSleep_False  \\\n0                      False                     True            False   \n1                      False                     True             True   \n2                      False                    False            False   \n3                      False                     True             True   \n4                      False                     True             True   \n\n   CryoSleep_True        AgeBin  deck num side  \n0            True  (15.8, 31.6]     G   3    S  \n1           False  (15.8, 31.6]     F   4    S  \n2            True  (15.8, 31.6]     C   0    S  \n3           False  (31.6, 47.4]     C   1    S  \n4           False  (15.8, 31.6]     F   5    S  \n\n[5 rows x 22 columns]",
      "text/html": "<div>\n<style scoped>\n    .dataframe tbody tr th:only-of-type {\n        vertical-align: middle;\n    }\n\n    .dataframe tbody tr th {\n        vertical-align: top;\n    }\n\n    .dataframe thead th {\n        text-align: right;\n    }\n</style>\n<table border=\"1\" class=\"dataframe\">\n  <thead>\n    <tr style=\"text-align: right;\">\n      <th></th>\n      <th>PassengerId</th>\n      <th>Cabin</th>\n      <th>Age</th>\n      <th>VIP</th>\n      <th>RoomService</th>\n      <th>FoodCourt</th>\n      <th>ShoppingMall</th>\n      <th>Spa</th>\n      <th>VRDeck</th>\n      <th>Name</th>\n      <th>...</th>\n      <th>HomePlanet_Mars</th>\n      <th>Destination_55 Cancri e</th>\n      <th>Destination_PSO J318.5-22</th>\n      <th>Destination_TRAPPIST-1e</th>\n      <th>CryoSleep_False</th>\n      <th>CryoSleep_True</th>\n      <th>AgeBin</th>\n      <th>deck</th>\n      <th>num</th>\n      <th>side</th>\n    </tr>\n  </thead>\n  <tbody>\n    <tr>\n      <th>0</th>\n      <td>0013_01</td>\n      <td>G/3/S</td>\n      <td>1</td>\n      <td>0</td>\n      <td>0.0</td>\n      <td>0.0</td>\n      <td>0.0</td>\n      <td>0.0</td>\n      <td>0.0</td>\n      <td>Nelly Carsoning</td>\n      <td>...</td>\n      <td>False</td>\n      <td>False</td>\n      <td>False</td>\n      <td>True</td>\n      <td>False</td>\n      <td>True</td>\n      <td>(15.8, 31.6]</td>\n      <td>G</td>\n      <td>3</td>\n      <td>S</td>\n    </tr>\n    <tr>\n      <th>1</th>\n      <td>0018_01</td>\n      <td>F/4/S</td>\n      <td>1</td>\n      <td>0</td>\n      <td>0.0</td>\n      <td>9.0</td>\n      <td>0.0</td>\n      <td>2823.0</td>\n      <td>0.0</td>\n      <td>Lerome Peckers</td>\n      <td>...</td>\n      <td>False</td>\n      <td>False</td>\n      <td>False</td>\n      <td>True</td>\n      <td>True</td>\n      <td>False</td>\n      <td>(15.8, 31.6]</td>\n      <td>F</td>\n      <td>4</td>\n      <td>S</td>\n    </tr>\n    <tr>\n      <th>2</th>\n      <td>0019_01</td>\n      <td>C/0/S</td>\n      <td>1</td>\n      <td>0</td>\n      <td>0.0</td>\n      <td>0.0</td>\n      <td>0.0</td>\n      <td>0.0</td>\n      <td>0.0</td>\n      <td>Sabih Unhearfus</td>\n      <td>...</td>\n      <td>False</td>\n      <td>True</td>\n      <td>False</td>\n      <td>False</td>\n      <td>False</td>\n      <td>True</td>\n      <td>(15.8, 31.6]</td>\n      <td>C</td>\n      <td>0</td>\n      <td>S</td>\n    </tr>\n    <tr>\n      <th>3</th>\n      <td>0021_01</td>\n      <td>C/1/S</td>\n      <td>2</td>\n      <td>0</td>\n      <td>0.0</td>\n      <td>6652.0</td>\n      <td>0.0</td>\n      <td>181.0</td>\n      <td>585.0</td>\n      <td>Meratz Caltilter</td>\n      <td>...</td>\n      <td>False</td>\n      <td>False</td>\n      <td>False</td>\n      <td>True</td>\n      <td>True</td>\n      <td>False</td>\n      <td>(31.6, 47.4]</td>\n      <td>C</td>\n      <td>1</td>\n      <td>S</td>\n    </tr>\n    <tr>\n      <th>4</th>\n      <td>0023_01</td>\n      <td>F/5/S</td>\n      <td>1</td>\n      <td>0</td>\n      <td>10.0</td>\n      <td>0.0</td>\n      <td>635.0</td>\n      <td>0.0</td>\n      <td>0.0</td>\n      <td>Brence Harperez</td>\n      <td>...</td>\n      <td>False</td>\n      <td>False</td>\n      <td>False</td>\n      <td>True</td>\n      <td>True</td>\n      <td>False</td>\n      <td>(15.8, 31.6]</td>\n      <td>F</td>\n      <td>5</td>\n      <td>S</td>\n    </tr>\n  </tbody>\n</table>\n<p>5 rows × 22 columns</p>\n</div>"
     },
     "execution_count": 37,
     "metadata": {},
     "output_type": "execute_result"
    }
   ],
   "source": [
    "test_df.head()"
   ],
   "metadata": {
    "collapsed": false,
    "ExecuteTime": {
     "end_time": "2024-03-17T16:12:42.632412500Z",
     "start_time": "2024-03-17T16:12:42.443537500Z"
    }
   },
   "id": "bc5311f892b9365f",
   "execution_count": 37
  },
  {
   "cell_type": "code",
   "outputs": [
    {
     "data": {
      "text/plain": "  deck  Transported\n1    B     0.734275\n2    C     0.680054\n6    G     0.516217\n8    Z     0.502513\n0    A     0.496094\n5    F     0.439871\n3    D     0.433054\n4    E     0.357306\n7    T     0.200000",
      "text/html": "<div>\n<style scoped>\n    .dataframe tbody tr th:only-of-type {\n        vertical-align: middle;\n    }\n\n    .dataframe tbody tr th {\n        vertical-align: top;\n    }\n\n    .dataframe thead th {\n        text-align: right;\n    }\n</style>\n<table border=\"1\" class=\"dataframe\">\n  <thead>\n    <tr style=\"text-align: right;\">\n      <th></th>\n      <th>deck</th>\n      <th>Transported</th>\n    </tr>\n  </thead>\n  <tbody>\n    <tr>\n      <th>1</th>\n      <td>B</td>\n      <td>0.734275</td>\n    </tr>\n    <tr>\n      <th>2</th>\n      <td>C</td>\n      <td>0.680054</td>\n    </tr>\n    <tr>\n      <th>6</th>\n      <td>G</td>\n      <td>0.516217</td>\n    </tr>\n    <tr>\n      <th>8</th>\n      <td>Z</td>\n      <td>0.502513</td>\n    </tr>\n    <tr>\n      <th>0</th>\n      <td>A</td>\n      <td>0.496094</td>\n    </tr>\n    <tr>\n      <th>5</th>\n      <td>F</td>\n      <td>0.439871</td>\n    </tr>\n    <tr>\n      <th>3</th>\n      <td>D</td>\n      <td>0.433054</td>\n    </tr>\n    <tr>\n      <th>4</th>\n      <td>E</td>\n      <td>0.357306</td>\n    </tr>\n    <tr>\n      <th>7</th>\n      <td>T</td>\n      <td>0.200000</td>\n    </tr>\n  </tbody>\n</table>\n</div>"
     },
     "execution_count": 38,
     "metadata": {},
     "output_type": "execute_result"
    }
   ],
   "source": [
    "train_df[['deck','Transported']].groupby(['deck'],as_index=False).mean().sort_values(by='Transported',ascending=False)"
   ],
   "metadata": {
    "collapsed": false,
    "ExecuteTime": {
     "end_time": "2024-03-17T16:12:42.637938200Z",
     "start_time": "2024-03-17T16:12:42.468106900Z"
    }
   },
   "id": "abfa01ec71fb414f",
   "execution_count": 38
  },
  {
   "cell_type": "code",
   "outputs": [
    {
     "data": {
      "text/plain": "Text(0.5, 1.0, 'Cabin deck')"
     },
     "execution_count": 39,
     "metadata": {},
     "output_type": "execute_result"
    },
    {
     "data": {
      "text/plain": "<Figure size 1000x1200 with 1 Axes>",
      "image/png": "[encoded data removed]"
     },
     "metadata": {},
     "output_type": "display_data"
    }
   ],
   "source": [
    "fig=plt.figure(figsize=(10,12))\n",
    "plt.subplot(3,1,1)\n",
    "sns.countplot(data=train_df, x='deck', hue='Transported', order=['A','B','C','D','E','F','G','T','Z'])\n",
    "plt.title('Cabin deck') #можно разибть на статистические подругруппы по декам"
   ],
   "metadata": {
    "collapsed": false,
    "ExecuteTime": {
     "end_time": "2024-03-17T16:12:43.174021Z",
     "start_time": "2024-03-17T16:12:42.499126400Z"
    }
   },
   "id": "36ed8bcacbf14a8",
   "execution_count": 39
  },
  {
   "cell_type": "code",
   "outputs": [
    {
     "data": {
      "text/plain": "  PassengerId  Cabin  Age  VIP  RoomService  FoodCourt  ShoppingMall     Spa  \\\n0     0001_01  B/0/P    2    0          0.0        0.0           0.0     0.0   \n1     0002_01  F/0/S    1    0        109.0        9.0          25.0   549.0   \n2     0003_01  A/0/S    3    1         43.0     3576.0           0.0  6715.0   \n3     0003_02  A/0/S    2    0          0.0     1283.0         371.0  3329.0   \n4     0004_01  F/1/S    1    0        303.0       70.0         151.0   565.0   \n\n   VRDeck               Name  ...  HomePlanet_Mars  Destination_55 Cancri e  \\\n0     0.0    Maham Ofracculy  ...            False                    False   \n1    44.0       Juanna Vines  ...            False                    False   \n2    49.0      Altark Susent  ...            False                    False   \n3   193.0       Solam Susent  ...            False                    False   \n4     2.0  Willy Santantines  ...            False                    False   \n\n   Destination_PSO J318.5-22  Destination_TRAPPIST-1e  CryoSleep_False  \\\n0                      False                     True             True   \n1                      False                     True             True   \n2                      False                     True             True   \n3                      False                     True             True   \n4                      False                     True             True   \n\n   CryoSleep_True        AgeBin  deck  num side  \n0           False  (31.6, 47.4]     1    0    P  \n1           False  (15.8, 31.6]     3    0    S  \n2           False  (47.4, 63.2]     2    0    S  \n3           False  (31.6, 47.4]     2    0    S  \n4           False  (15.8, 31.6]     3    1    S  \n\n[5 rows x 23 columns]",
      "text/html": "<div>\n<style scoped>\n    .dataframe tbody tr th:only-of-type {\n        vertical-align: middle;\n    }\n\n    .dataframe tbody tr th {\n        vertical-align: top;\n    }\n\n    .dataframe thead th {\n        text-align: right;\n    }\n</style>\n<table border=\"1\" class=\"dataframe\">\n  <thead>\n    <tr style=\"text-align: right;\">\n      <th></th>\n      <th>PassengerId</th>\n      <th>Cabin</th>\n      <th>Age</th>\n      <th>VIP</th>\n      <th>RoomService</th>\n      <th>FoodCourt</th>\n      <th>ShoppingMall</th>\n      <th>Spa</th>\n      <th>VRDeck</th>\n      <th>Name</th>\n      <th>...</th>\n      <th>HomePlanet_Mars</th>\n      <th>Destination_55 Cancri e</th>\n      <th>Destination_PSO J318.5-22</th>\n      <th>Destination_TRAPPIST-1e</th>\n      <th>CryoSleep_False</th>\n      <th>CryoSleep_True</th>\n      <th>AgeBin</th>\n      <th>deck</th>\n      <th>num</th>\n      <th>side</th>\n    </tr>\n  </thead>\n  <tbody>\n    <tr>\n      <th>0</th>\n      <td>0001_01</td>\n      <td>B/0/P</td>\n      <td>2</td>\n      <td>0</td>\n      <td>0.0</td>\n      <td>0.0</td>\n      <td>0.0</td>\n      <td>0.0</td>\n      <td>0.0</td>\n      <td>Maham Ofracculy</td>\n      <td>...</td>\n      <td>False</td>\n      <td>False</td>\n      <td>False</td>\n      <td>True</td>\n      <td>True</td>\n      <td>False</td>\n      <td>(31.6, 47.4]</td>\n      <td>1</td>\n      <td>0</td>\n      <td>P</td>\n    </tr>\n    <tr>\n      <th>1</th>\n      <td>0002_01</td>\n      <td>F/0/S</td>\n      <td>1</td>\n      <td>0</td>\n      <td>109.0</td>\n      <td>9.0</td>\n      <td>25.0</td>\n      <td>549.0</td>\n      <td>44.0</td>\n      <td>Juanna Vines</td>\n      <td>...</td>\n      <td>False</td>\n      <td>False</td>\n      <td>False</td>\n      <td>True</td>\n      <td>True</td>\n      <td>False</td>\n      <td>(15.8, 31.6]</td>\n      <td>3</td>\n      <td>0</td>\n      <td>S</td>\n    </tr>\n    <tr>\n      <th>2</th>\n      <td>0003_01</td>\n      <td>A/0/S</td>\n      <td>3</td>\n      <td>1</td>\n      <td>43.0</td>\n      <td>3576.0</td>\n      <td>0.0</td>\n      <td>6715.0</td>\n      <td>49.0</td>\n      <td>Altark Susent</td>\n      <td>...</td>\n      <td>False</td>\n      <td>False</td>\n      <td>False</td>\n      <td>True</td>\n      <td>True</td>\n      <td>False</td>\n      <td>(47.4, 63.2]</td>\n      <td>2</td>\n      <td>0</td>\n      <td>S</td>\n    </tr>\n    <tr>\n      <th>3</th>\n      <td>0003_02</td>\n      <td>A/0/S</td>\n      <td>2</td>\n      <td>0</td>\n      <td>0.0</td>\n      <td>1283.0</td>\n      <td>371.0</td>\n      <td>3329.0</td>\n      <td>193.0</td>\n      <td>Solam Susent</td>\n      <td>...</td>\n      <td>False</td>\n      <td>False</td>\n      <td>False</td>\n      <td>True</td>\n      <td>True</td>\n      <td>False</td>\n      <td>(31.6, 47.4]</td>\n      <td>2</td>\n      <td>0</td>\n      <td>S</td>\n    </tr>\n    <tr>\n      <th>4</th>\n      <td>0004_01</td>\n      <td>F/1/S</td>\n      <td>1</td>\n      <td>0</td>\n      <td>303.0</td>\n      <td>70.0</td>\n      <td>151.0</td>\n      <td>565.0</td>\n      <td>2.0</td>\n      <td>Willy Santantines</td>\n      <td>...</td>\n      <td>False</td>\n      <td>False</td>\n      <td>False</td>\n      <td>True</td>\n      <td>True</td>\n      <td>False</td>\n      <td>(15.8, 31.6]</td>\n      <td>3</td>\n      <td>1</td>\n      <td>S</td>\n    </tr>\n  </tbody>\n</table>\n<p>5 rows × 23 columns</p>\n</div>"
     },
     "execution_count": 40,
     "metadata": {},
     "output_type": "execute_result"
    }
   ],
   "source": [
    "deck_mapping = {\"B\": 1, \"C\": 1, \"G\": 2,\"Z\": 2, \"A\": 2, \"F\": 3, \"D\": 3, \"E\": 4, \"T\": 5}\n",
    "for dataset in combine:\n",
    "    dataset['deck'] = dataset['deck'].map(deck_mapping)\n",
    "\n",
    "train_df.head()"
   ],
   "metadata": {
    "collapsed": false,
    "ExecuteTime": {
     "end_time": "2024-03-17T16:12:43.259404800Z",
     "start_time": "2024-03-17T16:12:43.153969Z"
    }
   },
   "id": "54f6d765c9f6c1d5",
   "execution_count": 40
  },
  {
   "cell_type": "code",
   "outputs": [
    {
     "data": {
      "text/plain": "  PassengerId  Cabin  Age  VIP  RoomService  FoodCourt  ShoppingMall     Spa  \\\n0     0013_01  G/3/S    1    0          0.0        0.0           0.0     0.0   \n1     0018_01  F/4/S    1    0          0.0        9.0           0.0  2823.0   \n2     0019_01  C/0/S    1    0          0.0        0.0           0.0     0.0   \n3     0021_01  C/1/S    2    0          0.0     6652.0           0.0   181.0   \n4     0023_01  F/5/S    1    0         10.0        0.0         635.0     0.0   \n\n   VRDeck              Name  ...  HomePlanet_Mars  Destination_55 Cancri e  \\\n0     0.0   Nelly Carsoning  ...            False                    False   \n1     0.0    Lerome Peckers  ...            False                    False   \n2     0.0   Sabih Unhearfus  ...            False                     True   \n3   585.0  Meratz Caltilter  ...            False                    False   \n4     0.0   Brence Harperez  ...            False                    False   \n\n   Destination_PSO J318.5-22  Destination_TRAPPIST-1e  CryoSleep_False  \\\n0                      False                     True            False   \n1                      False                     True             True   \n2                      False                    False            False   \n3                      False                     True             True   \n4                      False                     True             True   \n\n   CryoSleep_True        AgeBin  deck num  side  \n0            True  (15.8, 31.6]     2   3     S  \n1           False  (15.8, 31.6]     3   4     S  \n2            True  (15.8, 31.6]     1   0     S  \n3           False  (31.6, 47.4]     1   1     S  \n4           False  (15.8, 31.6]     3   5     S  \n\n[5 rows x 22 columns]",
      "text/html": "<div>\n<style scoped>\n    .dataframe tbody tr th:only-of-type {\n        vertical-align: middle;\n    }\n\n    .dataframe tbody tr th {\n        vertical-align: top;\n    }\n\n    .dataframe thead th {\n        text-align: right;\n    }\n</style>\n<table border=\"1\" class=\"dataframe\">\n  <thead>\n    <tr style=\"text-align: right;\">\n      <th></th>\n      <th>PassengerId</th>\n      <th>Cabin</th>\n      <th>Age</th>\n      <th>VIP</th>\n      <th>RoomService</th>\n      <th>FoodCourt</th>\n      <th>ShoppingMall</th>\n      <th>Spa</th>\n      <th>VRDeck</th>\n      <th>Name</th>\n      <th>...</th>\n      <th>HomePlanet_Mars</th>\n      <th>Destination_55 Cancri e</th>\n      <th>Destination_PSO J318.5-22</th>\n      <th>Destination_TRAPPIST-1e</th>\n      <th>CryoSleep_False</th>\n      <th>CryoSleep_True</th>\n      <th>AgeBin</th>\n      <th>deck</th>\n      <th>num</th>\n      <th>side</th>\n    </tr>\n  </thead>\n  <tbody>\n    <tr>\n      <th>0</th>\n      <td>0013_01</td>\n      <td>G/3/S</td>\n      <td>1</td>\n      <td>0</td>\n      <td>0.0</td>\n      <td>0.0</td>\n      <td>0.0</td>\n      <td>0.0</td>\n      <td>0.0</td>\n      <td>Nelly Carsoning</td>\n      <td>...</td>\n      <td>False</td>\n      <td>False</td>\n      <td>False</td>\n      <td>True</td>\n      <td>False</td>\n      <td>True</td>\n      <td>(15.8, 31.6]</td>\n      <td>2</td>\n      <td>3</td>\n      <td>S</td>\n    </tr>\n    <tr>\n      <th>1</th>\n      <td>0018_01</td>\n      <td>F/4/S</td>\n      <td>1</td>\n      <td>0</td>\n      <td>0.0</td>\n      <td>9.0</td>\n      <td>0.0</td>\n      <td>2823.0</td>\n      <td>0.0</td>\n      <td>Lerome Peckers</td>\n      <td>...</td>\n      <td>False</td>\n      <td>False</td>\n      <td>False</td>\n      <td>True</td>\n      <td>True</td>\n      <td>False</td>\n      <td>(15.8, 31.6]</td>\n      <td>3</td>\n      <td>4</td>\n      <td>S</td>\n    </tr>\n    <tr>\n      <th>2</th>\n      <td>0019_01</td>\n      <td>C/0/S</td>\n      <td>1</td>\n      <td>0</td>\n      <td>0.0</td>\n      <td>0.0</td>\n      <td>0.0</td>\n      <td>0.0</td>\n      <td>0.0</td>\n      <td>Sabih Unhearfus</td>\n      <td>...</td>\n      <td>False</td>\n      <td>True</td>\n      <td>False</td>\n      <td>False</td>\n      <td>False</td>\n      <td>True</td>\n      <td>(15.8, 31.6]</td>\n      <td>1</td>\n      <td>0</td>\n      <td>S</td>\n    </tr>\n    <tr>\n      <th>3</th>\n      <td>0021_01</td>\n      <td>C/1/S</td>\n      <td>2</td>\n      <td>0</td>\n      <td>0.0</td>\n      <td>6652.0</td>\n      <td>0.0</td>\n      <td>181.0</td>\n      <td>585.0</td>\n      <td>Meratz Caltilter</td>\n      <td>...</td>\n      <td>False</td>\n      <td>False</td>\n      <td>False</td>\n      <td>True</td>\n      <td>True</td>\n      <td>False</td>\n      <td>(31.6, 47.4]</td>\n      <td>1</td>\n      <td>1</td>\n      <td>S</td>\n    </tr>\n    <tr>\n      <th>4</th>\n      <td>0023_01</td>\n      <td>F/5/S</td>\n      <td>1</td>\n      <td>0</td>\n      <td>10.0</td>\n      <td>0.0</td>\n      <td>635.0</td>\n      <td>0.0</td>\n      <td>0.0</td>\n      <td>Brence Harperez</td>\n      <td>...</td>\n      <td>False</td>\n      <td>False</td>\n      <td>False</td>\n      <td>True</td>\n      <td>True</td>\n      <td>False</td>\n      <td>(15.8, 31.6]</td>\n      <td>3</td>\n      <td>5</td>\n      <td>S</td>\n    </tr>\n  </tbody>\n</table>\n<p>5 rows × 22 columns</p>\n</div>"
     },
     "execution_count": 41,
     "metadata": {},
     "output_type": "execute_result"
    }
   ],
   "source": [
    "test_df.head()"
   ],
   "metadata": {
    "collapsed": false,
    "ExecuteTime": {
     "end_time": "2024-03-17T16:12:43.322086400Z",
     "start_time": "2024-03-17T16:12:43.201575900Z"
    }
   },
   "id": "ad06b69b4e75f9e",
   "execution_count": 41
  },
  {
   "cell_type": "code",
   "outputs": [],
   "source": [
    "side_map = {'P':1,'S':0}\n",
    "for dataset in combine:\n",
    "    dataset['side'] = dataset['side'].map(side_map)"
   ],
   "metadata": {
    "collapsed": false,
    "ExecuteTime": {
     "end_time": "2024-03-17T16:12:43.330413Z",
     "start_time": "2024-03-17T16:12:43.232223Z"
    }
   },
   "id": "8fc629aec62d4d63",
   "execution_count": 42
  },
  {
   "cell_type": "code",
   "outputs": [
    {
     "name": "stderr",
     "output_type": "stream",
     "text": [
      "C:\\Users\\rirer\\AppData\\Local\\Temp\\ipykernel_18508\\135366022.py:2: FutureWarning: A value is trying to be set on a copy of a DataFrame or Series through chained assignment using an inplace method.\n",
      "The behavior will change in pandas 3.0. This inplace method will never work because the intermediate object on which we are setting values always behaves as a copy.\n",
      "\n",
      "For example, when doing 'df[col].method(value, inplace=True)', try using 'df.method({col: value}, inplace=True)' or df[col] = df[col].method(value) instead, to perform the operation inplace on the original object.\n",
      "\n",
      "\n",
      "  dataset['side'].fillna(dataset['side'].mode()[0],inplace=True)\n"
     ]
    }
   ],
   "source": [
    "for dataset in combine:\n",
    "    dataset['side'].fillna(dataset['side'].mode()[0],inplace=True)"
   ],
   "metadata": {
    "collapsed": false,
    "ExecuteTime": {
     "end_time": "2024-03-17T16:12:43.356972100Z",
     "start_time": "2024-03-17T16:12:43.248266700Z"
    }
   },
   "id": "e83a8aeeee3e5ed",
   "execution_count": 43
  },
  {
   "cell_type": "code",
   "outputs": [
    {
     "data": {
      "text/plain": "     PassengerId     Cabin  Age  VIP  RoomService  FoodCourt  ShoppingMall  \\\n0        0013_01     G/3/S    1    0          0.0        0.0           0.0   \n1        0018_01     F/4/S    1    0          0.0        9.0           0.0   \n2        0019_01     C/0/S    1    0          0.0        0.0           0.0   \n3        0021_01     C/1/S    2    0          0.0     6652.0           0.0   \n4        0023_01     F/5/S    1    0         10.0        0.0         635.0   \n...          ...       ...  ...  ...          ...        ...           ...   \n4272     9266_02  G/1496/S    2    0          0.0        0.0           0.0   \n4273     9269_01  Z/9999/Z    2    0          0.0      847.0          17.0   \n4274     9271_01   D/296/P    1    0          0.0        0.0           0.0   \n4275     9273_01   D/297/P    1    0          0.0     2680.0           0.0   \n4276     9277_01  G/1498/S    2    0          0.0        0.0           0.0   \n\n         Spa  VRDeck              Name  ...  HomePlanet_Mars  \\\n0        0.0     0.0   Nelly Carsoning  ...            False   \n1     2823.0     0.0    Lerome Peckers  ...            False   \n2        0.0     0.0   Sabih Unhearfus  ...            False   \n3      181.0   585.0  Meratz Caltilter  ...            False   \n4        0.0     0.0   Brence Harperez  ...            False   \n...      ...     ...               ...  ...              ...   \n4272     0.0     0.0       Jeron Peter  ...            False   \n4273    10.0   144.0     Matty Scheron  ...            False   \n4274     0.0     0.0       Jayrin Pore  ...             True   \n4275     0.0   523.0    Kitakan Conale  ...            False   \n4276     0.0     0.0  Lilace Leonzaley  ...            False   \n\n      Destination_55 Cancri e  Destination_PSO J318.5-22  \\\n0                       False                      False   \n1                       False                      False   \n2                        True                      False   \n3                       False                      False   \n4                       False                      False   \n...                       ...                        ...   \n4272                    False                      False   \n4273                    False                      False   \n4274                     True                      False   \n4275                    False                      False   \n4276                    False                       True   \n\n      Destination_TRAPPIST-1e  CryoSleep_False  CryoSleep_True        AgeBin  \\\n0                        True            False            True  (15.8, 31.6]   \n1                        True             True           False  (15.8, 31.6]   \n2                       False            False            True  (15.8, 31.6]   \n3                        True             True           False  (31.6, 47.4]   \n4                        True             True           False  (15.8, 31.6]   \n...                       ...              ...             ...           ...   \n4272                     True            False            True  (31.6, 47.4]   \n4273                     True             True           False  (31.6, 47.4]   \n4274                    False            False            True  (15.8, 31.6]   \n4275                     True             True           False  (15.8, 31.6]   \n4276                    False            False            True  (31.6, 47.4]   \n\n      deck   num  side  \n0        2     3   0.0  \n1        3     4   0.0  \n2        1     0   0.0  \n3        1     1   0.0  \n4        3     5   0.0  \n...    ...   ...   ...  \n4272     2  1496   0.0  \n4273     2  9999   0.0  \n4274     3   296   1.0  \n4275     3   297   1.0  \n4276     2  1498   0.0  \n\n[4277 rows x 22 columns]",
      "text/html": "<div>\n<style scoped>\n    .dataframe tbody tr th:only-of-type {\n        vertical-align: middle;\n    }\n\n    .dataframe tbody tr th {\n        vertical-align: top;\n    }\n\n    .dataframe thead th {\n        text-align: right;\n    }\n</style>\n<table border=\"1\" class=\"dataframe\">\n  <thead>\n    <tr style=\"text-align: right;\">\n      <th></th>\n      <th>PassengerId</th>\n      <th>Cabin</th>\n      <th>Age</th>\n      <th>VIP</th>\n      <th>RoomService</th>\n      <th>FoodCourt</th>\n      <th>ShoppingMall</th>\n      <th>Spa</th>\n      <th>VRDeck</th>\n      <th>Name</th>\n      <th>...</th>\n      <th>HomePlanet_Mars</th>\n      <th>Destination_55 Cancri e</th>\n      <th>Destination_PSO J318.5-22</th>\n      <th>Destination_TRAPPIST-1e</th>\n      <th>CryoSleep_False</th>\n      <th>CryoSleep_True</th>\n      <th>AgeBin</th>\n      <th>deck</th>\n      <th>num</th>\n      <th>side</th>\n    </tr>\n  </thead>\n  <tbody>\n    <tr>\n      <th>0</th>\n      <td>0013_01</td>\n      <td>G/3/S</td>\n      <td>1</td>\n      <td>0</td>\n      <td>0.0</td>\n      <td>0.0</td>\n      <td>0.0</td>\n      <td>0.0</td>\n      <td>0.0</td>\n      <td>Nelly Carsoning</td>\n      <td>...</td>\n      <td>False</td>\n      <td>False</td>\n      <td>False</td>\n      <td>True</td>\n      <td>False</td>\n      <td>True</td>\n      <td>(15.8, 31.6]</td>\n      <td>2</td>\n      <td>3</td>\n      <td>0.0</td>\n    </tr>\n    <tr>\n      <th>1</th>\n      <td>0018_01</td>\n      <td>F/4/S</td>\n      <td>1</td>\n      <td>0</td>\n      <td>0.0</td>\n      <td>9.0</td>\n      <td>0.0</td>\n      <td>2823.0</td>\n      <td>0.0</td>\n      <td>Lerome Peckers</td>\n      <td>...</td>\n      <td>False</td>\n      <td>False</td>\n      <td>False</td>\n      <td>True</td>\n      <td>True</td>\n      <td>False</td>\n      <td>(15.8, 31.6]</td>\n      <td>3</td>\n      <td>4</td>\n      <td>0.0</td>\n    </tr>\n    <tr>\n      <th>2</th>\n      <td>0019_01</td>\n      <td>C/0/S</td>\n      <td>1</td>\n      <td>0</td>\n      <td>0.0</td>\n      <td>0.0</td>\n      <td>0.0</td>\n      <td>0.0</td>\n      <td>0.0</td>\n      <td>Sabih Unhearfus</td>\n      <td>...</td>\n      <td>False</td>\n      <td>True</td>\n      <td>False</td>\n      <td>False</td>\n      <td>False</td>\n      <td>True</td>\n      <td>(15.8, 31.6]</td>\n      <td>1</td>\n      <td>0</td>\n      <td>0.0</td>\n    </tr>\n    <tr>\n      <th>3</th>\n      <td>0021_01</td>\n      <td>C/1/S</td>\n      <td>2</td>\n      <td>0</td>\n      <td>0.0</td>\n      <td>6652.0</td>\n      <td>0.0</td>\n      <td>181.0</td>\n      <td>585.0</td>\n      <td>Meratz Caltilter</td>\n      <td>...</td>\n      <td>False</td>\n      <td>False</td>\n      <td>False</td>\n      <td>True</td>\n      <td>True</td>\n      <td>False</td>\n      <td>(31.6, 47.4]</td>\n      <td>1</td>\n      <td>1</td>\n      <td>0.0</td>\n    </tr>\n    <tr>\n      <th>4</th>\n      <td>0023_01</td>\n      <td>F/5/S</td>\n      <td>1</td>\n      <td>0</td>\n      <td>10.0</td>\n      <td>0.0</td>\n      <td>635.0</td>\n      <td>0.0</td>\n      <td>0.0</td>\n      <td>Brence Harperez</td>\n      <td>...</td>\n      <td>False</td>\n      <td>False</td>\n      <td>False</td>\n      <td>True</td>\n      <td>True</td>\n      <td>False</td>\n      <td>(15.8, 31.6]</td>\n      <td>3</td>\n      <td>5</td>\n      <td>0.0</td>\n    </tr>\n    <tr>\n      <th>...</th>\n      <td>...</td>\n      <td>...</td>\n      <td>...</td>\n      <td>...</td>\n      <td>...</td>\n      <td>...</td>\n      <td>...</td>\n      <td>...</td>\n      <td>...</td>\n      <td>...</td>\n      <td>...</td>\n      <td>...</td>\n      <td>...</td>\n      <td>...</td>\n      <td>...</td>\n      <td>...</td>\n      <td>...</td>\n      <td>...</td>\n      <td>...</td>\n      <td>...</td>\n      <td>...</td>\n    </tr>\n    <tr>\n      <th>4272</th>\n      <td>9266_02</td>\n      <td>G/1496/S</td>\n      <td>2</td>\n      <td>0</td>\n      <td>0.0</td>\n      <td>0.0</td>\n      <td>0.0</td>\n      <td>0.0</td>\n      <td>0.0</td>\n      <td>Jeron Peter</td>\n      <td>...</td>\n      <td>False</td>\n      <td>False</td>\n      <td>False</td>\n      <td>True</td>\n      <td>False</td>\n      <td>True</td>\n      <td>(31.6, 47.4]</td>\n      <td>2</td>\n      <td>1496</td>\n      <td>0.0</td>\n    </tr>\n    <tr>\n      <th>4273</th>\n      <td>9269_01</td>\n      <td>Z/9999/Z</td>\n      <td>2</td>\n      <td>0</td>\n      <td>0.0</td>\n      <td>847.0</td>\n      <td>17.0</td>\n      <td>10.0</td>\n      <td>144.0</td>\n      <td>Matty Scheron</td>\n      <td>...</td>\n      <td>False</td>\n      <td>False</td>\n      <td>False</td>\n      <td>True</td>\n      <td>True</td>\n      <td>False</td>\n      <td>(31.6, 47.4]</td>\n      <td>2</td>\n      <td>9999</td>\n      <td>0.0</td>\n    </tr>\n    <tr>\n      <th>4274</th>\n      <td>9271_01</td>\n      <td>D/296/P</td>\n      <td>1</td>\n      <td>0</td>\n      <td>0.0</td>\n      <td>0.0</td>\n      <td>0.0</td>\n      <td>0.0</td>\n      <td>0.0</td>\n      <td>Jayrin Pore</td>\n      <td>...</td>\n      <td>True</td>\n      <td>True</td>\n      <td>False</td>\n      <td>False</td>\n      <td>False</td>\n      <td>True</td>\n      <td>(15.8, 31.6]</td>\n      <td>3</td>\n      <td>296</td>\n      <td>1.0</td>\n    </tr>\n    <tr>\n      <th>4275</th>\n      <td>9273_01</td>\n      <td>D/297/P</td>\n      <td>1</td>\n      <td>0</td>\n      <td>0.0</td>\n      <td>2680.0</td>\n      <td>0.0</td>\n      <td>0.0</td>\n      <td>523.0</td>\n      <td>Kitakan Conale</td>\n      <td>...</td>\n      <td>False</td>\n      <td>False</td>\n      <td>False</td>\n      <td>True</td>\n      <td>True</td>\n      <td>False</td>\n      <td>(15.8, 31.6]</td>\n      <td>3</td>\n      <td>297</td>\n      <td>1.0</td>\n    </tr>\n    <tr>\n      <th>4276</th>\n      <td>9277_01</td>\n      <td>G/1498/S</td>\n      <td>2</td>\n      <td>0</td>\n      <td>0.0</td>\n      <td>0.0</td>\n      <td>0.0</td>\n      <td>0.0</td>\n      <td>0.0</td>\n      <td>Lilace Leonzaley</td>\n      <td>...</td>\n      <td>False</td>\n      <td>False</td>\n      <td>True</td>\n      <td>False</td>\n      <td>False</td>\n      <td>True</td>\n      <td>(31.6, 47.4]</td>\n      <td>2</td>\n      <td>1498</td>\n      <td>0.0</td>\n    </tr>\n  </tbody>\n</table>\n<p>4277 rows × 22 columns</p>\n</div>"
     },
     "execution_count": 44,
     "metadata": {},
     "output_type": "execute_result"
    }
   ],
   "source": [
    "test_df"
   ],
   "metadata": {
    "collapsed": false,
    "ExecuteTime": {
     "end_time": "2024-03-17T16:12:43.451650800Z",
     "start_time": "2024-03-17T16:12:43.261403900Z"
    }
   },
   "id": "9fba67899432833f",
   "execution_count": 44
  },
  {
   "cell_type": "code",
   "outputs": [
    {
     "data": {
      "text/plain": "PassengerId                    0\nCabin                          0\nAge                            0\nVIP                            0\nRoomService                    0\nFoodCourt                      0\nShoppingMall                   0\nSpa                            0\nVRDeck                         0\nName                         200\nTransported                    0\nHomePlanet_Earth               0\nHomePlanet_Europa              0\nHomePlanet_Mars                0\nDestination_55 Cancri e        0\nDestination_PSO J318.5-22      0\nDestination_TRAPPIST-1e        0\nCryoSleep_False                0\nCryoSleep_True                 0\nAgeBin                         0\ndeck                           0\nnum                            0\nside                           0\ndtype: int64"
     },
     "execution_count": 45,
     "metadata": {},
     "output_type": "execute_result"
    }
   ],
   "source": [
    "train_df.isnull().sum()"
   ],
   "metadata": {
    "collapsed": false,
    "ExecuteTime": {
     "end_time": "2024-03-17T16:12:43.455153Z",
     "start_time": "2024-03-17T16:12:43.311568700Z"
    }
   },
   "id": "f8c114c3781e1ff4",
   "execution_count": 45
  },
  {
   "cell_type": "code",
   "outputs": [
    {
     "data": {
      "text/plain": "(0.0, 10000.0)"
     },
     "execution_count": 46,
     "metadata": {},
     "output_type": "execute_result"
    },
    {
     "data": {
      "text/plain": "<Figure size 640x480 with 1 Axes>",
      "image/png": "[encoded data removed]"
     },
     "metadata": {},
     "output_type": "display_data"
    }
   ],
   "source": [
    "plt.subplot(3,1,2)\n",
    "sns.histplot(data=train_df, x='num', hue='Transported',binwidth=20)\n",
    "plt.title('Cabin number')\n",
    "plt.xlim([0,10000])"
   ],
   "metadata": {
    "collapsed": false,
    "ExecuteTime": {
     "end_time": "2024-03-17T16:12:50.511224400Z",
     "start_time": "2024-03-17T16:12:43.326405200Z"
    }
   },
   "id": "68b07cd607c5d49c",
   "execution_count": 46
  },
  {
   "cell_type": "code",
   "outputs": [],
   "source": [
    "for dataset in combine:\n",
    "    dataset['region1']=(dataset['num']<302.5).astype(int)  \n",
    "    dataset['region2']=((dataset['num']>=302.5)& (dataset['num']<600)).astype(int)  \n",
    "    dataset['region3']=((dataset['num']>=600)& (dataset['num']<900)).astype(int)  \n",
    "    dataset['region4']=((dataset['num']>=900)& (dataset['num']<1200)).astype(int)  \n",
    "    dataset['region5']=((dataset['num']>=1200)& (dataset['num']<1500)).astype(int)  \n",
    "    dataset['region6']=((dataset['num']>=1500)& (dataset['num']<1800)).astype(int)  \n",
    "    dataset['region7']=(dataset['num']>1800).astype(int)  "
   ],
   "metadata": {
    "collapsed": false,
    "ExecuteTime": {
     "end_time": "2024-03-17T16:12:50.511224400Z",
     "start_time": "2024-03-17T16:12:50.466154600Z"
    }
   },
   "id": "95002dd986299b3c",
   "execution_count": 47
  },
  {
   "cell_type": "code",
   "outputs": [],
   "source": [
    "for dataset in combine:\n",
    "    dataset['group'] = dataset.PassengerId.apply(lambda x:x.split('_')[0])\n",
    "    dataset['group'] = dataset['group'].astype(int)"
   ],
   "metadata": {
    "collapsed": false,
    "ExecuteTime": {
     "end_time": "2024-03-17T16:12:50.579373500Z",
     "start_time": "2024-03-17T16:12:50.482670Z"
    }
   },
   "id": "73631dad0c9514f0",
   "execution_count": 48
  },
  {
   "cell_type": "code",
   "outputs": [
    {
     "data": {
      "text/plain": "  PassengerId  Cabin  Age  VIP  RoomService  FoodCourt  ShoppingMall     Spa  \\\n0     0001_01  B/0/P    2    0          0.0        0.0           0.0     0.0   \n1     0002_01  F/0/S    1    0        109.0        9.0          25.0   549.0   \n2     0003_01  A/0/S    3    1         43.0     3576.0           0.0  6715.0   \n3     0003_02  A/0/S    2    0          0.0     1283.0         371.0  3329.0   \n4     0004_01  F/1/S    1    0        303.0       70.0         151.0   565.0   \n\n   VRDeck               Name  ...  num  side  region1  region2  region3  \\\n0     0.0    Maham Ofracculy  ...    0   1.0        1        0        0   \n1    44.0       Juanna Vines  ...    0   0.0        1        0        0   \n2    49.0      Altark Susent  ...    0   0.0        1        0        0   \n3   193.0       Solam Susent  ...    0   0.0        1        0        0   \n4     2.0  Willy Santantines  ...    1   0.0        1        0        0   \n\n   region4  region5  region6  region7 group  \n0        0        0        0        0     1  \n1        0        0        0        0     2  \n2        0        0        0        0     3  \n3        0        0        0        0     3  \n4        0        0        0        0     4  \n\n[5 rows x 31 columns]",
      "text/html": "<div>\n<style scoped>\n    .dataframe tbody tr th:only-of-type {\n        vertical-align: middle;\n    }\n\n    .dataframe tbody tr th {\n        vertical-align: top;\n    }\n\n    .dataframe thead th {\n        text-align: right;\n    }\n</style>\n<table border=\"1\" class=\"dataframe\">\n  <thead>\n    <tr style=\"text-align: right;\">\n      <th></th>\n      <th>PassengerId</th>\n      <th>Cabin</th>\n      <th>Age</th>\n      <th>VIP</th>\n      <th>RoomService</th>\n      <th>FoodCourt</th>\n      <th>ShoppingMall</th>\n      <th>Spa</th>\n      <th>VRDeck</th>\n      <th>Name</th>\n      <th>...</th>\n      <th>num</th>\n      <th>side</th>\n      <th>region1</th>\n      <th>region2</th>\n      <th>region3</th>\n      <th>region4</th>\n      <th>region5</th>\n      <th>region6</th>\n      <th>region7</th>\n      <th>group</th>\n    </tr>\n  </thead>\n  <tbody>\n    <tr>\n      <th>0</th>\n      <td>0001_01</td>\n      <td>B/0/P</td>\n      <td>2</td>\n      <td>0</td>\n      <td>0.0</td>\n      <td>0.0</td>\n      <td>0.0</td>\n      <td>0.0</td>\n      <td>0.0</td>\n      <td>Maham Ofracculy</td>\n      <td>...</td>\n      <td>0</td>\n      <td>1.0</td>\n      <td>1</td>\n      <td>0</td>\n      <td>0</td>\n      <td>0</td>\n      <td>0</td>\n      <td>0</td>\n      <td>0</td>\n      <td>1</td>\n    </tr>\n    <tr>\n      <th>1</th>\n      <td>0002_01</td>\n      <td>F/0/S</td>\n      <td>1</td>\n      <td>0</td>\n      <td>109.0</td>\n      <td>9.0</td>\n      <td>25.0</td>\n      <td>549.0</td>\n      <td>44.0</td>\n      <td>Juanna Vines</td>\n      <td>...</td>\n      <td>0</td>\n      <td>0.0</td>\n      <td>1</td>\n      <td>0</td>\n      <td>0</td>\n      <td>0</td>\n      <td>0</td>\n      <td>0</td>\n      <td>0</td>\n      <td>2</td>\n    </tr>\n    <tr>\n      <th>2</th>\n      <td>0003_01</td>\n      <td>A/0/S</td>\n      <td>3</td>\n      <td>1</td>\n      <td>43.0</td>\n      <td>3576.0</td>\n      <td>0.0</td>\n      <td>6715.0</td>\n      <td>49.0</td>\n      <td>Altark Susent</td>\n      <td>...</td>\n      <td>0</td>\n      <td>0.0</td>\n      <td>1</td>\n      <td>0</td>\n      <td>0</td>\n      <td>0</td>\n      <td>0</td>\n      <td>0</td>\n      <td>0</td>\n      <td>3</td>\n    </tr>\n    <tr>\n      <th>3</th>\n      <td>0003_02</td>\n      <td>A/0/S</td>\n      <td>2</td>\n      <td>0</td>\n      <td>0.0</td>\n      <td>1283.0</td>\n      <td>371.0</td>\n      <td>3329.0</td>\n      <td>193.0</td>\n      <td>Solam Susent</td>\n      <td>...</td>\n      <td>0</td>\n      <td>0.0</td>\n      <td>1</td>\n      <td>0</td>\n      <td>0</td>\n      <td>0</td>\n      <td>0</td>\n      <td>0</td>\n      <td>0</td>\n      <td>3</td>\n    </tr>\n    <tr>\n      <th>4</th>\n      <td>0004_01</td>\n      <td>F/1/S</td>\n      <td>1</td>\n      <td>0</td>\n      <td>303.0</td>\n      <td>70.0</td>\n      <td>151.0</td>\n      <td>565.0</td>\n      <td>2.0</td>\n      <td>Willy Santantines</td>\n      <td>...</td>\n      <td>1</td>\n      <td>0.0</td>\n      <td>1</td>\n      <td>0</td>\n      <td>0</td>\n      <td>0</td>\n      <td>0</td>\n      <td>0</td>\n      <td>0</td>\n      <td>4</td>\n    </tr>\n  </tbody>\n</table>\n<p>5 rows × 31 columns</p>\n</div>"
     },
     "execution_count": 49,
     "metadata": {},
     "output_type": "execute_result"
    }
   ],
   "source": [
    "train_df.head()"
   ],
   "metadata": {
    "collapsed": false,
    "ExecuteTime": {
     "end_time": "2024-03-17T16:12:50.606932700Z",
     "start_time": "2024-03-17T16:12:50.535274500Z"
    }
   },
   "id": "ee8cf8d083e51821",
   "execution_count": 49
  },
  {
   "cell_type": "code",
   "outputs": [],
   "source": [
    "for dataset in combine:\n",
    "    dataset['sum'] = dataset['VRDeck'] + dataset['Spa'] + dataset['ShoppingMall'] + dataset['RoomService'] + dataset['FoodCourt']"
   ],
   "metadata": {
    "collapsed": false,
    "ExecuteTime": {
     "end_time": "2024-03-17T16:12:50.645527Z",
     "start_time": "2024-03-17T16:12:50.595402700Z"
    }
   },
   "id": "6166a85df6ed94e0",
   "execution_count": 50
  },
  {
   "cell_type": "code",
   "outputs": [
    {
     "name": "stderr",
     "output_type": "stream",
     "text": [
      "C:\\Users\\rirer\\AppData\\Local\\Temp\\ipykernel_18508\\1703697635.py:10: FutureWarning: A value is trying to be set on a copy of a DataFrame or Series through chained assignment using an inplace method.\n",
      "The behavior will change in pandas 3.0. This inplace method will never work because the intermediate object on which we are setting values always behaves as a copy.\n",
      "\n",
      "For example, when doing 'df[col].method(value, inplace=True)', try using 'df.method({col: value}, inplace=True)' or df[col] = df[col].method(value) instead, to perform the operation inplace on the original object.\n",
      "\n",
      "\n",
      "  dataset['vr'].fillna(0,inplace = True)\n",
      "C:\\Users\\rirer\\AppData\\Local\\Temp\\ipykernel_18508\\1703697635.py:11: FutureWarning: A value is trying to be set on a copy of a DataFrame or Series through chained assignment using an inplace method.\n",
      "The behavior will change in pandas 3.0. This inplace method will never work because the intermediate object on which we are setting values always behaves as a copy.\n",
      "\n",
      "For example, when doing 'df[col].method(value, inplace=True)', try using 'df.method({col: value}, inplace=True)' or df[col] = df[col].method(value) instead, to perform the operation inplace on the original object.\n",
      "\n",
      "\n",
      "  dataset['spa'].fillna(0,inplace = True)\n",
      "C:\\Users\\rirer\\AppData\\Local\\Temp\\ipykernel_18508\\1703697635.py:12: FutureWarning: A value is trying to be set on a copy of a DataFrame or Series through chained assignment using an inplace method.\n",
      "The behavior will change in pandas 3.0. This inplace method will never work because the intermediate object on which we are setting values always behaves as a copy.\n",
      "\n",
      "For example, when doing 'df[col].method(value, inplace=True)', try using 'df.method({col: value}, inplace=True)' or df[col] = df[col].method(value) instead, to perform the operation inplace on the original object.\n",
      "\n",
      "\n",
      "  dataset['room'].fillna(0,inplace = True)\n",
      "C:\\Users\\rirer\\AppData\\Local\\Temp\\ipykernel_18508\\1703697635.py:13: FutureWarning: A value is trying to be set on a copy of a DataFrame or Series through chained assignment using an inplace method.\n",
      "The behavior will change in pandas 3.0. This inplace method will never work because the intermediate object on which we are setting values always behaves as a copy.\n",
      "\n",
      "For example, when doing 'df[col].method(value, inplace=True)', try using 'df.method({col: value}, inplace=True)' or df[col] = df[col].method(value) instead, to perform the operation inplace on the original object.\n",
      "\n",
      "\n",
      "  dataset['shop'].fillna(0,inplace = True)\n",
      "C:\\Users\\rirer\\AppData\\Local\\Temp\\ipykernel_18508\\1703697635.py:14: FutureWarning: A value is trying to be set on a copy of a DataFrame or Series through chained assignment using an inplace method.\n",
      "The behavior will change in pandas 3.0. This inplace method will never work because the intermediate object on which we are setting values always behaves as a copy.\n",
      "\n",
      "For example, when doing 'df[col].method(value, inplace=True)', try using 'df.method({col: value}, inplace=True)' or df[col] = df[col].method(value) instead, to perform the operation inplace on the original object.\n",
      "\n",
      "\n",
      "  dataset['food'].fillna(0,inplace = True)\n"
     ]
    }
   ],
   "source": [
    "for dataset in combine:\n",
    "    dataset['vr'] = dataset['VRDeck'] / dataset['sum']\n",
    "    dataset['spa'] = dataset['Spa'] / dataset['sum']\n",
    "    dataset['room'] = dataset['RoomService'] / dataset['sum']\n",
    "    dataset['shop'] = dataset['ShoppingMall'] / dataset['sum']\n",
    "    dataset['food'] = dataset['FoodCourt'] / dataset['sum']\n",
    "\n",
    "#заполняем поля поделенные на ноль\n",
    "for dataset in combine:\n",
    "    dataset['vr'].fillna(0,inplace = True)\n",
    "    dataset['spa'].fillna(0,inplace = True)\n",
    "    dataset['room'].fillna(0,inplace = True)\n",
    "    dataset['shop'].fillna(0,inplace = True)\n",
    "    dataset['food'].fillna(0,inplace = True)"
   ],
   "metadata": {
    "collapsed": false,
    "ExecuteTime": {
     "end_time": "2024-03-17T16:12:50.738786500Z",
     "start_time": "2024-03-17T16:12:50.623967900Z"
    }
   },
   "id": "7167cfc1df2131ba",
   "execution_count": 51
  },
  {
   "cell_type": "code",
   "outputs": [
    {
     "data": {
      "text/plain": "  PassengerId  Cabin  Age  VIP  RoomService  FoodCourt  ShoppingMall     Spa  \\\n0     0013_01  G/3/S    1    0          0.0        0.0           0.0     0.0   \n1     0018_01  F/4/S    1    0          0.0        9.0           0.0  2823.0   \n2     0019_01  C/0/S    1    0          0.0        0.0           0.0     0.0   \n3     0021_01  C/1/S    2    0          0.0     6652.0           0.0   181.0   \n4     0023_01  F/5/S    1    0         10.0        0.0         635.0     0.0   \n\n   VRDeck              Name  ...  region5  region6  region7  group     sum  \\\n0     0.0   Nelly Carsoning  ...        0        0        0     13     0.0   \n1     0.0    Lerome Peckers  ...        0        0        0     18  2832.0   \n2     0.0   Sabih Unhearfus  ...        0        0        0     19     0.0   \n3   585.0  Meratz Caltilter  ...        0        0        0     21  7418.0   \n4     0.0   Brence Harperez  ...        0        0        0     23   645.0   \n\n         vr       spa      room      shop      food  \n0  0.000000  0.000000  0.000000  0.000000  0.000000  \n1  0.000000  0.996822  0.000000  0.000000  0.003178  \n2  0.000000  0.000000  0.000000  0.000000  0.000000  \n3  0.078862  0.024400  0.000000  0.000000  0.896738  \n4  0.000000  0.000000  0.015504  0.984496  0.000000  \n\n[5 rows x 36 columns]",
      "text/html": "<div>\n<style scoped>\n    .dataframe tbody tr th:only-of-type {\n        vertical-align: middle;\n    }\n\n    .dataframe tbody tr th {\n        vertical-align: top;\n    }\n\n    .dataframe thead th {\n        text-align: right;\n    }\n</style>\n<table border=\"1\" class=\"dataframe\">\n  <thead>\n    <tr style=\"text-align: right;\">\n      <th></th>\n      <th>PassengerId</th>\n      <th>Cabin</th>\n      <th>Age</th>\n      <th>VIP</th>\n      <th>RoomService</th>\n      <th>FoodCourt</th>\n      <th>ShoppingMall</th>\n      <th>Spa</th>\n      <th>VRDeck</th>\n      <th>Name</th>\n      <th>...</th>\n      <th>region5</th>\n      <th>region6</th>\n      <th>region7</th>\n      <th>group</th>\n      <th>sum</th>\n      <th>vr</th>\n      <th>spa</th>\n      <th>room</th>\n      <th>shop</th>\n      <th>food</th>\n    </tr>\n  </thead>\n  <tbody>\n    <tr>\n      <th>0</th>\n      <td>0013_01</td>\n      <td>G/3/S</td>\n      <td>1</td>\n      <td>0</td>\n      <td>0.0</td>\n      <td>0.0</td>\n      <td>0.0</td>\n      <td>0.0</td>\n      <td>0.0</td>\n      <td>Nelly Carsoning</td>\n      <td>...</td>\n      <td>0</td>\n      <td>0</td>\n      <td>0</td>\n      <td>13</td>\n      <td>0.0</td>\n      <td>0.000000</td>\n      <td>0.000000</td>\n      <td>0.000000</td>\n      <td>0.000000</td>\n      <td>0.000000</td>\n    </tr>\n    <tr>\n      <th>1</th>\n      <td>0018_01</td>\n      <td>F/4/S</td>\n      <td>1</td>\n      <td>0</td>\n      <td>0.0</td>\n      <td>9.0</td>\n      <td>0.0</td>\n      <td>2823.0</td>\n      <td>0.0</td>\n      <td>Lerome Peckers</td>\n      <td>...</td>\n      <td>0</td>\n      <td>0</td>\n      <td>0</td>\n      <td>18</td>\n      <td>2832.0</td>\n      <td>0.000000</td>\n      <td>0.996822</td>\n      <td>0.000000</td>\n      <td>0.000000</td>\n      <td>0.003178</td>\n    </tr>\n    <tr>\n      <th>2</th>\n      <td>0019_01</td>\n      <td>C/0/S</td>\n      <td>1</td>\n      <td>0</td>\n      <td>0.0</td>\n      <td>0.0</td>\n      <td>0.0</td>\n      <td>0.0</td>\n      <td>0.0</td>\n      <td>Sabih Unhearfus</td>\n      <td>...</td>\n      <td>0</td>\n      <td>0</td>\n      <td>0</td>\n      <td>19</td>\n      <td>0.0</td>\n      <td>0.000000</td>\n      <td>0.000000</td>\n      <td>0.000000</td>\n      <td>0.000000</td>\n      <td>0.000000</td>\n    </tr>\n    <tr>\n      <th>3</th>\n      <td>0021_01</td>\n      <td>C/1/S</td>\n      <td>2</td>\n      <td>0</td>\n      <td>0.0</td>\n      <td>6652.0</td>\n      <td>0.0</td>\n      <td>181.0</td>\n      <td>585.0</td>\n      <td>Meratz Caltilter</td>\n      <td>...</td>\n      <td>0</td>\n      <td>0</td>\n      <td>0</td>\n      <td>21</td>\n      <td>7418.0</td>\n      <td>0.078862</td>\n      <td>0.024400</td>\n      <td>0.000000</td>\n      <td>0.000000</td>\n      <td>0.896738</td>\n    </tr>\n    <tr>\n      <th>4</th>\n      <td>0023_01</td>\n      <td>F/5/S</td>\n      <td>1</td>\n      <td>0</td>\n      <td>10.0</td>\n      <td>0.0</td>\n      <td>635.0</td>\n      <td>0.0</td>\n      <td>0.0</td>\n      <td>Brence Harperez</td>\n      <td>...</td>\n      <td>0</td>\n      <td>0</td>\n      <td>0</td>\n      <td>23</td>\n      <td>645.0</td>\n      <td>0.000000</td>\n      <td>0.000000</td>\n      <td>0.015504</td>\n      <td>0.984496</td>\n      <td>0.000000</td>\n    </tr>\n  </tbody>\n</table>\n<p>5 rows × 36 columns</p>\n</div>"
     },
     "execution_count": 52,
     "metadata": {},
     "output_type": "execute_result"
    }
   ],
   "source": [
    "test_df.head()"
   ],
   "metadata": {
    "collapsed": false,
    "ExecuteTime": {
     "end_time": "2024-03-17T16:12:50.872154200Z",
     "start_time": "2024-03-17T16:12:50.662072600Z"
    }
   },
   "id": "410f1cddfc103ac4",
   "execution_count": 52
  },
  {
   "cell_type": "code",
   "outputs": [
    {
     "data": {
      "text/plain": "PassengerId                    0\nCabin                          0\nAge                            0\nVIP                            0\nRoomService                    0\nFoodCourt                      0\nShoppingMall                   0\nSpa                            0\nVRDeck                         0\nName                         200\nTransported                    0\nHomePlanet_Earth               0\nHomePlanet_Europa              0\nHomePlanet_Mars                0\nDestination_55 Cancri e        0\nDestination_PSO J318.5-22      0\nDestination_TRAPPIST-1e        0\nCryoSleep_False                0\nCryoSleep_True                 0\nAgeBin                         0\ndeck                           0\nnum                            0\nside                           0\nregion1                        0\nregion2                        0\nregion3                        0\nregion4                        0\nregion5                        0\nregion6                        0\nregion7                        0\ngroup                          0\nsum                            0\nvr                             0\nspa                            0\nroom                           0\nshop                           0\nfood                           0\ndtype: int64"
     },
     "execution_count": 53,
     "metadata": {},
     "output_type": "execute_result"
    }
   ],
   "source": [
    "train_df.isnull().sum()"
   ],
   "metadata": {
    "collapsed": false,
    "ExecuteTime": {
     "end_time": "2024-03-17T16:12:50.883676200Z",
     "start_time": "2024-03-17T16:12:50.704180200Z"
    }
   },
   "id": "9be5b980504e9754",
   "execution_count": 53
  },
  {
   "cell_type": "code",
   "outputs": [
    {
     "data": {
      "text/plain": "((8693, 32), (4277, 31))"
     },
     "execution_count": 54,
     "metadata": {},
     "output_type": "execute_result"
    }
   ],
   "source": [
    "train_df = train_df.drop(['Name', 'PassengerId','AgeBin','Cabin','num'], axis=1)\n",
    "test_df = test_df.drop(['Name', 'PassengerId','AgeBin','Cabin','num'], axis=1)\n",
    "combine = [train_df, test_df]\n",
    "train_df.shape, test_df.shape"
   ],
   "metadata": {
    "collapsed": false,
    "ExecuteTime": {
     "end_time": "2024-03-17T16:12:50.917798Z",
     "start_time": "2024-03-17T16:12:50.734262200Z"
    }
   },
   "id": "108a3d16e1420f6d",
   "execution_count": 54
  },
  {
   "cell_type": "code",
   "outputs": [
    {
     "data": {
      "text/plain": "((8693, 31), (8693,), (4277, 31))"
     },
     "execution_count": 55,
     "metadata": {},
     "output_type": "execute_result"
    }
   ],
   "source": [
    "X_train = train_df.drop(\"Transported\", axis=1)\n",
    "Y_train = train_df[\"Transported\"]\n",
    "X_test  = test_df.copy()\n",
    "X_train.shape, Y_train.shape, X_test.shape"
   ],
   "metadata": {
    "collapsed": false,
    "ExecuteTime": {
     "end_time": "2024-03-17T16:12:50.990988600Z",
     "start_time": "2024-03-17T16:12:50.751313800Z"
    }
   },
   "id": "628597082efd1108",
   "execution_count": 55
  },
  {
   "cell_type": "code",
   "outputs": [
    {
     "name": "stdout",
     "output_type": "stream",
     "text": [
      "0:\tlearn: 0.6436206\ttotal: 219ms\tremaining: 1m 5s\n",
      "1:\tlearn: 0.6078031\ttotal: 240ms\tremaining: 35.7s\n",
      "2:\tlearn: 0.5747173\ttotal: 425ms\tremaining: 42.1s\n",
      "3:\tlearn: 0.5531754\ttotal: 461ms\tremaining: 34.1s\n",
      "4:\tlearn: 0.5332224\ttotal: 490ms\tremaining: 28.9s\n",
      "5:\tlearn: 0.5174952\ttotal: 519ms\tremaining: 25.4s\n",
      "6:\tlearn: 0.5061069\ttotal: 544ms\tremaining: 22.8s\n",
      "7:\tlearn: 0.4979122\ttotal: 560ms\tremaining: 20.5s\n",
      "8:\tlearn: 0.4903493\ttotal: 582ms\tremaining: 18.8s\n",
      "9:\tlearn: 0.4837251\ttotal: 594ms\tremaining: 17.2s\n",
      "10:\tlearn: 0.4773579\ttotal: 614ms\tremaining: 16.1s\n",
      "11:\tlearn: 0.4717698\ttotal: 636ms\tremaining: 15.3s\n",
      "12:\tlearn: 0.4658925\ttotal: 656ms\tremaining: 14.5s\n",
      "13:\tlearn: 0.4621770\ttotal: 688ms\tremaining: 14.1s\n",
      "14:\tlearn: 0.4581801\ttotal: 722ms\tremaining: 13.7s\n",
      "15:\tlearn: 0.4548802\ttotal: 743ms\tremaining: 13.2s\n",
      "16:\tlearn: 0.4520449\ttotal: 756ms\tremaining: 12.6s\n",
      "17:\tlearn: 0.4481231\ttotal: 776ms\tremaining: 12.2s\n",
      "18:\tlearn: 0.4452239\ttotal: 790ms\tremaining: 11.7s\n",
      "19:\tlearn: 0.4435489\ttotal: 806ms\tremaining: 11.3s\n",
      "20:\tlearn: 0.4401135\ttotal: 819ms\tremaining: 10.9s\n",
      "21:\tlearn: 0.4371087\ttotal: 835ms\tremaining: 10.6s\n",
      "22:\tlearn: 0.4357424\ttotal: 848ms\tremaining: 10.2s\n",
      "23:\tlearn: 0.4342755\ttotal: 863ms\tremaining: 9.92s\n",
      "24:\tlearn: 0.4320188\ttotal: 879ms\tremaining: 9.67s\n",
      "25:\tlearn: 0.4296514\ttotal: 895ms\tremaining: 9.44s\n",
      "26:\tlearn: 0.4277454\ttotal: 913ms\tremaining: 9.23s\n",
      "27:\tlearn: 0.4260027\ttotal: 929ms\tremaining: 9.03s\n",
      "28:\tlearn: 0.4243061\ttotal: 946ms\tremaining: 8.84s\n",
      "29:\tlearn: 0.4230305\ttotal: 964ms\tremaining: 8.67s\n",
      "30:\tlearn: 0.4221237\ttotal: 985ms\tremaining: 8.55s\n",
      "31:\tlearn: 0.4215602\ttotal: 1.01s\tremaining: 8.43s\n",
      "32:\tlearn: 0.4195155\ttotal: 1.02s\tremaining: 8.26s\n",
      "33:\tlearn: 0.4190390\ttotal: 1.04s\tremaining: 8.11s\n",
      "34:\tlearn: 0.4175015\ttotal: 1.05s\tremaining: 7.94s\n",
      "35:\tlearn: 0.4159033\ttotal: 1.07s\tremaining: 7.82s\n",
      "36:\tlearn: 0.4149208\ttotal: 1.08s\tremaining: 7.68s\n",
      "37:\tlearn: 0.4141459\ttotal: 1.09s\tremaining: 7.54s\n",
      "38:\tlearn: 0.4135972\ttotal: 1.11s\tremaining: 7.42s\n",
      "39:\tlearn: 0.4127507\ttotal: 1.12s\tremaining: 7.3s\n",
      "40:\tlearn: 0.4122310\ttotal: 1.14s\tremaining: 7.21s\n",
      "41:\tlearn: 0.4116090\ttotal: 1.16s\tremaining: 7.1s\n",
      "42:\tlearn: 0.4082429\ttotal: 1.17s\tremaining: 7s\n",
      "43:\tlearn: 0.4075494\ttotal: 1.18s\tremaining: 6.89s\n",
      "44:\tlearn: 0.4069350\ttotal: 1.2s\tremaining: 6.79s\n",
      "45:\tlearn: 0.4058287\ttotal: 1.21s\tremaining: 6.67s\n",
      "46:\tlearn: 0.4052473\ttotal: 1.22s\tremaining: 6.57s\n",
      "47:\tlearn: 0.4051047\ttotal: 1.23s\tremaining: 6.47s\n",
      "48:\tlearn: 0.4045182\ttotal: 1.24s\tremaining: 6.37s\n",
      "49:\tlearn: 0.4035732\ttotal: 1.25s\tremaining: 6.28s\n",
      "50:\tlearn: 0.4031677\ttotal: 1.31s\tremaining: 6.38s\n",
      "51:\tlearn: 0.4027644\ttotal: 1.33s\tremaining: 6.36s\n",
      "52:\tlearn: 0.4017874\ttotal: 1.35s\tremaining: 6.29s\n",
      "53:\tlearn: 0.4012517\ttotal: 1.37s\tremaining: 6.24s\n",
      "54:\tlearn: 0.4007286\ttotal: 1.38s\tremaining: 6.15s\n",
      "55:\tlearn: 0.4002825\ttotal: 1.39s\tremaining: 6.08s\n",
      "56:\tlearn: 0.4001445\ttotal: 1.41s\tremaining: 5.99s\n",
      "57:\tlearn: 0.3991574\ttotal: 1.42s\tremaining: 5.91s\n",
      "58:\tlearn: 0.3988485\ttotal: 1.43s\tremaining: 5.84s\n",
      "59:\tlearn: 0.3984529\ttotal: 1.44s\tremaining: 5.76s\n",
      "60:\tlearn: 0.3978129\ttotal: 1.45s\tremaining: 5.69s\n",
      "61:\tlearn: 0.3956525\ttotal: 1.47s\tremaining: 5.63s\n",
      "62:\tlearn: 0.3952839\ttotal: 1.48s\tremaining: 5.56s\n",
      "63:\tlearn: 0.3948905\ttotal: 1.5s\tremaining: 5.53s\n",
      "64:\tlearn: 0.3941993\ttotal: 1.51s\tremaining: 5.47s\n",
      "65:\tlearn: 0.3938763\ttotal: 1.53s\tremaining: 5.43s\n",
      "66:\tlearn: 0.3933836\ttotal: 1.54s\tremaining: 5.36s\n",
      "67:\tlearn: 0.3929655\ttotal: 1.56s\tremaining: 5.32s\n",
      "68:\tlearn: 0.3926643\ttotal: 1.57s\tremaining: 5.26s\n",
      "69:\tlearn: 0.3922216\ttotal: 1.59s\tremaining: 5.21s\n",
      "70:\tlearn: 0.3920258\ttotal: 1.6s\tremaining: 5.17s\n",
      "71:\tlearn: 0.3916941\ttotal: 1.61s\tremaining: 5.11s\n",
      "72:\tlearn: 0.3911609\ttotal: 1.63s\tremaining: 5.07s\n",
      "73:\tlearn: 0.3904853\ttotal: 1.64s\tremaining: 5.01s\n",
      "74:\tlearn: 0.3899425\ttotal: 1.65s\tremaining: 4.96s\n",
      "75:\tlearn: 0.3896866\ttotal: 1.67s\tremaining: 4.91s\n",
      "76:\tlearn: 0.3892313\ttotal: 1.68s\tremaining: 4.86s\n",
      "77:\tlearn: 0.3887931\ttotal: 1.69s\tremaining: 4.82s\n",
      "78:\tlearn: 0.3884136\ttotal: 1.7s\tremaining: 4.77s\n",
      "79:\tlearn: 0.3880671\ttotal: 1.72s\tremaining: 4.72s\n",
      "80:\tlearn: 0.3878120\ttotal: 1.73s\tremaining: 4.67s\n",
      "81:\tlearn: 0.3873425\ttotal: 1.74s\tremaining: 4.62s\n",
      "82:\tlearn: 0.3870210\ttotal: 1.75s\tremaining: 4.58s\n",
      "83:\tlearn: 0.3851165\ttotal: 1.76s\tremaining: 4.54s\n",
      "84:\tlearn: 0.3849478\ttotal: 1.78s\tremaining: 4.5s\n",
      "85:\tlearn: 0.3847064\ttotal: 1.79s\tremaining: 4.46s\n",
      "86:\tlearn: 0.3842219\ttotal: 1.81s\tremaining: 4.43s\n",
      "87:\tlearn: 0.3839221\ttotal: 1.82s\tremaining: 4.4s\n",
      "88:\tlearn: 0.3836696\ttotal: 1.84s\tremaining: 4.36s\n",
      "89:\tlearn: 0.3824606\ttotal: 1.85s\tremaining: 4.31s\n",
      "90:\tlearn: 0.3821678\ttotal: 1.86s\tremaining: 4.28s\n",
      "91:\tlearn: 0.3819384\ttotal: 1.87s\tremaining: 4.24s\n",
      "92:\tlearn: 0.3817788\ttotal: 1.89s\tremaining: 4.2s\n",
      "93:\tlearn: 0.3816314\ttotal: 1.9s\tremaining: 4.17s\n",
      "94:\tlearn: 0.3813297\ttotal: 1.91s\tremaining: 4.13s\n",
      "95:\tlearn: 0.3809982\ttotal: 1.93s\tremaining: 4.09s\n",
      "96:\tlearn: 0.3805224\ttotal: 1.94s\tremaining: 4.05s\n",
      "97:\tlearn: 0.3802673\ttotal: 1.95s\tremaining: 4.01s\n",
      "98:\tlearn: 0.3800003\ttotal: 1.96s\tremaining: 3.98s\n",
      "99:\tlearn: 0.3798020\ttotal: 1.97s\tremaining: 3.94s\n",
      "100:\tlearn: 0.3795879\ttotal: 1.99s\tremaining: 3.92s\n",
      "101:\tlearn: 0.3790592\ttotal: 2s\tremaining: 3.89s\n",
      "102:\tlearn: 0.3788501\ttotal: 2.02s\tremaining: 3.87s\n",
      "103:\tlearn: 0.3786513\ttotal: 2.04s\tremaining: 3.84s\n",
      "104:\tlearn: 0.3784822\ttotal: 2.05s\tremaining: 3.81s\n",
      "105:\tlearn: 0.3777813\ttotal: 2.06s\tremaining: 3.78s\n",
      "106:\tlearn: 0.3770712\ttotal: 2.08s\tremaining: 3.75s\n",
      "107:\tlearn: 0.3755336\ttotal: 2.09s\tremaining: 3.72s\n",
      "108:\tlearn: 0.3752301\ttotal: 2.11s\tremaining: 3.69s\n",
      "109:\tlearn: 0.3751202\ttotal: 2.12s\tremaining: 3.66s\n",
      "110:\tlearn: 0.3750550\ttotal: 2.13s\tremaining: 3.63s\n",
      "111:\tlearn: 0.3748175\ttotal: 2.14s\tremaining: 3.6s\n",
      "112:\tlearn: 0.3746805\ttotal: 2.16s\tremaining: 3.57s\n",
      "113:\tlearn: 0.3743066\ttotal: 2.17s\tremaining: 3.54s\n",
      "114:\tlearn: 0.3741263\ttotal: 2.18s\tremaining: 3.51s\n",
      "115:\tlearn: 0.3739223\ttotal: 2.2s\tremaining: 3.48s\n",
      "116:\tlearn: 0.3735887\ttotal: 2.21s\tremaining: 3.46s\n",
      "117:\tlearn: 0.3732751\ttotal: 2.23s\tremaining: 3.44s\n",
      "118:\tlearn: 0.3730543\ttotal: 2.25s\tremaining: 3.42s\n",
      "119:\tlearn: 0.3728353\ttotal: 2.26s\tremaining: 3.39s\n",
      "120:\tlearn: 0.3725571\ttotal: 2.27s\tremaining: 3.36s\n",
      "121:\tlearn: 0.3722795\ttotal: 2.28s\tremaining: 3.33s\n",
      "122:\tlearn: 0.3720158\ttotal: 2.29s\tremaining: 3.3s\n",
      "123:\tlearn: 0.3718388\ttotal: 2.31s\tremaining: 3.27s\n",
      "124:\tlearn: 0.3716493\ttotal: 2.32s\tremaining: 3.25s\n",
      "125:\tlearn: 0.3711444\ttotal: 2.33s\tremaining: 3.22s\n",
      "126:\tlearn: 0.3708760\ttotal: 2.34s\tremaining: 3.19s\n",
      "127:\tlearn: 0.3701705\ttotal: 2.35s\tremaining: 3.16s\n",
      "128:\tlearn: 0.3698647\ttotal: 2.36s\tremaining: 3.13s\n",
      "129:\tlearn: 0.3694880\ttotal: 2.38s\tremaining: 3.11s\n",
      "130:\tlearn: 0.3687734\ttotal: 2.39s\tremaining: 3.08s\n",
      "131:\tlearn: 0.3686428\ttotal: 2.4s\tremaining: 3.05s\n",
      "132:\tlearn: 0.3683711\ttotal: 2.41s\tremaining: 3.03s\n",
      "133:\tlearn: 0.3681957\ttotal: 2.43s\tremaining: 3.01s\n",
      "134:\tlearn: 0.3680106\ttotal: 2.44s\tremaining: 2.98s\n",
      "135:\tlearn: 0.3677776\ttotal: 2.46s\tremaining: 2.96s\n",
      "136:\tlearn: 0.3676584\ttotal: 2.47s\tremaining: 2.93s\n",
      "137:\tlearn: 0.3671949\ttotal: 2.48s\tremaining: 2.91s\n",
      "138:\tlearn: 0.3670197\ttotal: 2.49s\tremaining: 2.89s\n",
      "139:\tlearn: 0.3667213\ttotal: 2.51s\tremaining: 2.87s\n",
      "140:\tlearn: 0.3662407\ttotal: 2.53s\tremaining: 2.85s\n",
      "141:\tlearn: 0.3656889\ttotal: 2.54s\tremaining: 2.83s\n",
      "142:\tlearn: 0.3655215\ttotal: 2.56s\tremaining: 2.81s\n",
      "143:\tlearn: 0.3653159\ttotal: 2.57s\tremaining: 2.79s\n",
      "144:\tlearn: 0.3652109\ttotal: 2.58s\tremaining: 2.76s\n",
      "145:\tlearn: 0.3650227\ttotal: 2.6s\tremaining: 2.74s\n",
      "146:\tlearn: 0.3648385\ttotal: 2.61s\tremaining: 2.72s\n",
      "147:\tlearn: 0.3644371\ttotal: 2.63s\tremaining: 2.7s\n",
      "148:\tlearn: 0.3641148\ttotal: 2.65s\tremaining: 2.68s\n",
      "149:\tlearn: 0.3639580\ttotal: 2.66s\tremaining: 2.66s\n",
      "150:\tlearn: 0.3638203\ttotal: 2.68s\tremaining: 2.64s\n",
      "151:\tlearn: 0.3636206\ttotal: 2.69s\tremaining: 2.62s\n",
      "152:\tlearn: 0.3634449\ttotal: 2.7s\tremaining: 2.6s\n",
      "153:\tlearn: 0.3631936\ttotal: 2.72s\tremaining: 2.58s\n",
      "154:\tlearn: 0.3630013\ttotal: 2.73s\tremaining: 2.55s\n",
      "155:\tlearn: 0.3627279\ttotal: 2.74s\tremaining: 2.53s\n",
      "156:\tlearn: 0.3626514\ttotal: 2.75s\tremaining: 2.51s\n",
      "157:\tlearn: 0.3623944\ttotal: 2.76s\tremaining: 2.48s\n",
      "158:\tlearn: 0.3621733\ttotal: 2.77s\tremaining: 2.46s\n",
      "159:\tlearn: 0.3618466\ttotal: 2.79s\tremaining: 2.44s\n",
      "160:\tlearn: 0.3616600\ttotal: 2.8s\tremaining: 2.42s\n",
      "161:\tlearn: 0.3614497\ttotal: 2.81s\tremaining: 2.39s\n",
      "162:\tlearn: 0.3612853\ttotal: 2.82s\tremaining: 2.37s\n",
      "163:\tlearn: 0.3611895\ttotal: 2.83s\tremaining: 2.35s\n",
      "164:\tlearn: 0.3609770\ttotal: 2.85s\tremaining: 2.33s\n",
      "165:\tlearn: 0.3607878\ttotal: 2.86s\tremaining: 2.31s\n",
      "166:\tlearn: 0.3606221\ttotal: 2.88s\tremaining: 2.29s\n",
      "167:\tlearn: 0.3603512\ttotal: 2.89s\tremaining: 2.27s\n",
      "168:\tlearn: 0.3601712\ttotal: 2.91s\tremaining: 2.25s\n",
      "169:\tlearn: 0.3600409\ttotal: 2.92s\tremaining: 2.23s\n",
      "170:\tlearn: 0.3598828\ttotal: 2.93s\tremaining: 2.21s\n",
      "171:\tlearn: 0.3595540\ttotal: 2.95s\tremaining: 2.19s\n",
      "172:\tlearn: 0.3594485\ttotal: 2.96s\tremaining: 2.17s\n",
      "173:\tlearn: 0.3593266\ttotal: 2.97s\tremaining: 2.15s\n",
      "174:\tlearn: 0.3592315\ttotal: 2.98s\tremaining: 2.13s\n",
      "175:\tlearn: 0.3590893\ttotal: 3s\tremaining: 2.11s\n",
      "176:\tlearn: 0.3588485\ttotal: 3.02s\tremaining: 2.1s\n",
      "177:\tlearn: 0.3587151\ttotal: 3.03s\tremaining: 2.08s\n",
      "178:\tlearn: 0.3585909\ttotal: 3.05s\tremaining: 2.06s\n",
      "179:\tlearn: 0.3583988\ttotal: 3.06s\tremaining: 2.04s\n",
      "180:\tlearn: 0.3581535\ttotal: 3.07s\tremaining: 2.02s\n",
      "181:\tlearn: 0.3579347\ttotal: 3.09s\tremaining: 2s\n",
      "182:\tlearn: 0.3578370\ttotal: 3.1s\tremaining: 1.99s\n",
      "183:\tlearn: 0.3575051\ttotal: 3.12s\tremaining: 1.97s\n",
      "184:\tlearn: 0.3573258\ttotal: 3.13s\tremaining: 1.95s\n",
      "185:\tlearn: 0.3571443\ttotal: 3.14s\tremaining: 1.93s\n",
      "186:\tlearn: 0.3570047\ttotal: 3.15s\tremaining: 1.91s\n",
      "187:\tlearn: 0.3569189\ttotal: 3.16s\tremaining: 1.89s\n",
      "188:\tlearn: 0.3567258\ttotal: 3.18s\tremaining: 1.87s\n",
      "189:\tlearn: 0.3565629\ttotal: 3.19s\tremaining: 1.84s\n",
      "190:\tlearn: 0.3564431\ttotal: 3.2s\tremaining: 1.82s\n",
      "191:\tlearn: 0.3561310\ttotal: 3.21s\tremaining: 1.81s\n",
      "192:\tlearn: 0.3559129\ttotal: 3.22s\tremaining: 1.79s\n",
      "193:\tlearn: 0.3558063\ttotal: 3.23s\tremaining: 1.77s\n",
      "194:\tlearn: 0.3556340\ttotal: 3.25s\tremaining: 1.75s\n",
      "195:\tlearn: 0.3554575\ttotal: 3.26s\tremaining: 1.73s\n",
      "196:\tlearn: 0.3552515\ttotal: 3.27s\tremaining: 1.71s\n",
      "197:\tlearn: 0.3549924\ttotal: 3.28s\tremaining: 1.69s\n",
      "198:\tlearn: 0.3547301\ttotal: 3.3s\tremaining: 1.68s\n",
      "199:\tlearn: 0.3546550\ttotal: 3.31s\tremaining: 1.66s\n",
      "200:\tlearn: 0.3545910\ttotal: 3.33s\tremaining: 1.64s\n",
      "201:\tlearn: 0.3542713\ttotal: 3.34s\tremaining: 1.62s\n",
      "202:\tlearn: 0.3541053\ttotal: 3.35s\tremaining: 1.6s\n",
      "203:\tlearn: 0.3538840\ttotal: 3.36s\tremaining: 1.58s\n",
      "204:\tlearn: 0.3536870\ttotal: 3.37s\tremaining: 1.56s\n",
      "205:\tlearn: 0.3535503\ttotal: 3.38s\tremaining: 1.54s\n",
      "206:\tlearn: 0.3533535\ttotal: 3.4s\tremaining: 1.52s\n",
      "207:\tlearn: 0.3532501\ttotal: 3.41s\tremaining: 1.51s\n",
      "208:\tlearn: 0.3531848\ttotal: 3.42s\tremaining: 1.49s\n",
      "209:\tlearn: 0.3530629\ttotal: 3.43s\tremaining: 1.47s\n",
      "210:\tlearn: 0.3529957\ttotal: 3.44s\tremaining: 1.45s\n",
      "211:\tlearn: 0.3529445\ttotal: 3.45s\tremaining: 1.43s\n",
      "212:\tlearn: 0.3528973\ttotal: 3.46s\tremaining: 1.41s\n",
      "213:\tlearn: 0.3527438\ttotal: 3.48s\tremaining: 1.4s\n",
      "214:\tlearn: 0.3525696\ttotal: 3.49s\tremaining: 1.38s\n",
      "215:\tlearn: 0.3525248\ttotal: 3.5s\tremaining: 1.36s\n",
      "216:\tlearn: 0.3524503\ttotal: 3.52s\tremaining: 1.35s\n",
      "217:\tlearn: 0.3522005\ttotal: 3.54s\tremaining: 1.33s\n",
      "218:\tlearn: 0.3520880\ttotal: 3.56s\tremaining: 1.32s\n",
      "219:\tlearn: 0.3517952\ttotal: 3.58s\tremaining: 1.3s\n",
      "220:\tlearn: 0.3517209\ttotal: 3.59s\tremaining: 1.28s\n",
      "221:\tlearn: 0.3514977\ttotal: 3.61s\tremaining: 1.27s\n",
      "222:\tlearn: 0.3513681\ttotal: 3.62s\tremaining: 1.25s\n",
      "223:\tlearn: 0.3512838\ttotal: 3.63s\tremaining: 1.23s\n",
      "224:\tlearn: 0.3510967\ttotal: 3.65s\tremaining: 1.22s\n",
      "225:\tlearn: 0.3509654\ttotal: 3.66s\tremaining: 1.2s\n",
      "226:\tlearn: 0.3507376\ttotal: 3.67s\tremaining: 1.18s\n",
      "227:\tlearn: 0.3505769\ttotal: 3.68s\tremaining: 1.16s\n",
      "228:\tlearn: 0.3504124\ttotal: 3.69s\tremaining: 1.15s\n",
      "229:\tlearn: 0.3502569\ttotal: 3.71s\tremaining: 1.13s\n",
      "230:\tlearn: 0.3501693\ttotal: 3.73s\tremaining: 1.11s\n",
      "231:\tlearn: 0.3499583\ttotal: 3.75s\tremaining: 1.1s\n",
      "232:\tlearn: 0.3498304\ttotal: 3.76s\tremaining: 1.08s\n",
      "233:\tlearn: 0.3497128\ttotal: 3.77s\tremaining: 1.06s\n",
      "234:\tlearn: 0.3496084\ttotal: 3.78s\tremaining: 1.05s\n",
      "235:\tlearn: 0.3494139\ttotal: 3.79s\tremaining: 1.03s\n",
      "236:\tlearn: 0.3493265\ttotal: 3.81s\tremaining: 1.01s\n",
      "237:\tlearn: 0.3491000\ttotal: 3.82s\tremaining: 995ms\n",
      "238:\tlearn: 0.3487613\ttotal: 3.83s\tremaining: 977ms\n",
      "239:\tlearn: 0.3485792\ttotal: 3.84s\tremaining: 960ms\n",
      "240:\tlearn: 0.3484674\ttotal: 3.85s\tremaining: 943ms\n",
      "241:\tlearn: 0.3483337\ttotal: 3.86s\tremaining: 926ms\n",
      "242:\tlearn: 0.3479242\ttotal: 3.87s\tremaining: 909ms\n",
      "243:\tlearn: 0.3478486\ttotal: 3.89s\tremaining: 892ms\n",
      "244:\tlearn: 0.3476963\ttotal: 3.9s\tremaining: 876ms\n",
      "245:\tlearn: 0.3475016\ttotal: 3.91s\tremaining: 859ms\n",
      "246:\tlearn: 0.3471758\ttotal: 3.92s\tremaining: 842ms\n",
      "247:\tlearn: 0.3470625\ttotal: 3.95s\tremaining: 828ms\n",
      "248:\tlearn: 0.3470001\ttotal: 3.96s\tremaining: 811ms\n",
      "249:\tlearn: 0.3464201\ttotal: 3.98s\tremaining: 796ms\n",
      "250:\tlearn: 0.3462220\ttotal: 3.99s\tremaining: 779ms\n",
      "251:\tlearn: 0.3461654\ttotal: 4.01s\tremaining: 764ms\n",
      "252:\tlearn: 0.3461163\ttotal: 4.03s\tremaining: 749ms\n",
      "253:\tlearn: 0.3459541\ttotal: 4.09s\tremaining: 741ms\n",
      "254:\tlearn: 0.3458750\ttotal: 4.11s\tremaining: 726ms\n",
      "255:\tlearn: 0.3456860\ttotal: 4.13s\tremaining: 710ms\n",
      "256:\tlearn: 0.3454822\ttotal: 4.15s\tremaining: 694ms\n",
      "257:\tlearn: 0.3453809\ttotal: 4.16s\tremaining: 678ms\n",
      "258:\tlearn: 0.3452935\ttotal: 4.18s\tremaining: 662ms\n",
      "259:\tlearn: 0.3451290\ttotal: 4.21s\tremaining: 647ms\n",
      "260:\tlearn: 0.3449628\ttotal: 4.22s\tremaining: 631ms\n",
      "261:\tlearn: 0.3447879\ttotal: 4.24s\tremaining: 614ms\n",
      "262:\tlearn: 0.3446646\ttotal: 4.25s\tremaining: 598ms\n",
      "263:\tlearn: 0.3443540\ttotal: 4.26s\tremaining: 582ms\n",
      "264:\tlearn: 0.3441914\ttotal: 4.28s\tremaining: 565ms\n",
      "265:\tlearn: 0.3438651\ttotal: 4.29s\tremaining: 548ms\n",
      "266:\tlearn: 0.3438095\ttotal: 4.3s\tremaining: 532ms\n",
      "267:\tlearn: 0.3436383\ttotal: 4.32s\tremaining: 515ms\n",
      "268:\tlearn: 0.3434190\ttotal: 4.33s\tremaining: 499ms\n",
      "269:\tlearn: 0.3433645\ttotal: 4.35s\tremaining: 483ms\n",
      "270:\tlearn: 0.3433013\ttotal: 4.37s\tremaining: 468ms\n",
      "271:\tlearn: 0.3431830\ttotal: 4.39s\tremaining: 452ms\n",
      "272:\tlearn: 0.3430641\ttotal: 4.41s\tremaining: 436ms\n",
      "273:\tlearn: 0.3430097\ttotal: 4.43s\tremaining: 420ms\n",
      "274:\tlearn: 0.3428843\ttotal: 4.45s\tremaining: 404ms\n",
      "275:\tlearn: 0.3428462\ttotal: 4.46s\tremaining: 388ms\n",
      "276:\tlearn: 0.3427821\ttotal: 4.48s\tremaining: 372ms\n",
      "277:\tlearn: 0.3427339\ttotal: 4.49s\tremaining: 356ms\n",
      "278:\tlearn: 0.3426786\ttotal: 4.51s\tremaining: 339ms\n",
      "279:\tlearn: 0.3425065\ttotal: 4.53s\tremaining: 323ms\n",
      "280:\tlearn: 0.3424130\ttotal: 4.54s\tremaining: 307ms\n",
      "281:\tlearn: 0.3421851\ttotal: 4.56s\tremaining: 291ms\n",
      "282:\tlearn: 0.3420033\ttotal: 4.59s\tremaining: 276ms\n",
      "283:\tlearn: 0.3418832\ttotal: 4.62s\tremaining: 260ms\n",
      "284:\tlearn: 0.3417571\ttotal: 4.65s\tremaining: 245ms\n",
      "285:\tlearn: 0.3417261\ttotal: 4.67s\tremaining: 229ms\n",
      "286:\tlearn: 0.3415389\ttotal: 4.68s\tremaining: 212ms\n",
      "287:\tlearn: 0.3414620\ttotal: 4.7s\tremaining: 196ms\n",
      "288:\tlearn: 0.3413453\ttotal: 4.71s\tremaining: 179ms\n",
      "289:\tlearn: 0.3412852\ttotal: 4.73s\tremaining: 163ms\n",
      "290:\tlearn: 0.3411371\ttotal: 4.74s\tremaining: 147ms\n",
      "291:\tlearn: 0.3409576\ttotal: 4.76s\tremaining: 130ms\n",
      "292:\tlearn: 0.3408261\ttotal: 4.77s\tremaining: 114ms\n",
      "293:\tlearn: 0.3406919\ttotal: 4.78s\tremaining: 97.6ms\n",
      "294:\tlearn: 0.3405763\ttotal: 4.8s\tremaining: 81.4ms\n",
      "295:\tlearn: 0.3403559\ttotal: 4.82s\tremaining: 65.2ms\n",
      "296:\tlearn: 0.3396807\ttotal: 4.84s\tremaining: 48.9ms\n",
      "297:\tlearn: 0.3396139\ttotal: 4.87s\tremaining: 32.7ms\n",
      "298:\tlearn: 0.3395013\ttotal: 4.88s\tremaining: 16.3ms\n",
      "299:\tlearn: 0.3392963\ttotal: 4.91s\tremaining: 0us\n"
     ]
    }
   ],
   "source": [
    "from catboost import Pool, CatBoostClassifier\n",
    "\n",
    "model = CatBoostClassifier(iterations=300,\n",
    "                           learning_rate=0.15,\n",
    "                           depth=4,\n",
    "                           cat_features = [0],\n",
    "                           loss_function='MultiClass')\n",
    "model.fit(X_train, Y_train)\n",
    "preds_class = model.predict(X_test)"
   ],
   "metadata": {
    "collapsed": false,
    "ExecuteTime": {
     "end_time": "2024-03-17T16:12:56.418830Z",
     "start_time": "2024-03-17T16:12:50.781896800Z"
    }
   },
   "id": "ced1dd453a064ac2",
   "execution_count": 56
  },
  {
   "cell_type": "code",
   "outputs": [],
   "source": [
    "preds_class = preds_class.T\n",
    "preds_class[0,:]\n",
    "test_df = pd.read_csv('sample_submission.csv')\n",
    "submission = pd.DataFrame({\n",
    "        \"PassengerId\": test_df[\"PassengerId\"],\n",
    "        \"Transported\": preds_class[0,:]\n",
    "    })\n",
    "submission.to_csv('submission.csv', index=False)"
   ],
   "metadata": {
    "collapsed": false,
    "ExecuteTime": {
     "end_time": "2024-03-17T16:12:56.453397800Z",
     "start_time": "2024-03-17T16:12:56.419830500Z"
    }
   },
   "id": "ca9848ad586a6cbc",
   "execution_count": 57
  },
  {
   "cell_type": "code",
   "outputs": [
    {
     "data": {
      "text/plain": "     PassengerId  Transported\n0        0013_01         True\n1        0018_01        False\n2        0019_01         True\n3        0021_01         True\n4        0023_01        False\n...          ...          ...\n4272     9266_02         True\n4273     9269_01         True\n4274     9271_01         True\n4275     9273_01         True\n4276     9277_01         True\n\n[4277 rows x 2 columns]",
      "text/html": "<div>\n<style scoped>\n    .dataframe tbody tr th:only-of-type {\n        vertical-align: middle;\n    }\n\n    .dataframe tbody tr th {\n        vertical-align: top;\n    }\n\n    .dataframe thead th {\n        text-align: right;\n    }\n</style>\n<table border=\"1\" class=\"dataframe\">\n  <thead>\n    <tr style=\"text-align: right;\">\n      <th></th>\n      <th>PassengerId</th>\n      <th>Transported</th>\n    </tr>\n  </thead>\n  <tbody>\n    <tr>\n      <th>0</th>\n      <td>0013_01</td>\n      <td>True</td>\n    </tr>\n    <tr>\n      <th>1</th>\n      <td>0018_01</td>\n      <td>False</td>\n    </tr>\n    <tr>\n      <th>2</th>\n      <td>0019_01</td>\n      <td>True</td>\n    </tr>\n    <tr>\n      <th>3</th>\n      <td>0021_01</td>\n      <td>True</td>\n    </tr>\n    <tr>\n      <th>4</th>\n      <td>0023_01</td>\n      <td>False</td>\n    </tr>\n    <tr>\n      <th>...</th>\n      <td>...</td>\n      <td>...</td>\n    </tr>\n    <tr>\n      <th>4272</th>\n      <td>9266_02</td>\n      <td>True</td>\n    </tr>\n    <tr>\n      <th>4273</th>\n      <td>9269_01</td>\n      <td>True</td>\n    </tr>\n    <tr>\n      <th>4274</th>\n      <td>9271_01</td>\n      <td>True</td>\n    </tr>\n    <tr>\n      <th>4275</th>\n      <td>9273_01</td>\n      <td>True</td>\n    </tr>\n    <tr>\n      <th>4276</th>\n      <td>9277_01</td>\n      <td>True</td>\n    </tr>\n  </tbody>\n</table>\n<p>4277 rows × 2 columns</p>\n</div>"
     },
     "execution_count": 58,
     "metadata": {},
     "output_type": "execute_result"
    }
   ],
   "source": [
    "pd.read_csv('submission.csv')"
   ],
   "metadata": {
    "collapsed": false,
    "ExecuteTime": {
     "end_time": "2024-03-17T16:12:56.510040500Z",
     "start_time": "2024-03-17T16:12:56.449397800Z"
    }
   },
   "id": "356d949cc0de42d",
   "execution_count": 58
  },
  {
   "cell_type": "code",
   "outputs": [],
   "source": [],
   "metadata": {
    "collapsed": false,
    "ExecuteTime": {
     "end_time": "2024-03-17T16:12:56.554607Z",
     "start_time": "2024-03-17T16:12:56.480953500Z"
    }
   },
   "id": "b35d1d3c6d7eaf0b",
   "execution_count": 58
  }
 ],
 "metadata": {
  "kernelspec": {
   "display_name": "Python 3",
   "language": "python",
   "name": "python3"
  },
  "language_info": {
   "codemirror_mode": {
    "name": "ipython",
    "version": 2
   },
   "file_extension": ".py",
   "mimetype": "text/x-python",
   "name": "python",
   "nbconvert_exporter": "python",
   "pygments_lexer": "ipython2",
   "version": "2.7.6"
  }
 },
 "nbformat": 4,
 "nbformat_minor": 5
}
