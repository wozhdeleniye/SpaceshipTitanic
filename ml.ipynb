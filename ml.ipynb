{
 "cells": [
  {
   "cell_type": "code",
   "execution_count": 2,
   "id": "initial_id",
   "metadata": {
    "collapsed": true,
    "ExecuteTime": {
     "end_time": "2024-03-07T10:04:04.331935Z",
     "start_time": "2024-03-07T10:04:04.053643Z"
    }
   },
   "outputs": [],
   "source": [
    "import pandas as pd\n",
    "import numpy as np\n",
    "from sklearn.tree import DecisionTreeClassifier, plot_tree\n",
    "import matplotlib.pyplot as plt"
   ]
  },
  {
   "cell_type": "code",
   "outputs": [],
   "source": [
    "from sklearn.ensemble import RandomForestClassifier, GradientBoostingClassifier\n",
    "pd.set_option('future.no_silent_downcasting', True)"
   ],
   "metadata": {
    "collapsed": false,
    "ExecuteTime": {
     "end_time": "2024-03-07T10:04:04.383063900Z",
     "start_time": "2024-03-07T10:04:04.326674Z"
    }
   },
   "id": "89a01faad4b569bc",
   "execution_count": 3
  },
  {
   "cell_type": "code",
   "outputs": [],
   "source": [
    "df = pd.read_csv('./train.csv')\n",
    "test = pd.read_csv('./test.csv')"
   ],
   "metadata": {
    "collapsed": false,
    "ExecuteTime": {
     "end_time": "2024-03-07T10:04:04.421107200Z",
     "start_time": "2024-03-07T10:04:04.372308400Z"
    }
   },
   "id": "f3ceee30c6a3f651",
   "execution_count": 4
  },
  {
   "cell_type": "code",
   "outputs": [
    {
     "data": {
      "text/plain": "HomePlanet      201\nCryoSleep       217\nDestination     182\nAge             179\nVIP             203\nRoomService     181\nFoodCourt       183\nShoppingMall    208\nSpa             183\nVRDeck          188\nTransported       0\ndtype: int64"
     },
     "execution_count": 5,
     "metadata": {},
     "output_type": "execute_result"
    }
   ],
   "source": [
    "df = df.drop('Name', axis=1)\n",
    "df = df.drop('PassengerId', axis=1)\n",
    "df = df.drop('Cabin', axis=1)\n",
    "test = test.drop('Name', axis=1)\n",
    "test = test.drop('PassengerId', axis=1)\n",
    "test = test.drop('Cabin', axis=1)\n",
    "\n",
    "# Поищем пропуски в данных\n",
    "df.isna().sum(axis=0)"
   ],
   "metadata": {
    "collapsed": false,
    "ExecuteTime": {
     "end_time": "2024-03-07T10:04:04.460134900Z",
     "start_time": "2024-03-07T10:04:04.423315300Z"
    }
   },
   "id": "2f684c6db488d911",
   "execution_count": 5
  },
  {
   "cell_type": "code",
   "outputs": [],
   "source": [
    "def replace_mean(table, column):\n",
    "    val = table[column].mean()\n",
    "    table[column] = table[column].fillna(val)\n",
    "\n",
    "def replace_mode(table, column):\n",
    "    val = table[column].mode()[0]\n",
    "    table[column] = table[column].fillna(val)\n",
    "\n",
    "replace_mean(df, 'Age')\n",
    "replace_mean(df, 'RoomService')\n",
    "replace_mean(df, 'FoodCourt')\n",
    "replace_mean(df, 'ShoppingMall')\n",
    "replace_mean(df, 'Spa')\n",
    "replace_mean(df, 'VRDeck')\n",
    "\n",
    "replace_mode(df, 'HomePlanet')\n",
    "replace_mode(df, 'CryoSleep')\n",
    "replace_mode(df, 'Destination')\n",
    "replace_mode(df, 'VIP')\n",
    "\n",
    "replace_mean(test, 'Age')\n",
    "replace_mean(test, 'RoomService')\n",
    "replace_mean(test, 'FoodCourt')\n",
    "replace_mean(test, 'ShoppingMall')\n",
    "replace_mean(test, 'Spa')\n",
    "replace_mean(test, 'VRDeck')\n",
    "\n",
    "replace_mode(test, 'HomePlanet')\n",
    "replace_mode(test, 'CryoSleep')\n",
    "replace_mode(test, 'Destination')\n",
    "replace_mode(test, 'VIP')"
   ],
   "metadata": {
    "collapsed": false,
    "ExecuteTime": {
     "end_time": "2024-03-07T10:04:04.487679300Z",
     "start_time": "2024-03-07T10:04:04.449536Z"
    }
   },
   "id": "c9f82dd94e05f582",
   "execution_count": 6
  },
  {
   "cell_type": "code",
   "outputs": [
    {
     "data": {
      "text/plain": "HomePlanet      0\nCryoSleep       0\nDestination     0\nAge             0\nVIP             0\nRoomService     0\nFoodCourt       0\nShoppingMall    0\nSpa             0\nVRDeck          0\nTransported     0\ndtype: int64"
     },
     "execution_count": 7,
     "metadata": {},
     "output_type": "execute_result"
    }
   ],
   "source": [
    "df.isna().sum(axis=0)"
   ],
   "metadata": {
    "collapsed": false,
    "ExecuteTime": {
     "end_time": "2024-03-07T10:04:04.519387800Z",
     "start_time": "2024-03-07T10:04:04.482334200Z"
    }
   },
   "id": "6122b164edc12a03",
   "execution_count": 7
  },
  {
   "cell_type": "code",
   "outputs": [
    {
     "name": "stdout",
     "output_type": "stream",
     "text": [
      "HomePlanet\n",
      "Destination\n"
     ]
    }
   ],
   "source": [
    "df[\"Transported\"] = df[\"Transported\"].astype(int)\n",
    "df[\"VIP\"] = df[\"VIP\"].astype(int)\n",
    "df[\"CryoSleep\"] = df[\"CryoSleep\"].astype(int)\n",
    "\n",
    "test[\"VIP\"] = test[\"VIP\"].astype(int)\n",
    "test[\"CryoSleep\"] = test[\"CryoSleep\"].astype(int)\n",
    "\n",
    "for col in df.columns:\n",
    "    if df[col].dtype == 'object':\n",
    "        print(col)"
   ],
   "metadata": {
    "collapsed": false,
    "ExecuteTime": {
     "end_time": "2024-03-07T10:04:04.520424900Z",
     "start_time": "2024-03-07T10:04:04.499260900Z"
    }
   },
   "id": "ae9f7790a0f67ca6",
   "execution_count": 8
  },
  {
   "cell_type": "code",
   "outputs": [
    {
     "data": {
      "text/plain": "array(['Europa', 'Earth', 'Mars'], dtype=object)"
     },
     "execution_count": 9,
     "metadata": {},
     "output_type": "execute_result"
    }
   ],
   "source": [
    "df.HomePlanet.unique()"
   ],
   "metadata": {
    "collapsed": false,
    "ExecuteTime": {
     "end_time": "2024-03-07T10:04:04.534257500Z",
     "start_time": "2024-03-07T10:04:04.514190400Z"
    }
   },
   "id": "94d6c303e133d41",
   "execution_count": 9
  },
  {
   "cell_type": "code",
   "outputs": [],
   "source": [
    "df['HomePlanet'] = df['HomePlanet'].replace({'Earth' : 0, 'Europa' : 1, 'Mars' : 2})\n",
    "test['HomePlanet'] = test['HomePlanet'].replace({'Earth' : 0, 'Europa' : 1, 'Mars' : 2})"
   ],
   "metadata": {
    "collapsed": false,
    "ExecuteTime": {
     "end_time": "2024-03-07T10:04:04.567680400Z",
     "start_time": "2024-03-07T10:04:04.530110Z"
    }
   },
   "id": "4d895f0034732ed2",
   "execution_count": 10
  },
  {
   "cell_type": "code",
   "outputs": [
    {
     "data": {
      "text/plain": "array(['TRAPPIST-1e', 'PSO J318.5-22', '55 Cancri e'], dtype=object)"
     },
     "execution_count": 11,
     "metadata": {},
     "output_type": "execute_result"
    }
   ],
   "source": [
    "df.Destination.unique()"
   ],
   "metadata": {
    "collapsed": false,
    "ExecuteTime": {
     "end_time": "2024-03-07T10:04:04.569757800Z",
     "start_time": "2024-03-07T10:04:04.544820500Z"
    }
   },
   "id": "e3be8515a517c44e",
   "execution_count": 11
  },
  {
   "cell_type": "code",
   "outputs": [],
   "source": [
    "df['Destination']= df['Destination'].replace({'TRAPPIST-1e' : 0, 'PSO J318.5-22' : 1, '55 Cancri e' : 2})\n",
    "test['Destination']= test['Destination'].replace({'TRAPPIST-1e' : 0, 'PSO J318.5-22' : 1, '55 Cancri e' : 2})"
   ],
   "metadata": {
    "collapsed": false,
    "ExecuteTime": {
     "end_time": "2024-03-07T10:04:04.593995200Z",
     "start_time": "2024-03-07T10:04:04.560580500Z"
    }
   },
   "id": "5efb4c5670a2a1c1",
   "execution_count": 12
  },
  {
   "cell_type": "code",
   "outputs": [
    {
     "data": {
      "text/plain": "                 0      1       2       3      4\nHomePlanet       1      0       1       1      0\nCryoSleep        0      0       0       0      0\nDestination      0      0       0       0      0\nAge           39.0   24.0    58.0    33.0   16.0\nVIP              0      0       1       0      0\nRoomService    0.0  109.0    43.0     0.0  303.0\nFoodCourt      0.0    9.0  3576.0  1283.0   70.0\nShoppingMall   0.0   25.0     0.0   371.0  151.0\nSpa            0.0  549.0  6715.0  3329.0  565.0\nVRDeck         0.0   44.0    49.0   193.0    2.0\nTransported      0      1       0       0      1",
      "text/html": "<div>\n<style scoped>\n    .dataframe tbody tr th:only-of-type {\n        vertical-align: middle;\n    }\n\n    .dataframe tbody tr th {\n        vertical-align: top;\n    }\n\n    .dataframe thead th {\n        text-align: right;\n    }\n</style>\n<table border=\"1\" class=\"dataframe\">\n  <thead>\n    <tr style=\"text-align: right;\">\n      <th></th>\n      <th>0</th>\n      <th>1</th>\n      <th>2</th>\n      <th>3</th>\n      <th>4</th>\n    </tr>\n  </thead>\n  <tbody>\n    <tr>\n      <th>HomePlanet</th>\n      <td>1</td>\n      <td>0</td>\n      <td>1</td>\n      <td>1</td>\n      <td>0</td>\n    </tr>\n    <tr>\n      <th>CryoSleep</th>\n      <td>0</td>\n      <td>0</td>\n      <td>0</td>\n      <td>0</td>\n      <td>0</td>\n    </tr>\n    <tr>\n      <th>Destination</th>\n      <td>0</td>\n      <td>0</td>\n      <td>0</td>\n      <td>0</td>\n      <td>0</td>\n    </tr>\n    <tr>\n      <th>Age</th>\n      <td>39.0</td>\n      <td>24.0</td>\n      <td>58.0</td>\n      <td>33.0</td>\n      <td>16.0</td>\n    </tr>\n    <tr>\n      <th>VIP</th>\n      <td>0</td>\n      <td>0</td>\n      <td>1</td>\n      <td>0</td>\n      <td>0</td>\n    </tr>\n    <tr>\n      <th>RoomService</th>\n      <td>0.0</td>\n      <td>109.0</td>\n      <td>43.0</td>\n      <td>0.0</td>\n      <td>303.0</td>\n    </tr>\n    <tr>\n      <th>FoodCourt</th>\n      <td>0.0</td>\n      <td>9.0</td>\n      <td>3576.0</td>\n      <td>1283.0</td>\n      <td>70.0</td>\n    </tr>\n    <tr>\n      <th>ShoppingMall</th>\n      <td>0.0</td>\n      <td>25.0</td>\n      <td>0.0</td>\n      <td>371.0</td>\n      <td>151.0</td>\n    </tr>\n    <tr>\n      <th>Spa</th>\n      <td>0.0</td>\n      <td>549.0</td>\n      <td>6715.0</td>\n      <td>3329.0</td>\n      <td>565.0</td>\n    </tr>\n    <tr>\n      <th>VRDeck</th>\n      <td>0.0</td>\n      <td>44.0</td>\n      <td>49.0</td>\n      <td>193.0</td>\n      <td>2.0</td>\n    </tr>\n    <tr>\n      <th>Transported</th>\n      <td>0</td>\n      <td>1</td>\n      <td>0</td>\n      <td>0</td>\n      <td>1</td>\n    </tr>\n  </tbody>\n</table>\n</div>"
     },
     "execution_count": 13,
     "metadata": {},
     "output_type": "execute_result"
    }
   ],
   "source": [
    "df.head().T"
   ],
   "metadata": {
    "collapsed": false,
    "ExecuteTime": {
     "end_time": "2024-03-07T10:04:04.596088200Z",
     "start_time": "2024-03-07T10:04:04.575003600Z"
    }
   },
   "id": "6d4b4ef72188e90a",
   "execution_count": 13
  },
  {
   "cell_type": "code",
   "outputs": [],
   "source": [
    "target = 'Transported'\n",
    "\n",
    "y = df[target].values\n",
    "X = df.drop(columns=target).values\n",
    "X_test = test.values"
   ],
   "metadata": {
    "collapsed": false,
    "ExecuteTime": {
     "end_time": "2024-03-07T10:04:04.625446900Z",
     "start_time": "2024-03-07T10:04:04.590886Z"
    }
   },
   "id": "3cbd068adbff904a",
   "execution_count": 14
  },
  {
   "cell_type": "code",
   "outputs": [],
   "source": [
    "model = DecisionTreeClassifier(max_depth=33)\n",
    "model.fit(X, y)\n",
    "pred = model.predict(X_test)\n",
    "submission = pd.read_csv('./test.csv')[[\"PassengerId\"]]\n",
    "submission[\"Transported\"] = pred.astype(bool)\n"
   ],
   "metadata": {
    "collapsed": false,
    "ExecuteTime": {
     "end_time": "2024-03-07T10:04:04.718484900Z",
     "start_time": "2024-03-07T10:04:04.606596400Z"
    }
   },
   "id": "85a810ef3ee57886",
   "execution_count": 15
  },
  {
   "cell_type": "code",
   "outputs": [
    {
     "data": {
      "text/plain": "     PassengerId  Transported\n0        0013_01         True\n1        0018_01        False\n2        0019_01         True\n3        0021_01         True\n4        0023_01        False\n...          ...          ...\n4272     9266_02         True\n4273     9269_01        False\n4274     9271_01         True\n4275     9273_01        False\n4276     9277_01        False\n\n[4277 rows x 2 columns]",
      "text/html": "<div>\n<style scoped>\n    .dataframe tbody tr th:only-of-type {\n        vertical-align: middle;\n    }\n\n    .dataframe tbody tr th {\n        vertical-align: top;\n    }\n\n    .dataframe thead th {\n        text-align: right;\n    }\n</style>\n<table border=\"1\" class=\"dataframe\">\n  <thead>\n    <tr style=\"text-align: right;\">\n      <th></th>\n      <th>PassengerId</th>\n      <th>Transported</th>\n    </tr>\n  </thead>\n  <tbody>\n    <tr>\n      <th>0</th>\n      <td>0013_01</td>\n      <td>True</td>\n    </tr>\n    <tr>\n      <th>1</th>\n      <td>0018_01</td>\n      <td>False</td>\n    </tr>\n    <tr>\n      <th>2</th>\n      <td>0019_01</td>\n      <td>True</td>\n    </tr>\n    <tr>\n      <th>3</th>\n      <td>0021_01</td>\n      <td>True</td>\n    </tr>\n    <tr>\n      <th>4</th>\n      <td>0023_01</td>\n      <td>False</td>\n    </tr>\n    <tr>\n      <th>...</th>\n      <td>...</td>\n      <td>...</td>\n    </tr>\n    <tr>\n      <th>4272</th>\n      <td>9266_02</td>\n      <td>True</td>\n    </tr>\n    <tr>\n      <th>4273</th>\n      <td>9269_01</td>\n      <td>False</td>\n    </tr>\n    <tr>\n      <th>4274</th>\n      <td>9271_01</td>\n      <td>True</td>\n    </tr>\n    <tr>\n      <th>4275</th>\n      <td>9273_01</td>\n      <td>False</td>\n    </tr>\n    <tr>\n      <th>4276</th>\n      <td>9277_01</td>\n      <td>False</td>\n    </tr>\n  </tbody>\n</table>\n<p>4277 rows × 2 columns</p>\n</div>"
     },
     "execution_count": 16,
     "metadata": {},
     "output_type": "execute_result"
    }
   ],
   "source": [
    "submission.to_csv('./submission.csv', index = None)\n",
    "pd.read_csv(\"submission.csv\")"
   ],
   "metadata": {
    "collapsed": false,
    "ExecuteTime": {
     "end_time": "2024-03-07T10:04:04.720606300Z",
     "start_time": "2024-03-07T10:04:04.668546100Z"
    }
   },
   "id": "8e0c9ff113bd332",
   "execution_count": 16
  },
  {
   "cell_type": "code",
   "outputs": [],
   "source": [],
   "metadata": {
    "collapsed": false,
    "ExecuteTime": {
     "end_time": "2024-03-07T10:04:04.721625700Z",
     "start_time": "2024-03-07T10:04:04.699618100Z"
    }
   },
   "id": "ea32041608f90ea6",
   "execution_count": 16
  },
  {
   "cell_type": "code",
   "outputs": [],
   "source": [
    "k = 5\n",
    "def kfold(X, y, k=5):\n",
    "    X_trains = []\n",
    "    y_trains = []\n",
    "    X_vals = []\n",
    "    y_vals = []\n",
    "\n",
    "    for i in range(k):\n",
    "        low = int(len(y) * i / k)\n",
    "        high = int(len(y) * (i + 1) / k)\n",
    "        y_vals.append(y[low:high])\n",
    "        X_vals.append(X[low:high, :])\n",
    "\n",
    "\n",
    "    for i in range(k):\n",
    "        y_temp = []\n",
    "        X_temp = []\n",
    "        for j in range(k):\n",
    "            if j != i:\n",
    "                y_temp.append(y_vals[j])\n",
    "                X_temp.append(X_vals[j])\n",
    "\n",
    "        y_trains.append(np.concatenate(y_temp))\n",
    "        X_trains.append(np.vstack(X_temp))\n",
    "    result = []\n",
    "    for i in range(k):\n",
    "        result.append(((X_trains[i], y_trains[i]), (X_vals[i], y_vals[i])))\n",
    "    return result   "
   ],
   "metadata": {
    "collapsed": false,
    "ExecuteTime": {
     "end_time": "2024-03-07T10:04:04.747980400Z",
     "start_time": "2024-03-07T10:04:04.717380Z"
    }
   },
   "id": "e4a56d02193ec583",
   "execution_count": 17
  },
  {
   "cell_type": "code",
   "outputs": [
    {
     "data": {
      "text/plain": "[<matplotlib.lines.Line2D at 0x1bf10bb82e0>]"
     },
     "execution_count": 18,
     "metadata": {},
     "output_type": "execute_result"
    },
    {
     "data": {
      "text/plain": "<Figure size 640x480 with 1 Axes>",
      "image/png": "[encoded data removed]"
     },
     "metadata": {},
     "output_type": "display_data"
    }
   ],
   "source": [
    "acc_means = []\n",
    "depths = []\n",
    "for d in range(1, 50):\n",
    "    model = DecisionTreeClassifier(max_depth=d)\n",
    "    accs = []\n",
    "    for ((X_train, y_train), (X_val, y_val)) in kfold(X, y):\n",
    "        model.fit(X_train, y_train)\n",
    "        pred = model.predict(X_val)\n",
    "        accs.append(np.mean(pred == y_val))\n",
    "    acc_mean = np.mean(accs)\n",
    "    acc_means.append(acc_mean)\n",
    "    depths.append(d)\n",
    "\n",
    "plt.plot(depths, acc_means)"
   ],
   "metadata": {
    "collapsed": false,
    "ExecuteTime": {
     "end_time": "2024-03-07T10:04:10.659617200Z",
     "start_time": "2024-03-07T10:04:04.733196Z"
    }
   },
   "id": "e045ee8a3bda24d8",
   "execution_count": 18
  },
  {
   "cell_type": "code",
   "outputs": [
    {
     "data": {
      "text/plain": "0.7822389323175006"
     },
     "execution_count": 19,
     "metadata": {},
     "output_type": "execute_result"
    }
   ],
   "source": [
    "model = DecisionTreeClassifier(max_depth=8)\n",
    "accs = []\n",
    "for ((X_train, y_train), (X_val, y_val)) in kfold(X, y, 10):\n",
    "    model.fit(X_train, y_train)\n",
    "    pred = model.predict(X_val)\n",
    "    accs.append(np.mean(pred == y_val))\n",
    "acc_mean = np.mean(accs)\n",
    "acc_mean"
   ],
   "metadata": {
    "collapsed": false,
    "ExecuteTime": {
     "end_time": "2024-03-07T10:04:10.859613600Z",
     "start_time": "2024-03-07T10:04:10.659617200Z"
    }
   },
   "id": "5a5c6fbf7158026b",
   "execution_count": 19
  },
  {
   "cell_type": "code",
   "outputs": [
    {
     "data": {
      "text/plain": "0.7905225983095908"
     },
     "execution_count": 20,
     "metadata": {},
     "output_type": "execute_result"
    }
   ],
   "source": [
    "model = GradientBoostingClassifier()\n",
    "accs = []\n",
    "for ((X_train, y_train), (X_val, y_val)) in kfold(X, y, 10):\n",
    "    model.fit(X_train, y_train)\n",
    "    pred = model.predict(X_val)\n",
    "    accs.append(np.mean(pred == y_val))\n",
    "acc_mean = np.mean(accs)\n",
    "acc_mean"
   ],
   "metadata": {
    "collapsed": false,
    "ExecuteTime": {
     "end_time": "2024-03-07T10:04:17.208635Z",
     "start_time": "2024-03-07T10:04:10.862615600Z"
    }
   },
   "id": "ad404049c80c1e85",
   "execution_count": 20
  },
  {
   "cell_type": "code",
   "outputs": [
    {
     "data": {
      "text/plain": "0.7792485747920056"
     },
     "execution_count": 21,
     "metadata": {},
     "output_type": "execute_result"
    }
   ],
   "source": [
    "model_rf = RandomForestClassifier(n_estimators=100, random_state=42)\n",
    "accs_rf = []\n",
    "for ((X_train, y_train), (X_val, y_val)) in kfold(X, y, 10):\n",
    "    model_rf.fit(X_train, y_train)\n",
    "    pred_rf = model_rf.predict(X_val)\n",
    "    accs_rf.append(np.mean(pred_rf == y_val))\n",
    "    \n",
    "acc_mean_rf = np.mean(accs_rf)\n",
    "acc_mean_rf"
   ],
   "metadata": {
    "collapsed": false,
    "ExecuteTime": {
     "end_time": "2024-03-07T10:04:24.452795700Z",
     "start_time": "2024-03-07T10:04:17.210615100Z"
    }
   },
   "id": "c7ad69a38943a97d",
   "execution_count": 21
  },
  {
   "cell_type": "code",
   "outputs": [
    {
     "data": {
      "text/plain": "[<matplotlib.lines.Line2D at 0x1bf13ad5a20>]"
     },
     "execution_count": 22,
     "metadata": {},
     "output_type": "execute_result"
    },
    {
     "data": {
      "text/plain": "<Figure size 640x480 with 1 Axes>",
      "image/png": "[encoded data removed]"
     },
     "metadata": {},
     "output_type": "display_data"
    }
   ],
   "source": [
    "acc_means = []\n",
    "depths = []\n",
    "for d in range(1, 60):\n",
    "    model = DecisionTreeClassifier(max_depth=d)\n",
    "    accs = []\n",
    "    model.fit(X, y)\n",
    "    pred = model.predict(X)\n",
    "    accs.append(np.mean(pred == y))\n",
    "    acc_mean = np.mean(accs)\n",
    "    acc_means.append(acc_mean)\n",
    "    depths.append(d)\n",
    "\n",
    "plt.plot(depths, acc_means)"
   ],
   "metadata": {
    "collapsed": false,
    "ExecuteTime": {
     "end_time": "2024-03-07T10:04:26.544848500Z",
     "start_time": "2024-03-07T10:04:24.447775900Z"
    }
   },
   "id": "7e844ea987cf1b88",
   "execution_count": 22
  }
 ],
 "metadata": {
  "kernelspec": {
   "display_name": "Python 3",
   "language": "python",
   "name": "python3"
  },
  "language_info": {
   "codemirror_mode": {
    "name": "ipython",
    "version": 2
   },
   "file_extension": ".py",
   "mimetype": "text/x-python",
   "name": "python",
   "nbconvert_exporter": "python",
   "pygments_lexer": "ipython2",
   "version": "2.7.6"
  }
 },
 "nbformat": 4,
 "nbformat_minor": 5
}
